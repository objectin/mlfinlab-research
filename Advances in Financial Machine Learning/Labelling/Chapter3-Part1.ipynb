{
 "cells": [
  {
   "cell_type": "markdown",
   "metadata": {},
   "source": [
    "# Chapter 3 Questions"
   ]
  },
  {
   "cell_type": "markdown",
   "metadata": {},
   "source": [
    "#### 3.1 Form dollar bars for E-mini S&P 500 futures:\n",
    "1. Apply a symmetric CUSUM filter (Chapter 2, Section 2.5.2.1) where the threshold is the standard deviation of daily returns (Snippet 3.1).\n",
    "2. Use Snippet 3.4 on a pandas series t1, where numDays=1.\n",
    "3. On those sampled features, apply the triple-barrier method, where ptSl=[1,1] and t1 is the series you created in point 1.b.\n",
    "4. Apply getBins to generate the labels."
   ]
  },
  {
   "cell_type": "code",
   "execution_count": 1,
   "metadata": {},
   "outputs": [],
   "source": [
    "# Import the Hudson and Thames MlFinLab package\n",
    "import mlfinlab as ml"
   ]
  },
  {
   "cell_type": "code",
   "execution_count": 2,
   "metadata": {},
   "outputs": [],
   "source": [
    "import numpy as np\n",
    "import pandas as pd\n",
    "import timeit\n",
    "\n",
    "from sklearn.ensemble import RandomForestClassifier\n",
    "from sklearn.model_selection import train_test_split\n",
    "from sklearn.metrics import roc_curve, classification_report, confusion_matrix\n",
    "\n",
    "import matplotlib.pyplot as plt\n",
    "%matplotlib inline"
   ]
  },
  {
   "cell_type": "code",
   "execution_count": 3,
   "metadata": {},
   "outputs": [],
   "source": [
    "# Read in data\n",
    "data = pd.read_csv('official_data/dollar_bars.csv', nrows=40000)\n",
    "data.index = pd.to_datetime(data['date_time'])\n",
    "data = data.drop('date_time', axis=1)"
   ]
  },
  {
   "cell_type": "code",
   "execution_count": 4,
   "metadata": {},
   "outputs": [
    {
     "data": {
      "text/html": [
       "<div>\n",
       "<style scoped>\n",
       "    .dataframe tbody tr th:only-of-type {\n",
       "        vertical-align: middle;\n",
       "    }\n",
       "\n",
       "    .dataframe tbody tr th {\n",
       "        vertical-align: top;\n",
       "    }\n",
       "\n",
       "    .dataframe thead th {\n",
       "        text-align: right;\n",
       "    }\n",
       "</style>\n",
       "<table border=\"1\" class=\"dataframe\">\n",
       "  <thead>\n",
       "    <tr style=\"text-align: right;\">\n",
       "      <th></th>\n",
       "      <th>open</th>\n",
       "      <th>high</th>\n",
       "      <th>low</th>\n",
       "      <th>close</th>\n",
       "      <th>cum_vol</th>\n",
       "      <th>cum_dollar</th>\n",
       "      <th>cum_ticks</th>\n",
       "    </tr>\n",
       "    <tr>\n",
       "      <th>date_time</th>\n",
       "      <th></th>\n",
       "      <th></th>\n",
       "      <th></th>\n",
       "      <th></th>\n",
       "      <th></th>\n",
       "      <th></th>\n",
       "      <th></th>\n",
       "    </tr>\n",
       "  </thead>\n",
       "  <tbody>\n",
       "    <tr>\n",
       "      <th>2011-07-31 23:31:58.810</th>\n",
       "      <td>1306.00</td>\n",
       "      <td>1308.75</td>\n",
       "      <td>1301.75</td>\n",
       "      <td>1305.75</td>\n",
       "      <td>53658</td>\n",
       "      <td>70035704.75</td>\n",
       "      <td>14115</td>\n",
       "    </tr>\n",
       "    <tr>\n",
       "      <th>2011-08-01 02:55:17.443</th>\n",
       "      <td>1305.75</td>\n",
       "      <td>1309.50</td>\n",
       "      <td>1304.00</td>\n",
       "      <td>1306.50</td>\n",
       "      <td>53552</td>\n",
       "      <td>70006277.00</td>\n",
       "      <td>15422</td>\n",
       "    </tr>\n",
       "    <tr>\n",
       "      <th>2011-08-01 07:25:56.319</th>\n",
       "      <td>1306.75</td>\n",
       "      <td>1309.75</td>\n",
       "      <td>1304.75</td>\n",
       "      <td>1305.00</td>\n",
       "      <td>53543</td>\n",
       "      <td>70000901.00</td>\n",
       "      <td>14727</td>\n",
       "    </tr>\n",
       "    <tr>\n",
       "      <th>2011-08-01 08:33:10.903</th>\n",
       "      <td>1305.00</td>\n",
       "      <td>1305.00</td>\n",
       "      <td>1299.00</td>\n",
       "      <td>1300.00</td>\n",
       "      <td>53830</td>\n",
       "      <td>70094217.75</td>\n",
       "      <td>14987</td>\n",
       "    </tr>\n",
       "    <tr>\n",
       "      <th>2011-08-01 10:51:41.842</th>\n",
       "      <td>1300.00</td>\n",
       "      <td>1307.75</td>\n",
       "      <td>1299.00</td>\n",
       "      <td>1307.75</td>\n",
       "      <td>53734</td>\n",
       "      <td>70033006.25</td>\n",
       "      <td>14499</td>\n",
       "    </tr>\n",
       "  </tbody>\n",
       "</table>\n",
       "</div>"
      ],
      "text/plain": [
       "                            open     high      low    close  cum_vol  \\\n",
       "date_time                                                              \n",
       "2011-07-31 23:31:58.810  1306.00  1308.75  1301.75  1305.75    53658   \n",
       "2011-08-01 02:55:17.443  1305.75  1309.50  1304.00  1306.50    53552   \n",
       "2011-08-01 07:25:56.319  1306.75  1309.75  1304.75  1305.00    53543   \n",
       "2011-08-01 08:33:10.903  1305.00  1305.00  1299.00  1300.00    53830   \n",
       "2011-08-01 10:51:41.842  1300.00  1307.75  1299.00  1307.75    53734   \n",
       "\n",
       "                          cum_dollar  cum_ticks  \n",
       "date_time                                        \n",
       "2011-07-31 23:31:58.810  70035704.75      14115  \n",
       "2011-08-01 02:55:17.443  70006277.00      15422  \n",
       "2011-08-01 07:25:56.319  70000901.00      14727  \n",
       "2011-08-01 08:33:10.903  70094217.75      14987  \n",
       "2011-08-01 10:51:41.842  70033006.25      14499  "
      ]
     },
     "execution_count": 4,
     "metadata": {},
     "output_type": "execute_result"
    }
   ],
   "source": [
    "data.head()"
   ]
  },
  {
   "cell_type": "markdown",
   "metadata": {},
   "source": [
    "**Apply a symmetric CUSUM filter (Chapter 2, Section 2.5.2.1) where the threshold is the standard deviation of daily returns (Snippet 3.1).**"
   ]
  },
  {
   "cell_type": "code",
   "execution_count": 5,
   "metadata": {},
   "outputs": [],
   "source": [
    "# Compute daily volatility\n",
    "vol = ml.util.get_daily_vol(close=data['close'], lookback=50)"
   ]
  },
  {
   "cell_type": "code",
   "execution_count": 6,
   "metadata": {},
   "outputs": [
    {
     "data": {
      "image/png": "[encoded data removed]",
      "text/plain": [
       "<Figure size 1008x504 with 1 Axes>"
      ]
     },
     "metadata": {
      "needs_background": "light"
     },
     "output_type": "display_data"
    }
   ],
   "source": [
    "vol.plot(figsize=(14, 7), title='Volatility as caclulated by de Prado')\n",
    "plt.show()"
   ]
  },
  {
   "cell_type": "code",
   "execution_count": 7,
   "metadata": {},
   "outputs": [],
   "source": [
    "# Apply Symmetric CUSUM Filter and get timestamps for events\n",
    "# Note: Only the CUSUM filter needs a point estimate for volatility\n",
    "cusum_events = ml.filters.cusum_filter(data['close'], threshold=vol.mean())"
   ]
  },
  {
   "cell_type": "markdown",
   "metadata": {},
   "source": [
    "**Use Snippet 3.4 on a pandas series t1, where numDays=1.**"
   ]
  },
  {
   "cell_type": "code",
   "execution_count": 8,
   "metadata": {},
   "outputs": [
    {
     "data": {
      "text/plain": [
       "2011-08-01 10:51:41.842   2011-08-02 10:52:48.191\n",
       "2011-08-01 13:36:46.215   2011-08-02 13:37:28.849\n",
       "2011-08-01 14:00:21.448   2011-08-02 14:04:29.869\n",
       "2011-08-01 14:03:22.782   2011-08-02 14:04:29.869\n",
       "2011-08-01 14:21:49.179   2011-08-02 14:27:55.423\n",
       "Name: date_time, dtype: datetime64[ns]"
      ]
     },
     "execution_count": 8,
     "metadata": {},
     "output_type": "execute_result"
    }
   ],
   "source": [
    "# Compute vertical barrier\n",
    "vertical_barriers = ml.labeling.add_vertical_barrier(cusum_events, data['close'])\n",
    "vertical_barriers.head()"
   ]
  },
  {
   "cell_type": "markdown",
   "metadata": {},
   "source": [
    "**On those sampled features, apply the triple-barrier method, where ptSl=[1,1] and t1 is the series you created in point 1.b.**"
   ]
  },
  {
   "cell_type": "code",
   "execution_count": 9,
   "metadata": {},
   "outputs": [
    {
     "name": "stderr",
     "output_type": "stream",
     "text": [
      "/home/jackal08/anaconda3/envs/test_pip/lib/python3.6/site-packages/mlfinlab/labeling/labeling.py:117: FutureWarning: \n",
      "Passing list-likes to .loc or [] with any missing label will raise\n",
      "KeyError in the future, you can use .reindex() as an alternative.\n",
      "\n",
      "See the documentation here:\n",
      "https://pandas.pydata.org/pandas-docs/stable/indexing.html#deprecate-loc-reindex-listlike\n",
      "  target = target.loc[t_events]\n"
     ]
    }
   ],
   "source": [
    "triple_barrier_events = ml.labeling.get_events(close=data['close'],\n",
    "                                               t_events=cusum_events,\n",
    "                                               pt_sl=[1, 1],\n",
    "                                               target=vol,\n",
    "                                               min_ret=0.01,\n",
    "                                               num_threads=1,\n",
    "                                               vertical_barrier_times=vertical_barriers,\n",
    "                                               side_prediction=None)"
   ]
  },
  {
   "cell_type": "code",
   "execution_count": 10,
   "metadata": {},
   "outputs": [
    {
     "data": {
      "text/html": [
       "<div>\n",
       "<style scoped>\n",
       "    .dataframe tbody tr th:only-of-type {\n",
       "        vertical-align: middle;\n",
       "    }\n",
       "\n",
       "    .dataframe tbody tr th {\n",
       "        vertical-align: top;\n",
       "    }\n",
       "\n",
       "    .dataframe thead th {\n",
       "        text-align: right;\n",
       "    }\n",
       "</style>\n",
       "<table border=\"1\" class=\"dataframe\">\n",
       "  <thead>\n",
       "    <tr style=\"text-align: right;\">\n",
       "      <th></th>\n",
       "      <th>t1</th>\n",
       "      <th>trgt</th>\n",
       "    </tr>\n",
       "  </thead>\n",
       "  <tbody>\n",
       "    <tr>\n",
       "      <th>2011-08-04 01:57:00.466</th>\n",
       "      <td>2011-08-04 10:27:24.326</td>\n",
       "      <td>0.011841</td>\n",
       "    </tr>\n",
       "    <tr>\n",
       "      <th>2011-08-04 09:08:28.542</th>\n",
       "      <td>2011-08-04 12:43:40.327</td>\n",
       "      <td>0.012108</td>\n",
       "    </tr>\n",
       "    <tr>\n",
       "      <th>2011-08-04 10:27:24.326</th>\n",
       "      <td>2011-08-04 14:58:04.748</td>\n",
       "      <td>0.011682</td>\n",
       "    </tr>\n",
       "    <tr>\n",
       "      <th>2011-08-04 12:29:39.619</th>\n",
       "      <td>2011-08-04 15:01:19.020</td>\n",
       "      <td>0.011022</td>\n",
       "    </tr>\n",
       "    <tr>\n",
       "      <th>2011-08-04 19:44:06.743</th>\n",
       "      <td>2011-08-05 13:54:12.782</td>\n",
       "      <td>0.011423</td>\n",
       "    </tr>\n",
       "  </tbody>\n",
       "</table>\n",
       "</div>"
      ],
      "text/plain": [
       "                                             t1      trgt\n",
       "2011-08-04 01:57:00.466 2011-08-04 10:27:24.326  0.011841\n",
       "2011-08-04 09:08:28.542 2011-08-04 12:43:40.327  0.012108\n",
       "2011-08-04 10:27:24.326 2011-08-04 14:58:04.748  0.011682\n",
       "2011-08-04 12:29:39.619 2011-08-04 15:01:19.020  0.011022\n",
       "2011-08-04 19:44:06.743 2011-08-05 13:54:12.782  0.011423"
      ]
     },
     "execution_count": 10,
     "metadata": {},
     "output_type": "execute_result"
    }
   ],
   "source": [
    "triple_barrier_events.head()"
   ]
  },
  {
   "cell_type": "code",
   "execution_count": 11,
   "metadata": {},
   "outputs": [],
   "source": [
    "labels = ml.labeling.get_bins(triple_barrier_events, data['close'])"
   ]
  },
  {
   "cell_type": "code",
   "execution_count": 12,
   "metadata": {},
   "outputs": [
    {
     "data": {
      "text/html": [
       "<div>\n",
       "<style scoped>\n",
       "    .dataframe tbody tr th:only-of-type {\n",
       "        vertical-align: middle;\n",
       "    }\n",
       "\n",
       "    .dataframe tbody tr th {\n",
       "        vertical-align: top;\n",
       "    }\n",
       "\n",
       "    .dataframe thead th {\n",
       "        text-align: right;\n",
       "    }\n",
       "</style>\n",
       "<table border=\"1\" class=\"dataframe\">\n",
       "  <thead>\n",
       "    <tr style=\"text-align: right;\">\n",
       "      <th></th>\n",
       "      <th>ret</th>\n",
       "      <th>trgt</th>\n",
       "      <th>bin</th>\n",
       "    </tr>\n",
       "  </thead>\n",
       "  <tbody>\n",
       "    <tr>\n",
       "      <th>2011-08-04 01:57:00.466</th>\n",
       "      <td>-0.016254</td>\n",
       "      <td>0.011841</td>\n",
       "      <td>-1</td>\n",
       "    </tr>\n",
       "    <tr>\n",
       "      <th>2011-08-04 09:08:28.542</th>\n",
       "      <td>-0.012762</td>\n",
       "      <td>0.012108</td>\n",
       "      <td>-1</td>\n",
       "    </tr>\n",
       "    <tr>\n",
       "      <th>2011-08-04 10:27:24.326</th>\n",
       "      <td>-0.011686</td>\n",
       "      <td>0.011682</td>\n",
       "      <td>-1</td>\n",
       "    </tr>\n",
       "    <tr>\n",
       "      <th>2011-08-04 12:29:39.619</th>\n",
       "      <td>-0.011907</td>\n",
       "      <td>0.011022</td>\n",
       "      <td>-1</td>\n",
       "    </tr>\n",
       "    <tr>\n",
       "      <th>2011-08-04 19:44:06.743</th>\n",
       "      <td>-0.012887</td>\n",
       "      <td>0.011423</td>\n",
       "      <td>-1</td>\n",
       "    </tr>\n",
       "  </tbody>\n",
       "</table>\n",
       "</div>"
      ],
      "text/plain": [
       "                              ret      trgt  bin\n",
       "2011-08-04 01:57:00.466 -0.016254  0.011841   -1\n",
       "2011-08-04 09:08:28.542 -0.012762  0.012108   -1\n",
       "2011-08-04 10:27:24.326 -0.011686  0.011682   -1\n",
       "2011-08-04 12:29:39.619 -0.011907  0.011022   -1\n",
       "2011-08-04 19:44:06.743 -0.012887  0.011423   -1"
      ]
     },
     "execution_count": 12,
     "metadata": {},
     "output_type": "execute_result"
    }
   ],
   "source": [
    "labels.head()"
   ]
  },
  {
   "cell_type": "code",
   "execution_count": 13,
   "metadata": {},
   "outputs": [
    {
     "data": {
      "text/plain": [
       " 1    255\n",
       "-1    207\n",
       " 0    198\n",
       "Name: bin, dtype: int64"
      ]
     },
     "execution_count": 13,
     "metadata": {},
     "output_type": "execute_result"
    }
   ],
   "source": [
    "labels['bin'].value_counts()"
   ]
  },
  {
   "cell_type": "markdown",
   "metadata": {},
   "source": [
    "---\n",
    "#### 3.2 From exercise 1, use Snippet 3.8 to drop rare labels."
   ]
  },
  {
   "cell_type": "code",
   "execution_count": 14,
   "metadata": {},
   "outputs": [],
   "source": [
    "clean_labels = ml.labeling.drop_labels(labels)"
   ]
  },
  {
   "cell_type": "code",
   "execution_count": 15,
   "metadata": {},
   "outputs": [
    {
     "name": "stdout",
     "output_type": "stream",
     "text": [
      "(660, 3)\n",
      "(660, 3)\n"
     ]
    }
   ],
   "source": [
    "print(labels.shape)\n",
    "print(clean_labels.shape)"
   ]
  },
  {
   "cell_type": "markdown",
   "metadata": {},
   "source": [
    "---\n",
    "#### 3.3 Adjust the getBins function (Snippet 3.5) to return a 0 whenever the vertical barrier is the one touched first.\n",
    "This change was made inside the module CoreFunctions."
   ]
  },
  {
   "cell_type": "markdown",
   "metadata": {},
   "source": [
    "---\n",
    "#### 3.4 Develop a trend-following strategy based on a popular technical analysis statistic (e.g., crossing moving averages). For each observation, themodel suggests a side, but not a size of the bet.\n",
    "\n",
    "1. Derive meta-labels for pt_sl = [1,2] and t1 where num_days=1. Use as trgt the daily standard deviation as computed by Snippet 3.1.\n",
    "2. Train a random forest to decide whether to trade or not. Note: The decision is whether to trade or not, {0,1}, since the underllying model (the crossing moveing average has decided the side{-1, 1})"
   ]
  },
  {
   "cell_type": "code",
   "execution_count": 16,
   "metadata": {},
   "outputs": [],
   "source": [
    "# This question is answered in the notebook: 2019-03-06_JJ_Trend-Following-Question"
   ]
  },
  {
   "cell_type": "markdown",
   "metadata": {},
   "source": [
    "----\n",
    "#### 3.5 Develop a mean-reverting strategy based on Bollinger bands. For each observation, the model suggests a side, but not a size of the bet.\n",
    "\n",
    "* (a) Derive meta-labels for ptSl = [0, 2] and t1 where numDays = 1. Use as trgt the daily standard deviation as computed by Snippet 3.1.\n",
    "* (b) Train a random forest to decide whether to trade or not. Use as features: volatility, seial correlation, and teh crossinmg moving averages.\n",
    "* (c) What is teh accuracy of prediction from the primary model? (i.e. if the secondary model does not filter the bets) What are the precision, recall and FI-scores?\n",
    "* (d) What is teh accuracy of prediction from the primary model? What are the precision, recall and FI-scores?\n"
   ]
  },
  {
   "cell_type": "code",
   "execution_count": 17,
   "metadata": {},
   "outputs": [],
   "source": [
    "# This question is answered in the notebook: 2019-03-07_BBand-Question"
   ]
  }
 ],
 "metadata": {
  "kernelspec": {
   "display_name": "Python 3",
   "language": "python",
   "name": "python3"
  },
  "language_info": {
   "codemirror_mode": {
    "name": "ipython",
    "version": 3
   },
   "file_extension": ".py",
   "mimetype": "text/x-python",
   "name": "python",
   "nbconvert_exporter": "python",
   "pygments_lexer": "ipython3",
   "version": "3.6.8"
  }
 },
 "nbformat": 4,
 "nbformat_minor": 2
}
