{
 "cells": [
  {
   "cell_type": "markdown",
   "metadata": {},
   "source": [
    "* By: Harkishan Singh Baniya\n",
    "* Email: harkishansinghbaniya@gmail.com\n",
    "* Reference (Paper): https://papers.ssrn.com/sol3/papers.cfm?abstract_id=3517595\n",
    "* Reference (Book) : Machine Learning for Asset Managers by Dr. Marcos Lopez De Prado"
   ]
  },
  {
   "cell_type": "markdown",
   "metadata": {},
   "source": [
    "# Clustered Feature Importance"
   ]
  },
  {
   "cell_type": "markdown",
   "metadata": {},
   "source": [
    "The goal of these notebook is demostrate the Clustered Feature Imporatance, a feature importance method suggested by **Dr. Marcos Lopez de Prado** in the [paper](https://papers.ssrn.com/sol3/papers.cfm?abstract_id=3517595) and the book Machine Learning for Asset Managers. The aim of CFI is to cluster similar features and apply the feature importance analysis at the cluster level. This way clusters are mutually dissimilar and the method is tends tame the substitution effect and  by using information theory along we can also reduce the multicollinearity of the dataset."
   ]
  },
  {
   "cell_type": "code",
   "execution_count": 1,
   "metadata": {},
   "outputs": [
    {
     "name": "stdout",
     "output_type": "stream",
     "text": [
      "\n",
      "\n",
      "Support us on Patreon: https://www.patreon.com/HudsonThames\n",
      "\n",
      "MlFinLab needs you! We need your help for us to keep on maintaining and implementing academic research based on \n",
      "financial machine learning (for open-source). In order for us to continue we need to raise $4000 of monthly donations\n",
      "via Patreon - by December 2020. If we can't reach our goal, we will need to adopt more of a paid for service. We thought\n",
      "that the best and least impactful course of action (should we not reach our goal) is to leave the package as open-source\n",
      "but to make the documentation (ReadTheDocs) a paid for service. This is the ultimate litmus test, if the package is a \n",
      "value add, then we need the community to help us keep it going.\n",
      "\n",
      "Our road map for 2020 is to implement the text book: Machine Learning for Asset Managers by Marcos Lopez de Prado, \n",
      "as well as a few papers from the Journal of Financial Data Science. We are hiring a full time developer for 3 months \n",
      "to help us reach our goals. The money that you, our sponsors, contribute will go directly to paying salaries and other \n",
      "expenses such as journal subscriptions and data. \n",
      "\n",
      "We need your help to continue maintaining and developing this community. Thank you for using our package and we \n",
      "invite you to join our slack channel using the following link:\n",
      "https://join.slack.com/t/mlfinlab/shared_invite/zt-c62u9gpz-VFc13j6da~UVg3DkV7~RjQ\n",
      "\n",
      "\n",
      "\n"
     ]
    }
   ],
   "source": [
    "# General Imports \n",
    "import warnings\n",
    "warnings.filterwarnings('ignore')\n",
    "\n",
    "import numpy as np\n",
    "import pandas as pd\n",
    "import seaborn as sns\n",
    "import matplotlib.pyplot as plt\n",
    "\n",
    "import mlfinlab as ml"
   ]
  },
  {
   "cell_type": "markdown",
   "metadata": {},
   "source": [
    "**Clustered Feature Importance or CFI algorithm can be implemented in a two step process as mentioned in the book.**\n"
   ]
  },
  {
   "cell_type": "markdown",
   "metadata": {},
   "source": [
    "## Step - 1 : Features Clustering"
   ]
  },
  {
   "cell_type": "markdown",
   "metadata": {},
   "source": [
    "As first step we need to generate the clusters or subsets of features we want to analyse with feature importance methods. This can be done using feature cluster module of mlfinlab. It uses various parameters to generating feature clusters as in the book."
   ]
  },
  {
   "cell_type": "markdown",
   "metadata": {},
   "source": [
    "* The algorithm projects the observed features into a metric space by applying a dependence matric function either correlation based or information theory based. Information-theoretic metrics have the advantage of recognizing redundant features that are the result of nonlinear combinations of informative features (i.e. multicollinearity). \n",
    "* Next, we need to determine the optimal number of clusters. The user can either specify the number cluster to use, this will apply a hierarchical clustering on the defined distance matrix of dependence matrix for a given linkage method for clustering, or the user can use the ONC algorithm which uses K-Means clustering, to automate the task of either getting the optimal number of clusters or get both optimal number of clusters and cluster compositions. \n",
    "\n",
    "But the *caveat* of these process is that some silhouette scores may be low due one feature being a combination of multiple features across clusters. This is a problem, because ONC cannot assign one feature to multiple clusters. Hence, the following transformation may help reduce the multicollinearity of the system:"
   ]
  },
  {
   "cell_type": "code",
   "execution_count": 2,
   "metadata": {},
   "outputs": [],
   "source": [
    "from mlfinlab.util.generate_dataset import get_classification_data \n",
    "from mlfinlab.clustering.feature_clusters import get_feature_clusters"
   ]
  },
  {
   "cell_type": "code",
   "execution_count": 3,
   "metadata": {},
   "outputs": [],
   "source": [
    "#Generating a synthetic dataset for testing \n",
    "# We generate 40 features, 5 informative  ('I_') , 30 redudent ('R_') and rest (5) noisy ('N_') features with 10000 rows of samples \n",
    "# Redundent features are those which share large amount of information among each other and also with informative features \n",
    "# That is the redudent features are those with substitution effect.\n",
    "X, y = get_classification_data(n_features=40,n_informative=5,n_redundant=30,n_samples=10000,sigmaStd=0.1)"
   ]
  },
  {
   "cell_type": "code",
   "execution_count": 4,
   "metadata": {},
   "outputs": [
    {
     "data": {
      "text/html": [
       "<div>\n",
       "<style scoped>\n",
       "    .dataframe tbody tr th:only-of-type {\n",
       "        vertical-align: middle;\n",
       "    }\n",
       "\n",
       "    .dataframe tbody tr th {\n",
       "        vertical-align: top;\n",
       "    }\n",
       "\n",
       "    .dataframe thead th {\n",
       "        text-align: right;\n",
       "    }\n",
       "</style>\n",
       "<table border=\"1\" class=\"dataframe\">\n",
       "  <thead>\n",
       "    <tr style=\"text-align: right;\">\n",
       "      <th></th>\n",
       "      <th>I_0</th>\n",
       "      <th>I_1</th>\n",
       "      <th>I_2</th>\n",
       "      <th>I_3</th>\n",
       "      <th>I_4</th>\n",
       "      <th>N_0</th>\n",
       "      <th>N_1</th>\n",
       "      <th>N_2</th>\n",
       "      <th>N_3</th>\n",
       "      <th>N_4</th>\n",
       "      <th>...</th>\n",
       "      <th>R_20</th>\n",
       "      <th>R_21</th>\n",
       "      <th>R_22</th>\n",
       "      <th>R_23</th>\n",
       "      <th>R_24</th>\n",
       "      <th>R_25</th>\n",
       "      <th>R_26</th>\n",
       "      <th>R_27</th>\n",
       "      <th>R_28</th>\n",
       "      <th>R_29</th>\n",
       "    </tr>\n",
       "  </thead>\n",
       "  <tbody>\n",
       "    <tr>\n",
       "      <td>0</td>\n",
       "      <td>2.105359</td>\n",
       "      <td>2.861661</td>\n",
       "      <td>0.104159</td>\n",
       "      <td>0.686149</td>\n",
       "      <td>1.369429</td>\n",
       "      <td>-0.868903</td>\n",
       "      <td>-1.297125</td>\n",
       "      <td>-0.160205</td>\n",
       "      <td>-0.481024</td>\n",
       "      <td>0.841338</td>\n",
       "      <td>...</td>\n",
       "      <td>0.777001</td>\n",
       "      <td>2.207398</td>\n",
       "      <td>0.655435</td>\n",
       "      <td>2.142781</td>\n",
       "      <td>0.004543</td>\n",
       "      <td>0.815639</td>\n",
       "      <td>2.109815</td>\n",
       "      <td>2.762477</td>\n",
       "      <td>0.863380</td>\n",
       "      <td>0.588109</td>\n",
       "    </tr>\n",
       "    <tr>\n",
       "      <td>1</td>\n",
       "      <td>-0.330754</td>\n",
       "      <td>1.464379</td>\n",
       "      <td>-1.405119</td>\n",
       "      <td>0.396713</td>\n",
       "      <td>-1.722305</td>\n",
       "      <td>0.471952</td>\n",
       "      <td>-1.443687</td>\n",
       "      <td>-0.433773</td>\n",
       "      <td>0.123114</td>\n",
       "      <td>-0.102970</td>\n",
       "      <td>...</td>\n",
       "      <td>0.355247</td>\n",
       "      <td>-0.295893</td>\n",
       "      <td>0.445317</td>\n",
       "      <td>-0.376633</td>\n",
       "      <td>-1.364581</td>\n",
       "      <td>0.393410</td>\n",
       "      <td>-0.647636</td>\n",
       "      <td>1.561900</td>\n",
       "      <td>0.517651</td>\n",
       "      <td>0.460849</td>\n",
       "    </tr>\n",
       "    <tr>\n",
       "      <td>2</td>\n",
       "      <td>-0.461334</td>\n",
       "      <td>-0.160432</td>\n",
       "      <td>-2.169501</td>\n",
       "      <td>-0.137535</td>\n",
       "      <td>0.398229</td>\n",
       "      <td>-0.278979</td>\n",
       "      <td>-1.860566</td>\n",
       "      <td>0.909540</td>\n",
       "      <td>-0.396742</td>\n",
       "      <td>2.455228</td>\n",
       "      <td>...</td>\n",
       "      <td>-0.172824</td>\n",
       "      <td>-0.421676</td>\n",
       "      <td>-0.132882</td>\n",
       "      <td>-0.351309</td>\n",
       "      <td>-2.156682</td>\n",
       "      <td>-0.214241</td>\n",
       "      <td>-0.399131</td>\n",
       "      <td>-0.081916</td>\n",
       "      <td>-0.092813</td>\n",
       "      <td>-0.166722</td>\n",
       "    </tr>\n",
       "  </tbody>\n",
       "</table>\n",
       "<p>3 rows × 40 columns</p>\n",
       "</div>"
      ],
      "text/plain": [
       "        I_0       I_1       I_2       I_3       I_4       N_0       N_1  \\\n",
       "0  2.105359  2.861661  0.104159  0.686149  1.369429 -0.868903 -1.297125   \n",
       "1 -0.330754  1.464379 -1.405119  0.396713 -1.722305  0.471952 -1.443687   \n",
       "2 -0.461334 -0.160432 -2.169501 -0.137535  0.398229 -0.278979 -1.860566   \n",
       "\n",
       "        N_2       N_3       N_4  ...      R_20      R_21      R_22      R_23  \\\n",
       "0 -0.160205 -0.481024  0.841338  ...  0.777001  2.207398  0.655435  2.142781   \n",
       "1 -0.433773  0.123114 -0.102970  ...  0.355247 -0.295893  0.445317 -0.376633   \n",
       "2  0.909540 -0.396742  2.455228  ... -0.172824 -0.421676 -0.132882 -0.351309   \n",
       "\n",
       "       R_24      R_25      R_26      R_27      R_28      R_29  \n",
       "0  0.004543  0.815639  2.109815  2.762477  0.863380  0.588109  \n",
       "1 -1.364581  0.393410 -0.647636  1.561900  0.517651  0.460849  \n",
       "2 -2.156682 -0.214241 -0.399131 -0.081916 -0.092813 -0.166722  \n",
       "\n",
       "[3 rows x 40 columns]"
      ]
     },
     "execution_count": 4,
     "metadata": {},
     "output_type": "execute_result"
    }
   ],
   "source": [
    "X.head(3)"
   ]
  },
  {
   "cell_type": "code",
   "execution_count": 5,
   "metadata": {},
   "outputs": [
    {
     "name": "stdout",
     "output_type": "stream",
     "text": [
      "There is no feature/s found with low silhouette score. All features belongs to its respective clusters\n"
     ]
    }
   ],
   "source": [
    "#Now we get the feature clusters\n",
    "dep_matrix = 'linear' # linear correlation base dependence matric\n",
    "# n_cluster is set to None for getting the Optimal Number of Clusters using ONC Algorithm\n",
    "clusters = get_feature_clusters(X,dependence_metric=dep_matrix,distance_metric=None,linkage_method=None,n_clusters=None)"
   ]
  },
  {
   "cell_type": "code",
   "execution_count": 6,
   "metadata": {},
   "outputs": [
    {
     "data": {
      "text/plain": [
       "[['I_2', 'R_7', 'R_12', 'R_24'],\n",
       " ['I_1', 'R_5', 'R_13', 'R_15', 'R_16', 'R_18', 'R_27'],\n",
       " ['I_3', 'R_2', 'R_3', 'R_4', 'R_6', 'R_20', 'R_22', 'R_25', 'R_28', 'R_29'],\n",
       " ['I_4', 'R_0', 'R_8', 'R_11', 'R_19'],\n",
       " ['I_0', 'R_1', 'R_9', 'R_10', 'R_14', 'R_17', 'R_21', 'R_23', 'R_26'],\n",
       " ['N_0', 'N_1', 'N_2', 'N_3', 'N_4']]"
      ]
     },
     "execution_count": 6,
     "metadata": {},
     "output_type": "execute_result"
    }
   ],
   "source": [
    "clusters"
   ]
  },
  {
   "cell_type": "markdown",
   "metadata": {},
   "source": [
    "As we can see that algorithm have not detected any features with low silhoutte score. So, there is no need replace the features with their residuals*. Now, that we have identified the number clusters (six in this case) and composition of features with in each cluster, we can move to the next step.\n",
    "<br> ( *This will be discussed in the later part of this notebook)"
   ]
  },
  {
   "cell_type": "markdown",
   "metadata": {},
   "source": [
    "## Step - 2 : Clustered Importance"
   ]
  },
  {
   "cell_type": "markdown",
   "metadata": {},
   "source": [
    "Clustered Feature Importance can be implemented by simply passing the feature clusters obtained in Step-1 to the **clustered_subsets** argument of the MDI or MDA feature importance algorithm. We can apply MDI and MDA on groups of similar features, rather than on individual features and obtain the importance of the cluster as whole instead of individual features. This way we can anlayse how mutually dissimilar clusters interact with model and possibly isolate the noisy/non-infomative clusters."
   ]
  },
  {
   "cell_type": "code",
   "execution_count": 7,
   "metadata": {},
   "outputs": [],
   "source": [
    "from sklearn.metrics import accuracy_score, log_loss\n",
    "from sklearn.tree import DecisionTreeClassifier\n",
    "from sklearn.ensemble import BaggingClassifier\n",
    "from sklearn.model_selection._split import KFold\n",
    "#for out of sample score\n",
    "from mlfinlab.cross_validation import  ml_cross_val_score\n",
    "#Import MDI and MDA\n",
    "from mlfinlab.feature_importance import mean_decrease_impurity, mean_decrease_accuracy ,plot_feature_importance\n"
   ]
  },
  {
   "cell_type": "code",
   "execution_count": 8,
   "metadata": {},
   "outputs": [],
   "source": [
    "#Setup for feature importance algorithm \n",
    "#We define a classifier \n",
    "clf_base = DecisionTreeClassifier(criterion='entropy',max_features=1, class_weight='balanced',min_weight_fraction_leaf=0)\n",
    "clf = BaggingClassifier(base_estimator=clf_base,n_estimators=1000, max_features=1.,max_samples=1.,oob_score=True,n_jobs=-1)\n",
    "#fit the classifier\n",
    "fit = clf.fit(X,y)\n",
    "#setting up cross-validation generator\n",
    "#use Purged K-Fold generator while using it on real financial dataset to avoid leakage\n",
    "cvGen = KFold(n_splits=10)\n",
    "oos_score = ml_cross_val_score(clf, X, y, cv_gen=cvGen, sample_weight_train=None, scoring=log_loss).mean()"
   ]
  },
  {
   "cell_type": "markdown",
   "metadata": {},
   "source": [
    "### Clustered MDI"
   ]
  },
  {
   "cell_type": "markdown",
   "metadata": {},
   "source": [
    "We compute the clustered MDI as the sum of the MDI values of the features that constitute that cluster. If there is one feature per cluster, then MDI and clustered MDI are the same."
   ]
  },
  {
   "cell_type": "code",
   "execution_count": 9,
   "metadata": {},
   "outputs": [],
   "source": [
    "clustered_mdi_imp = mean_decrease_impurity(clf,X.columns,clustered_subsets=clusters)"
   ]
  },
  {
   "cell_type": "code",
   "execution_count": 10,
   "metadata": {},
   "outputs": [
    {
     "data": {
      "image/png": "[encoded data removed]",
      "text/plain": [
       "<Figure size 720x576 with 1 Axes>"
      ]
     },
     "metadata": {
      "needs_background": "light"
     },
     "output_type": "display_data"
    }
   ],
   "source": [
    "plot_feature_importance(clustered_mdi_imp,oob_score=clf.oob_score_, oos_score=oos_score,\n",
    "                        save_fig=True, output_path='img/clustered_mdi.png')"
   ]
  },
  {
   "cell_type": "markdown",
   "metadata": {},
   "source": [
    "As expected the clusters of non-informative features are given the least importnance and the clusters with redundent and informative features are placed above the noise cluster. This is very usefull for detecting features that are non-informative without the presence of some other features within the same cluster. "
   ]
  },
  {
   "cell_type": "markdown",
   "metadata": {},
   "source": [
    "### Clustered MDA"
   ]
  },
  {
   "cell_type": "markdown",
   "metadata": {},
   "source": [
    "As an extension to normal MDA to tackle multi-collinearity and (linear or non-linear) substitution effect. Its implementation was also discussed by Dr. Marcos Lopez de Prado in the Clustered Feature Importance [Presentaion Slides](https://papers.ssrn.com/sol3/papers.cfm?abstract_id=3517595)"
   ]
  },
  {
   "cell_type": "code",
   "execution_count": 11,
   "metadata": {},
   "outputs": [],
   "source": [
    "clustered_mda_imp = mean_decrease_accuracy(clf,X,y,cv_gen=cvGen,clustered_subsets=clusters,random_state=0,scoring=log_loss)"
   ]
  },
  {
   "cell_type": "code",
   "execution_count": 12,
   "metadata": {},
   "outputs": [
    {
     "data": {
      "image/png": "[encoded data removed]",
      "text/plain": [
       "<Figure size 720x576 with 1 Axes>"
      ]
     },
     "metadata": {
      "needs_background": "light"
     },
     "output_type": "display_data"
    }
   ],
   "source": [
    "plot_feature_importance(clustered_mda_imp,oob_score=clf.oob_score_, oos_score=oos_score,\n",
    "                        save_fig=True, output_path='img/clustered_mda.png')"
   ]
  },
  {
   "cell_type": "markdown",
   "metadata": {},
   "source": [
    "The clustered MDA has also correctly identified the noisy cluster and placed it below. "
   ]
  },
  {
   "cell_type": "markdown",
   "metadata": {},
   "source": [
    "## The Caveat\n",
    "Now that we saw how to implement the CFI with MDI and MDA, we have to discuss the *caveat* of normal ONC algorithm that was mentioned in the Step -1 of this notebook."
   ]
  },
  {
   "cell_type": "markdown",
   "metadata": {},
   "source": [
    "To understand the caveat of the normal ONC algorithm, we need a understanding of how it works. ONC finds the optimal number of clusters as well as the composition of those clusters, where each feature belongs to one and only one cluster. Features that\n",
    "belong to the same cluster share a large amount of information, and features that belong to different clusters share only a relatively small amount of information. \n",
    "<br>The consistency composition of the clusters are determined by the [silhouette score](https://en.wikipedia.org/wiki/Silhouette_(clustering)) of the features. The silhouette ranges from −1 to +1, where a high value indicates that the object is well matched to its own cluster and poorly matched to neighboring clusters. So, there may be some features with low silhouette score and this is a problem, because ONC cannot assign one feature to multiple clusters. \n",
    "<br>In this case, the following transformation may help reduce the multicollinearity of the system :"
   ]
  },
  {
   "cell_type": "markdown",
   "metadata": {},
   "source": [
    "For each cluster $k = 1 . . . K$, replace the features included in that cluster with residual features, so that it do not contain any information outside cluster $k$. That is let $D_{k}$ be the subset of index features $D = {1,...,F}$ included in cluster $k$, where $D_{k}\\subset{D}\\ , ||D_{k}|| > 0 \\ , \\forall{k}\\ ; \\ D_{k} \\bigcap D_{l} = \\Phi\\ , \\forall k \\ne l\\ ; \\bigcup \\limits _{k=1} ^{k} D_{k} = D$ . Then, for a given feature $X_{i}$ where $i \\in D_{k}$, we compute the residual feature $\\hat \\varepsilon _{i}$ by fitting the following equation for regression -\n",
    "\n",
    "$$X_{n,j} = \\alpha _{i} + \\sum \\limits _{j  \\in \\{ \\bigcup _{l<k}\\ D_{l} \\} } \\beta _{i,j} X_{n,j} + \\varepsilon _{n,i}$$\n",
    "\n",
    "Where $n = 1,....,N$ is the index of observations per feature. But if the degrees of freedom in the above regression is too low, one option is to use as regressors linear combinations of the features within each cluster by following a minimum variance weighting scheme so that only $K-1$ betas need to be estimated.\n",
    "This transformation is not necessary if the silhouette scores clearly indicate that features belong to their respective clusters."
   ]
  },
  {
   "cell_type": "code",
   "execution_count": 13,
   "metadata": {},
   "outputs": [],
   "source": [
    "from mlfinlab.clustering.onc import get_onc_clusters"
   ]
  },
  {
   "cell_type": "code",
   "execution_count": 14,
   "metadata": {},
   "outputs": [],
   "source": [
    "corr0,clstrs,silh = get_onc_clusters(X.corr())"
   ]
  },
  {
   "cell_type": "code",
   "execution_count": 15,
   "metadata": {},
   "outputs": [
    {
     "data": {
      "text/plain": [
       "<matplotlib.axes._subplots.AxesSubplot at 0x2271a1229e8>"
      ]
     },
     "execution_count": 15,
     "metadata": {},
     "output_type": "execute_result"
    },
    {
     "data": {
      "image/png": "[encoded data removed]",
      "text/plain": [
       "<Figure size 1152x648 with 2 Axes>"
      ]
     },
     "metadata": {
      "needs_background": "light"
     },
     "output_type": "display_data"
    }
   ],
   "source": [
    "plt.figure(figsize=(16,9))\n",
    "sns.heatmap(corr0,cmap='viridis')"
   ]
  },
  {
   "cell_type": "code",
   "execution_count": 35,
   "metadata": {},
   "outputs": [
    {
     "data": {
      "text/plain": [
       "I_0     0.971677\n",
       "I_1     0.974881\n",
       "I_2     0.969608\n",
       "I_3     0.955879\n",
       "I_4     0.969420\n",
       "N_0     0.390693\n",
       "N_1     0.392505\n",
       "N_2     0.392618\n",
       "N_3     0.394198\n",
       "N_4     0.389419\n",
       "R_0     0.963157\n",
       "R_1     0.968155\n",
       "R_2     0.950993\n",
       "R_3     0.951054\n",
       "R_4     0.951443\n",
       "R_5     0.970516\n",
       "R_6     0.951103\n",
       "R_7     0.963075\n",
       "R_8     0.963193\n",
       "R_9     0.968416\n",
       "R_10    0.968274\n",
       "R_11    0.962994\n",
       "R_12    0.963285\n",
       "R_13    0.970870\n",
       "R_14    0.968603\n",
       "R_15    0.970800\n",
       "R_16    0.970886\n",
       "R_17    0.968272\n",
       "R_18    0.970646\n",
       "R_19    0.963149\n",
       "R_20    0.951018\n",
       "R_21    0.968572\n",
       "R_22    0.951056\n",
       "R_23    0.968400\n",
       "R_24    0.963095\n",
       "R_25    0.951220\n",
       "R_26    0.968266\n",
       "R_27    0.970673\n",
       "R_28    0.951441\n",
       "R_29    0.951468\n",
       "dtype: float64"
      ]
     },
     "execution_count": 35,
     "metadata": {},
     "output_type": "execute_result"
    }
   ],
   "source": [
    "silh"
   ]
  },
  {
   "cell_type": "markdown",
   "metadata": {},
   "source": [
    "As we can see there is very low correlation among clusters. Hence, we need not to tranform anything in this dataset. The silhouette score also confirm the same, as there no features have silhouette score below zero."
   ]
  },
  {
   "cell_type": "markdown",
   "metadata": {},
   "source": [
    "Now let us artificially generate a dataset that can introduce features with low silhouette score. Here the sigmaStd argument of get_classification_data will help us to generate a dataset with high substitution effect."
   ]
  },
  {
   "cell_type": "code",
   "execution_count": 49,
   "metadata": {},
   "outputs": [],
   "source": [
    "#we set the value of sigmaStd to 4 to introduce high substitution effect.\n",
    "X_, y_ = get_classification_data(n_features=40,n_informative=5,n_redundant=30,n_samples=1000,sigmaStd=5)"
   ]
  },
  {
   "cell_type": "code",
   "execution_count": 50,
   "metadata": {},
   "outputs": [],
   "source": [
    "#Now lets check if we obtained our desired dataset \n",
    "corr0,clstrs,silh = get_onc_clusters(X_.corr())"
   ]
  },
  {
   "cell_type": "code",
   "execution_count": 51,
   "metadata": {},
   "outputs": [
    {
     "data": {
      "text/plain": [
       "{0: ['I_1',\n",
       "  'I_4',\n",
       "  'N_4',\n",
       "  'R_5',\n",
       "  'R_8',\n",
       "  'R_11',\n",
       "  'R_13',\n",
       "  'R_15',\n",
       "  'R_16',\n",
       "  'R_18',\n",
       "  'R_19',\n",
       "  'R_27'],\n",
       " 1: ['I_0',\n",
       "  'I_2',\n",
       "  'I_3',\n",
       "  'N_0',\n",
       "  'N_1',\n",
       "  'N_2',\n",
       "  'N_3',\n",
       "  'R_0',\n",
       "  'R_1',\n",
       "  'R_2',\n",
       "  'R_3',\n",
       "  'R_4',\n",
       "  'R_6',\n",
       "  'R_7',\n",
       "  'R_9',\n",
       "  'R_10',\n",
       "  'R_12',\n",
       "  'R_14',\n",
       "  'R_17',\n",
       "  'R_20',\n",
       "  'R_21',\n",
       "  'R_22',\n",
       "  'R_23',\n",
       "  'R_24',\n",
       "  'R_25',\n",
       "  'R_26',\n",
       "  'R_28',\n",
       "  'R_29']}"
      ]
     },
     "execution_count": 51,
     "metadata": {},
     "output_type": "execute_result"
    }
   ],
   "source": [
    "clstrs"
   ]
  },
  {
   "cell_type": "markdown",
   "metadata": {},
   "source": [
    "Now, lets see if there is any features with low silhouette score. If yes then we can correct it with the transformation mentioned above (transformation is appiled automatically)."
   ]
  },
  {
   "cell_type": "code",
   "execution_count": 53,
   "metadata": {},
   "outputs": [
    {
     "name": "stdout",
     "output_type": "stream",
     "text": [
      "3 feature/s found with low silhouette score Index(['N_0', 'N_4', 'R_0'], dtype='object'). Returning the transformed dataset\n"
     ]
    }
   ],
   "source": [
    "#this function has built-in detection property that detects the features with low silhouette score and corrects it with transformation\n",
    "clusters = get_feature_clusters(X_,dependence_metric=dep_matrix,distance_metric=None,linkage_method=None,n_clusters=None)"
   ]
  },
  {
   "cell_type": "markdown",
   "metadata": {},
   "source": [
    "We have got the dataset with some features that has some negative silhouette score. Due to this all of noisy features are placed with the informative and redundent feature clusters. **This is the caveat of the ONC algorithm**"
   ]
  },
  {
   "cell_type": "code",
   "execution_count": 54,
   "metadata": {},
   "outputs": [
    {
     "data": {
      "text/plain": [
       "[['I_0',\n",
       "  'N_0',\n",
       "  'N_4',\n",
       "  'R_1',\n",
       "  'R_9',\n",
       "  'R_10',\n",
       "  'R_14',\n",
       "  'R_17',\n",
       "  'R_21',\n",
       "  'R_23',\n",
       "  'R_26'],\n",
       " ['I_2',\n",
       "  'I_3',\n",
       "  'N_1',\n",
       "  'N_2',\n",
       "  'N_3',\n",
       "  'R_2',\n",
       "  'R_3',\n",
       "  'R_4',\n",
       "  'R_6',\n",
       "  'R_7',\n",
       "  'R_12',\n",
       "  'R_20',\n",
       "  'R_22',\n",
       "  'R_24',\n",
       "  'R_25',\n",
       "  'R_28',\n",
       "  'R_29'],\n",
       " ['I_1',\n",
       "  'I_4',\n",
       "  'R_0',\n",
       "  'R_5',\n",
       "  'R_8',\n",
       "  'R_11',\n",
       "  'R_13',\n",
       "  'R_15',\n",
       "  'R_16',\n",
       "  'R_18',\n",
       "  'R_19',\n",
       "  'R_27']]"
      ]
     },
     "execution_count": 54,
     "metadata": {},
     "output_type": "execute_result"
    }
   ],
   "source": [
    "clusters"
   ]
  },
  {
   "cell_type": "markdown",
   "metadata": {},
   "source": [
    "As we can see the composition after transformation has changed and now we have 3 clusters instead of 2. Though this is not perfect but it has done a must better job in clustering than the normal ONC algorithm. Also the get_feature_clusters function can detect the problem of low degree of freedom of the regression model used for generating the residual $\\hat \\varepsilon _{i}$ for replacing the orginal feature $X_{i}$ as mentioned above."
   ]
  },
  {
   "cell_type": "markdown",
   "metadata": {},
   "source": [
    "## Using Hierarchical Clustering "
   ]
  },
  {
   "cell_type": "code",
   "execution_count": 18,
   "metadata": {},
   "outputs": [
    {
     "name": "stdout",
     "output_type": "stream",
     "text": [
      "There is no feature/s found with low silhouette score. All features belongs to its respective clusters\n"
     ]
    }
   ],
   "source": [
    "dist_matrix = 'angular' # angular distance matric\n",
    "linkage = 'single' # linkage method for hierarchical clustering\n",
    "clusters_ = get_feature_clusters(X,dependence_metric=dep_matrix,distance_metric=dist_matrix,linkage_method=linkage,n_clusters=None)"
   ]
  },
  {
   "cell_type": "code",
   "execution_count": 19,
   "metadata": {},
   "outputs": [
    {
     "data": {
      "text/plain": [
       "[['I_0',\n",
       "  'I_2',\n",
       "  'R_1',\n",
       "  'R_7',\n",
       "  'R_9',\n",
       "  'R_10',\n",
       "  'R_12',\n",
       "  'R_14',\n",
       "  'R_17',\n",
       "  'R_21',\n",
       "  'R_23',\n",
       "  'R_24',\n",
       "  'R_26'],\n",
       " ['I_1',\n",
       "  'I_4',\n",
       "  'R_0',\n",
       "  'R_5',\n",
       "  'R_8',\n",
       "  'R_11',\n",
       "  'R_13',\n",
       "  'R_15',\n",
       "  'R_16',\n",
       "  'R_18',\n",
       "  'R_19',\n",
       "  'R_27'],\n",
       " ['I_3',\n",
       "  'N_0',\n",
       "  'N_3',\n",
       "  'R_2',\n",
       "  'R_3',\n",
       "  'R_4',\n",
       "  'R_6',\n",
       "  'R_20',\n",
       "  'R_22',\n",
       "  'R_25',\n",
       "  'R_28',\n",
       "  'R_29'],\n",
       " ['N_2'],\n",
       " ['N_1'],\n",
       " ['N_4']]"
      ]
     },
     "execution_count": 19,
     "metadata": {},
     "output_type": "execute_result"
    }
   ],
   "source": [
    "clusters_"
   ]
  },
  {
   "cell_type": "markdown",
   "metadata": {},
   "source": [
    "Using Heirarchical Clustering we get 6 clusters and 3 of them are with only single element and are non-informative features."
   ]
  },
  {
   "cell_type": "markdown",
   "metadata": {},
   "source": [
    "## Conclusion"
   ]
  },
  {
   "cell_type": "markdown",
   "metadata": {},
   "source": [
    "At the end I would like say that the user can use different depedence matric including both correlation based and information theory based metric (like Information Variation which have the advantage of recognizing redundant features that are the result of nonlinear combinations of informative features). Also the user can use different linkage methods for hierarchical clustering or define the number of clusters."
   ]
  }
 ],
 "metadata": {
  "kernelspec": {
   "display_name": "Python 3",
   "language": "python",
   "name": "python3"
  },
  "language_info": {
   "codemirror_mode": {
    "name": "ipython",
    "version": 3
   },
   "file_extension": ".py",
   "mimetype": "text/x-python",
   "name": "python",
   "nbconvert_exporter": "python",
   "pygments_lexer": "ipython3",
   "version": "3.7.3"
  }
 },
 "nbformat": 4,
 "nbformat_minor": 2
}
