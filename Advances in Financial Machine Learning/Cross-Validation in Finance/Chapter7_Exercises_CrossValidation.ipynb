{
 "cells": [
  {
   "cell_type": "markdown",
   "metadata": {},
   "source": [
    "* By: Jorge Osés\n",
    "* Email: jorgeoses.96@gmail.com\n",
    "* Reference: Advances in Financial Machine Learning, Chapter-07"
   ]
  },
  {
   "cell_type": "markdown",
   "metadata": {},
   "source": [
    "## Chapter 7 Cross-Validation in Finance"
   ]
  },
  {
   "cell_type": "markdown",
   "metadata": {},
   "source": [
    "## Introduction"
   ]
  },
  {
   "cell_type": "markdown",
   "metadata": {},
   "source": [
    "Cross-Validation is a Machine Learning technique aiming to determine how the performance of a model will generalize to an independent data set. Although broadly useful in all sorts of problems it generally fails when applied to a financial problem. \n",
    "\n",
    "In this chapter we will explore why it fails, and how to apply two techniques we call *purging* and *embargo* to get around its problems."
   ]
  },
  {
   "cell_type": "markdown",
   "metadata": {},
   "source": [
    "## Data and dependencies"
   ]
  },
  {
   "cell_type": "markdown",
   "metadata": {},
   "source": [
    "As suggested in the book, we will use a labelled dataset resulting from the exercises in chapter 3."
   ]
  },
  {
   "cell_type": "code",
   "execution_count": 1,
   "metadata": {},
   "outputs": [],
   "source": [
    "import mlfinlab as ml\n",
    "import pandas as pd\n",
    "import numpy as np\n",
    "\n",
    "from mlfinlab.cross_validation import PurgedKFold, ml_cross_val_score\n",
    "from mlfinlab.util.multiprocess import mp_pandas_obj\n",
    "from mlfinlab.sampling import concurrent\n",
    "\n",
    "from sklearn.ensemble import RandomForestClassifier\n",
    "from sklearn.model_selection import KFold\n",
    "from sklearn.metrics import accuracy_score\n",
    "\n",
    "FNM = 'official_data/results_3-5.csv'\n",
    "rf_cfg = {\n",
    "    \"criterion\": 'entropy',\n",
    "    \"max_depth\": 5,\n",
    "    \"n_estimators\": 100,\n",
    "    \"class_weight\": 'balanced_subsample'\n",
    "}"
   ]
  },
  {
   "cell_type": "markdown",
   "metadata": {},
   "source": [
    "## Question-7.1"
   ]
  },
  {
   "cell_type": "markdown",
   "metadata": {},
   "source": [
    "### Why is shuffling a dataset before conducting k-fold CV generally a bad idea in finance?\n"
   ]
  },
  {
   "cell_type": "markdown",
   "metadata": {},
   "source": [
    "Usually in finance we're working with time series structured data, so by shuffling before conducting a k-fold we're sure to have data in our training set that overlaps with the data in our testing set. This could easily lead to overfitting."
   ]
  },
  {
   "cell_type": "markdown",
   "metadata": {},
   "source": [
    "### What is the purpose of shuffling"
   ]
  },
  {
   "cell_type": "markdown",
   "metadata": {},
   "source": [
    "Shuffling data is generally used to reduce variance and to make sure that models are trained on a representative enough dataset and overfit less.\n",
    "\n",
    "By shuffling you will avoid common cases where your data is sorted by a categorical variable or even the target variable, where not even all the possible cases for your target variable would be present in the train side of a standard train_test split.\n",
    "\n",
    "This, however, doesn't take into account the time series structure of the data we're usually dealing with in Finance.\n"
   ]
  },
  {
   "cell_type": "markdown",
   "metadata": {},
   "source": [
    "### Why does shuffling defeat the purpose of k-fold in financial datasets?"
   ]
  },
  {
   "cell_type": "markdown",
   "metadata": {},
   "source": [
    "The goal of any cross-validation technique is to estimate the level of fitness of a model to a data set that is independent of the train data. \n",
    "\n",
    "By shuffling first, we're making sure that the data set will not be independent of the train data because of overlapping between the test and train dataset after the shuffling."
   ]
  },
  {
   "cell_type": "markdown",
   "metadata": {},
   "source": [
    "## Question-7.2"
   ]
  },
  {
   "cell_type": "markdown",
   "metadata": {},
   "source": [
    "### Take a pair of matrices (X,y) representing observed features and labels. These could be one of the datasets derived from the exercises in Chapter 3"
   ]
  },
  {
   "cell_type": "code",
   "execution_count": 2,
   "metadata": {},
   "outputs": [],
   "source": [
    "# We take the matrices X, y and t1 from those generated in 3.5 and clean their NaN values\n",
    "X = pd.read_csv(FNM, index_col=0)\n",
    "\n",
    "y = X.pop('bin')\n",
    "weights= X.pop('weights')\n",
    "samples_info_sets = X.pop('t1')\n",
    "\n",
    "idx_shuffle = np.random.permutation(X.index) # pick the same shuffle permutation for exercises"
   ]
  },
  {
   "cell_type": "code",
   "execution_count": 3,
   "metadata": {},
   "outputs": [
    {
     "data": {
      "text/html": [
       "<div>\n",
       "<style scoped>\n",
       "    .dataframe tbody tr th:only-of-type {\n",
       "        vertical-align: middle;\n",
       "    }\n",
       "\n",
       "    .dataframe tbody tr th {\n",
       "        vertical-align: top;\n",
       "    }\n",
       "\n",
       "    .dataframe thead th {\n",
       "        text-align: right;\n",
       "    }\n",
       "</style>\n",
       "<table border=\"1\" class=\"dataframe\">\n",
       "  <thead>\n",
       "    <tr style=\"text-align: right;\">\n",
       "      <th></th>\n",
       "      <th>rsi</th>\n",
       "      <th>side</th>\n",
       "      <th>log_ret</th>\n",
       "      <th>mom1</th>\n",
       "      <th>mom2</th>\n",
       "      <th>mom3</th>\n",
       "      <th>mom4</th>\n",
       "      <th>mom5</th>\n",
       "      <th>volatility</th>\n",
       "      <th>autocorr_1</th>\n",
       "      <th>autocorr_2</th>\n",
       "      <th>autocorr_3</th>\n",
       "      <th>autocorr_4</th>\n",
       "      <th>autocorr_5</th>\n",
       "      <th>log_t1</th>\n",
       "      <th>log_t2</th>\n",
       "      <th>log_t3</th>\n",
       "      <th>log_t4</th>\n",
       "      <th>log_t5</th>\n",
       "      <th>sma</th>\n",
       "    </tr>\n",
       "  </thead>\n",
       "  <tbody>\n",
       "    <tr>\n",
       "      <th>2015-01-06 16:23:23.744</th>\n",
       "      <td>24.0</td>\n",
       "      <td>1.0</td>\n",
       "      <td>-0.001247</td>\n",
       "      <td>-0.001246</td>\n",
       "      <td>-0.001620</td>\n",
       "      <td>-0.001868</td>\n",
       "      <td>-0.003854</td>\n",
       "      <td>-0.004349</td>\n",
       "      <td>0.001183</td>\n",
       "      <td>-0.065977</td>\n",
       "      <td>-0.043867</td>\n",
       "      <td>-0.066452</td>\n",
       "      <td>0.117382</td>\n",
       "      <td>-0.012400</td>\n",
       "      <td>-0.000374</td>\n",
       "      <td>-0.000249</td>\n",
       "      <td>-0.001991</td>\n",
       "      <td>-0.000497</td>\n",
       "      <td>-0.000869</td>\n",
       "      <td>-1.0</td>\n",
       "    </tr>\n",
       "    <tr>\n",
       "      <th>2015-01-06 16:35:18.127</th>\n",
       "      <td>20.0</td>\n",
       "      <td>1.0</td>\n",
       "      <td>-0.000999</td>\n",
       "      <td>-0.000999</td>\n",
       "      <td>-0.001248</td>\n",
       "      <td>-0.002493</td>\n",
       "      <td>-0.002866</td>\n",
       "      <td>-0.003114</td>\n",
       "      <td>0.001158</td>\n",
       "      <td>-0.038315</td>\n",
       "      <td>-0.030594</td>\n",
       "      <td>-0.060636</td>\n",
       "      <td>0.170363</td>\n",
       "      <td>-0.046009</td>\n",
       "      <td>-0.000250</td>\n",
       "      <td>-0.001247</td>\n",
       "      <td>-0.000374</td>\n",
       "      <td>-0.000249</td>\n",
       "      <td>-0.001991</td>\n",
       "      <td>-1.0</td>\n",
       "    </tr>\n",
       "    <tr>\n",
       "      <th>2015-01-06 16:40:02.336</th>\n",
       "      <td>18.0</td>\n",
       "      <td>1.0</td>\n",
       "      <td>-0.000500</td>\n",
       "      <td>-0.000500</td>\n",
       "      <td>-0.001498</td>\n",
       "      <td>-0.001747</td>\n",
       "      <td>-0.002991</td>\n",
       "      <td>-0.003364</td>\n",
       "      <td>0.001159</td>\n",
       "      <td>-0.033713</td>\n",
       "      <td>-0.030061</td>\n",
       "      <td>-0.051160</td>\n",
       "      <td>0.170552</td>\n",
       "      <td>-0.044667</td>\n",
       "      <td>-0.000999</td>\n",
       "      <td>-0.000250</td>\n",
       "      <td>-0.001247</td>\n",
       "      <td>-0.000374</td>\n",
       "      <td>-0.000249</td>\n",
       "      <td>-1.0</td>\n",
       "    </tr>\n",
       "    <tr>\n",
       "      <th>2015-01-06 16:44:48.791</th>\n",
       "      <td>15.0</td>\n",
       "      <td>1.0</td>\n",
       "      <td>-0.001251</td>\n",
       "      <td>-0.001250</td>\n",
       "      <td>-0.001749</td>\n",
       "      <td>-0.002746</td>\n",
       "      <td>-0.002995</td>\n",
       "      <td>-0.004238</td>\n",
       "      <td>0.001169</td>\n",
       "      <td>-0.027737</td>\n",
       "      <td>-0.008073</td>\n",
       "      <td>-0.051415</td>\n",
       "      <td>0.187493</td>\n",
       "      <td>-0.041416</td>\n",
       "      <td>-0.000500</td>\n",
       "      <td>-0.000999</td>\n",
       "      <td>-0.000250</td>\n",
       "      <td>-0.001247</td>\n",
       "      <td>-0.000374</td>\n",
       "      <td>-1.0</td>\n",
       "    </tr>\n",
       "    <tr>\n",
       "      <th>2015-01-06 17:09:12.134</th>\n",
       "      <td>12.0</td>\n",
       "      <td>1.0</td>\n",
       "      <td>-0.002131</td>\n",
       "      <td>-0.002129</td>\n",
       "      <td>-0.002129</td>\n",
       "      <td>-0.001253</td>\n",
       "      <td>-0.002503</td>\n",
       "      <td>-0.003750</td>\n",
       "      <td>0.001180</td>\n",
       "      <td>-0.003244</td>\n",
       "      <td>-0.065480</td>\n",
       "      <td>-0.000985</td>\n",
       "      <td>0.208039</td>\n",
       "      <td>-0.032036</td>\n",
       "      <td>0.000000</td>\n",
       "      <td>0.000877</td>\n",
       "      <td>-0.001253</td>\n",
       "      <td>-0.001251</td>\n",
       "      <td>-0.000500</td>\n",
       "      <td>-1.0</td>\n",
       "    </tr>\n",
       "  </tbody>\n",
       "</table>\n",
       "</div>"
      ],
      "text/plain": [
       "                          rsi  side   log_ret      mom1      mom2      mom3  \\\n",
       "2015-01-06 16:23:23.744  24.0   1.0 -0.001247 -0.001246 -0.001620 -0.001868   \n",
       "2015-01-06 16:35:18.127  20.0   1.0 -0.000999 -0.000999 -0.001248 -0.002493   \n",
       "2015-01-06 16:40:02.336  18.0   1.0 -0.000500 -0.000500 -0.001498 -0.001747   \n",
       "2015-01-06 16:44:48.791  15.0   1.0 -0.001251 -0.001250 -0.001749 -0.002746   \n",
       "2015-01-06 17:09:12.134  12.0   1.0 -0.002131 -0.002129 -0.002129 -0.001253   \n",
       "\n",
       "                             mom4      mom5  volatility  autocorr_1  \\\n",
       "2015-01-06 16:23:23.744 -0.003854 -0.004349    0.001183   -0.065977   \n",
       "2015-01-06 16:35:18.127 -0.002866 -0.003114    0.001158   -0.038315   \n",
       "2015-01-06 16:40:02.336 -0.002991 -0.003364    0.001159   -0.033713   \n",
       "2015-01-06 16:44:48.791 -0.002995 -0.004238    0.001169   -0.027737   \n",
       "2015-01-06 17:09:12.134 -0.002503 -0.003750    0.001180   -0.003244   \n",
       "\n",
       "                         autocorr_2  autocorr_3  autocorr_4  autocorr_5  \\\n",
       "2015-01-06 16:23:23.744   -0.043867   -0.066452    0.117382   -0.012400   \n",
       "2015-01-06 16:35:18.127   -0.030594   -0.060636    0.170363   -0.046009   \n",
       "2015-01-06 16:40:02.336   -0.030061   -0.051160    0.170552   -0.044667   \n",
       "2015-01-06 16:44:48.791   -0.008073   -0.051415    0.187493   -0.041416   \n",
       "2015-01-06 17:09:12.134   -0.065480   -0.000985    0.208039   -0.032036   \n",
       "\n",
       "                           log_t1    log_t2    log_t3    log_t4    log_t5  sma  \n",
       "2015-01-06 16:23:23.744 -0.000374 -0.000249 -0.001991 -0.000497 -0.000869 -1.0  \n",
       "2015-01-06 16:35:18.127 -0.000250 -0.001247 -0.000374 -0.000249 -0.001991 -1.0  \n",
       "2015-01-06 16:40:02.336 -0.000999 -0.000250 -0.001247 -0.000374 -0.000249 -1.0  \n",
       "2015-01-06 16:44:48.791 -0.000500 -0.000999 -0.000250 -0.001247 -0.000374 -1.0  \n",
       "2015-01-06 17:09:12.134  0.000000  0.000877 -0.001253 -0.001251 -0.000500 -1.0  "
      ]
     },
     "metadata": {},
     "output_type": "display_data"
    },
    {
     "data": {
      "text/plain": [
       "2015-01-06 16:23:23.744    0\n",
       "2015-01-06 16:35:18.127    1\n",
       "2015-01-06 16:40:02.336    1\n",
       "2015-01-06 16:44:48.791    1\n",
       "2015-01-06 17:09:12.134    1\n",
       "Name: bin, dtype: int64"
      ]
     },
     "metadata": {},
     "output_type": "display_data"
    }
   ],
   "source": [
    "display(X.head())\n",
    "display(y.head())"
   ]
  },
  {
   "cell_type": "markdown",
   "metadata": {},
   "source": [
    "### (a) Derive the performance from a 10-fold CV of  n RF classifier on (X, y) without shuffling"
   ]
  },
  {
   "cell_type": "code",
   "execution_count": 4,
   "metadata": {},
   "outputs": [
    {
     "name": "stdout",
     "output_type": "stream",
     "text": [
      "Accuracy: 0.47 (+/- 0.19)\n"
     ]
    }
   ],
   "source": [
    "clf = RandomForestClassifier(**rf_cfg)\n",
    "cv_gen = KFold(n_splits=10, random_state=1)\n",
    "scores = ml_cross_val_score(clf, X, y, cv_gen, scoring=accuracy_score, sample_weight=weights)\n",
    "\n",
    "print(\"Accuracy: %0.2f (+/- %0.2f)\" % (scores.mean(), scores.std() * 2))"
   ]
  },
  {
   "cell_type": "markdown",
   "metadata": {},
   "source": [
    "### (b) Derive the performance from a 10-fold CV of an RF on (X, y) with shuffling"
   ]
  },
  {
   "cell_type": "code",
   "execution_count": 5,
   "metadata": {},
   "outputs": [
    {
     "name": "stdout",
     "output_type": "stream",
     "text": [
      "[0.60362086 0.53113415 0.59407263 0.74134607 0.61537292 0.5378151\n",
      " 0.61787308 0.6302288  0.6353946  0.54333728]\n",
      "Accuracy: 0.61 (+/- 0.12)\n"
     ]
    }
   ],
   "source": [
    "cv_gen = KFold(n_splits=10, random_state=1)\n",
    "scores = ml_cross_val_score(clf, X.reindex(idx_shuffle), y.reindex(idx_shuffle), cv_gen, scoring=accuracy_score, sample_weight=weights)\n",
    "\n",
    "print(scores)\n",
    "print(\"Accuracy: %0.2f (+/- %0.2f)\" % (scores.mean(), scores.std() * 2))"
   ]
  },
  {
   "cell_type": "markdown",
   "metadata": {},
   "source": [
    "### (c) Why are both results so different?"
   ]
  },
  {
   "cell_type": "markdown",
   "metadata": {},
   "source": [
    "We are seeing the result of information leaking between the training sets and the test set."
   ]
  },
  {
   "cell_type": "markdown",
   "metadata": {},
   "source": [
    "### (d) How does shuffling leak information?"
   ]
  },
  {
   "cell_type": "markdown",
   "metadata": {},
   "source": [
    "In a time series context, we're using information from the past to try to predict the future.\n",
    "By shuffling, we mix together the values alterating the time series structure. The train dataset will then have information relevant for the test dataset, it will be able to \"peak\" into the future."
   ]
  },
  {
   "cell_type": "markdown",
   "metadata": {},
   "source": [
    "## Question-7.3"
   ]
  },
  {
   "cell_type": "markdown",
   "metadata": {},
   "source": [
    "### Take the same pair of matrices (X, y) you used in exercise 2\n",
    "### (a) Derive the performance from a 10-fold purged CV of an RF on (X, y) with 1% embargo.\n"
   ]
  },
  {
   "cell_type": "code",
   "execution_count": 6,
   "metadata": {},
   "outputs": [
    {
     "name": "stdout",
     "output_type": "stream",
     "text": [
      "[0.37829255 0.33111197 0.46418766 0.44355595 0.53810081 0.39784361\n",
      " 0.40518056 0.3840461  0.48201453 0.42433176]\n",
      "Accuracy: 0.42 (+/- 0.11)\n"
     ]
    }
   ],
   "source": [
    "cv_gen = PurgedKFold(n_splits=10, samples_info_sets=samples_info_sets, pct_embargo=0.01)\n",
    "scores = ml_cross_val_score(clf, X, y, cv_gen, scoring=accuracy_score, sample_weight=weights)\n",
    "print(scores)\n",
    "print(\"Accuracy: %0.2f (+/- %0.2f)\" % (scores.mean(), scores.std() * 2))"
   ]
  },
  {
   "cell_type": "markdown",
   "metadata": {},
   "source": [
    "### (b) Why is the performance lower?"
   ]
  },
  {
   "cell_type": "markdown",
   "metadata": {},
   "source": [
    "With our PurgedKFold redundant samples are minimized, we remove shuffling so removing leakage is gone and thus we create another barrier of protection to prevent mixing between the train and test sets, which is called an *embargo* in the book.\n"
   ]
  },
  {
   "cell_type": "markdown",
   "metadata": {},
   "source": [
    "### (c) Why is the result more realistic"
   ]
  },
  {
   "cell_type": "markdown",
   "metadata": {},
   "source": [
    "Further preventing leakage will always result in more realistic results."
   ]
  },
  {
   "cell_type": "markdown",
   "metadata": {},
   "source": [
    "## Question-7.4"
   ]
  },
  {
   "cell_type": "markdown",
   "metadata": {},
   "source": [
    "### In this chapter we have focused on one reason why k-fold CV fails in financial applications, namely the fact that some information from the testing set leaks into the training set. Can you think of a second reason for CV's failure?"
   ]
  },
  {
   "cell_type": "markdown",
   "metadata": {},
   "source": [
    "Just by using the k-fold technique we cause the test set to be used multiple times in during the creation of our model leading to more bias in selection."
   ]
  },
  {
   "cell_type": "markdown",
   "metadata": {},
   "source": [
    "## Question-7.5"
   ]
  },
  {
   "cell_type": "markdown",
   "metadata": {},
   "source": [
    "### Suppose you try one thousand configurations of the same investment strategy, and perform a CV on each of them. \n",
    "\n",
    "### Some results are guaranteed to look good, just by sheer luck. If you only publish those positive results, and hide the rest, your audience will not be able to deduce that these results are false positives, a statistical fluke. \n",
    "\n",
    "### This phenomenon is called \"selection bias\"."
   ]
  },
  {
   "cell_type": "markdown",
   "metadata": {},
   "source": [
    "### (a) Can you imagine one procedure to prevent this?"
   ]
  },
  {
   "cell_type": "markdown",
   "metadata": {},
   "source": [
    "We can use a standard train, test and validation split.\n",
    "\n",
    "* The **train** dataset is used to fit the model\n",
    "* The **test** dataset is used to provide an unbiased evaluation of a final model fit on the training dataset.\n",
    "* The **validate** dataset is used to provide an unbiased evaluation (often for hypertuning) of a model fit on the training dataset.\n",
    "\n",
    "This way the researcher would intentionally refrain from using a part of the data in any way, providing it would be free from time overlaps and other contaminations"
   ]
  },
  {
   "cell_type": "markdown",
   "metadata": {},
   "source": [
    "### (b) What if we split the dataset in three sets: training, validation and testing? \n",
    "\n",
    "### The validation set is used to evaluate the trained parameters, and the testing is run only on the one configuration chosen in the validation phase. In what case does this  procedure still fail?\n",
    "\n"
   ]
  },
  {
   "cell_type": "markdown",
   "metadata": {},
   "source": [
    "Using this approach we would still have to be careful not to have time overlaps and other contaminations to the train dataset from the test and validate ones."
   ]
  },
  {
   "cell_type": "markdown",
   "metadata": {},
   "source": [
    "### (c) What is the key to avoiding selection bias?"
   ]
  },
  {
   "cell_type": "markdown",
   "metadata": {},
   "source": [
    "Restricting the model development procedure as hard as we can."
   ]
  }
 ],
 "metadata": {
  "kernelspec": {
   "display_name": "Python 3",
   "language": "python",
   "name": "python3"
  },
  "language_info": {
   "codemirror_mode": {
    "name": "ipython",
    "version": 3
   },
   "file_extension": ".py",
   "mimetype": "text/x-python",
   "name": "python",
   "nbconvert_exporter": "python",
   "pygments_lexer": "ipython3",
   "version": "3.6.10"
  }
 },
 "nbformat": 4,
 "nbformat_minor": 2
}
