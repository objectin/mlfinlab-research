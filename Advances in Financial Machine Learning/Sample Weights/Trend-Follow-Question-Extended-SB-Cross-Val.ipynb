{
 "cells": [
  {
   "cell_type": "markdown",
   "metadata": {},
   "source": [
    "# Extend Trend Following Strategy ML research (added sample weights, Purged CV, feature importance)\n",
    "\n",
    "This notebook extends Trend-Following notebook from Chapter3 by adding sample weights, Purged Cross-Validation, MDI, MDA, SFI feature importance plots"
   ]
  },
  {
   "cell_type": "code",
   "execution_count": 1,
   "metadata": {},
   "outputs": [],
   "source": [
    "# Import the Hudson and Thames MlFinLab package\n",
    "import mlfinlab as ml"
   ]
  },
  {
   "cell_type": "code",
   "execution_count": 10,
   "metadata": {},
   "outputs": [],
   "source": [
    "import numpy as np\n",
    "import pandas as pd\n",
    "#import pyfolio as pf\n",
    "import timeit\n",
    "\n",
    "from sklearn.ensemble import RandomForestClassifier, BaggingClassifier\n",
    "from sklearn.tree import DecisionTreeClassifier\n",
    "from sklearn.model_selection import train_test_split\n",
    "from sklearn.metrics import roc_curve, classification_report, confusion_matrix, accuracy_score\n",
    "from sklearn.utils import resample\n",
    "from sklearn.utils import shuffle\n",
    "\n",
    "from sklearn.model_selection import cross_val_score\n",
    "from sklearn.model_selection import GridSearchCV, KFold, StratifiedKFold\n",
    "from mlfinlab.feature_importance import (feature_importance_mean_decrease_impurity, \n",
    "                                        feature_importance_mean_decrease_accuracy, \n",
    "                                        feature_importance_sfi, plot_feature_importance)\n",
    "from mlfinlab.ensemble import SequentiallyBootstrappedBaggingClassifier\n",
    "from mlfinlab.sample_weights import get_weights_by_return, get_weights_by_time_decay\n",
    "import matplotlib.pyplot as plt\n",
    "%matplotlib inline"
   ]
  },
  {
   "cell_type": "markdown",
   "metadata": {},
   "source": [
    "### Read in Data\n",
    "We are using the dollar bars based off of the high quality HFT data we purchased. There is a sample of bars available in this branch as well. "
   ]
  },
  {
   "cell_type": "code",
   "execution_count": 3,
   "metadata": {},
   "outputs": [],
   "source": [
    "# Read in data\n",
    "data = pd.read_csv('official_data/dollar_bars.csv')\n",
    "data.index = pd.to_datetime(data['date_time'])\n",
    "data = data.drop('date_time', axis=1)"
   ]
  },
  {
   "cell_type": "code",
   "execution_count": 4,
   "metadata": {},
   "outputs": [],
   "source": [
    "data = data['2011-09-01':]"
   ]
  },
  {
   "cell_type": "markdown",
   "metadata": {},
   "source": [
    "---\n",
    "### Fit a Primary Model: Trend Following\n",
    "Based on the simple moving average cross-over strategy.\n"
   ]
  },
  {
   "cell_type": "code",
   "execution_count": 11,
   "metadata": {},
   "outputs": [],
   "source": [
    "# compute moving averages\n",
    "fast_window = 20\n",
    "slow_window = 50\n",
    "\n",
    "data['fast_mavg'] = data['close'].rolling(window=fast_window, min_periods=fast_window, center=False).mean()\n",
    "data['slow_mavg'] = data['close'].rolling(window=slow_window, min_periods=slow_window, center=False).mean()\n",
    "data.head()\n",
    "\n",
    "# Compute sides\n",
    "data['side'] = np.nan\n",
    "\n",
    "long_signals = data['fast_mavg'] >= data['slow_mavg'] \n",
    "short_signals = data['fast_mavg'] < data['slow_mavg'] \n",
    "data.loc[long_signals, 'side'] = 1\n",
    "data.loc[short_signals, 'side'] = -1\n",
    "\n",
    "# Remove Look ahead biase by lagging the signal\n",
    "data['side'] = data['side'].shift(1)"
   ]
  },
  {
   "cell_type": "code",
   "execution_count": 12,
   "metadata": {},
   "outputs": [],
   "source": [
    "# Save the raw data\n",
    "raw_data = data.copy()\n",
    "\n",
    "# Drop the NaN values from our data set\n",
    "data.dropna(axis=0, how='any', inplace=True)"
   ]
  },
  {
   "cell_type": "code",
   "execution_count": 13,
   "metadata": {},
   "outputs": [
    {
     "data": {
      "text/plain": [
       " 1.0    45136\n",
       "-1.0    38712\n",
       "Name: side, dtype: int64"
      ]
     },
     "execution_count": 13,
     "metadata": {},
     "output_type": "execute_result"
    }
   ],
   "source": [
    "data['side'].value_counts()"
   ]
  },
  {
   "cell_type": "markdown",
   "metadata": {},
   "source": [
    "### Filter Events: CUSUM Filter\n",
    "Predict what will happen when a CUSUM event is triggered. Use the signal from the MAvg Strategy to determine the side of the bet."
   ]
  },
  {
   "cell_type": "code",
   "execution_count": 14,
   "metadata": {},
   "outputs": [],
   "source": [
    "# Compute daily volatility\n",
    "daily_vol = ml.util.get_daily_vol(close=data['close'], lookback=50)\n",
    "\n",
    "# Apply Symmetric CUSUM Filter and get timestamps for events\n",
    "# Note: Only the CUSUM filter needs a point estimate for volatility\n",
    "cusum_events = ml.filters.cusum_filter(data['close'], threshold=daily_vol['2011-09-01':'2018-01-01'].mean()*0.5)\n",
    "\n",
    "# Compute vertical barrier\n",
    "vertical_barriers = ml.labeling.add_vertical_barrier(t_events=cusum_events, close=data['close'], num_days=1)"
   ]
  },
  {
   "cell_type": "code",
   "execution_count": 15,
   "metadata": {},
   "outputs": [
    {
     "name": "stderr",
     "output_type": "stream",
     "text": [
      "/home/alex/anaconda3/envs/research/lib/python3.7/site-packages/mlfinlab/labeling/labeling.py:124: FutureWarning: \n",
      "Passing list-likes to .loc or [] with any missing label will raise\n",
      "KeyError in the future, you can use .reindex() as an alternative.\n",
      "\n",
      "See the documentation here:\n",
      "https://pandas.pydata.org/pandas-docs/stable/user_guide/indexing.html#deprecate-loc-reindex-listlike\n",
      "  target = target.loc[t_events]\n",
      "2019-11-25 14:08:57.965024 100.0% apply_pt_sl_on_t1 done after 0.11 minutes. Remaining 0.0 minutes..\n"
     ]
    }
   ],
   "source": [
    "pt_sl = [1, 2]\n",
    "min_ret = 0.005\n",
    "triple_barrier_events = ml.labeling.get_events(close=data['close'],\n",
    "                                               t_events=cusum_events,\n",
    "                                               pt_sl=pt_sl,\n",
    "                                               target=daily_vol,\n",
    "                                               min_ret=min_ret,\n",
    "                                               num_threads=3,\n",
    "                                               vertical_barrier_times=vertical_barriers,\n",
    "                                               side_prediction=data['side'])"
   ]
  },
  {
   "cell_type": "code",
   "execution_count": 16,
   "metadata": {},
   "outputs": [
    {
     "data": {
      "text/plain": [
       "-1.0    4384\n",
       " 1.0    4013\n",
       "Name: side, dtype: int64"
      ]
     },
     "execution_count": 16,
     "metadata": {},
     "output_type": "execute_result"
    }
   ],
   "source": [
    "labels = ml.labeling.get_bins(triple_barrier_events, data['close'])\n",
    "labels.side.value_counts()"
   ]
  },
  {
   "cell_type": "markdown",
   "metadata": {},
   "source": [
    "---\n",
    "### Results of Primary Model:\n",
    "What is the accuracy of predictions from the primary model (i.e., if the sec- ondary model does not filter the bets)? What are the precision, recall, and F1-scores?"
   ]
  },
  {
   "cell_type": "code",
   "execution_count": 17,
   "metadata": {},
   "outputs": [
    {
     "name": "stdout",
     "output_type": "stream",
     "text": [
      "              precision    recall  f1-score   support\n",
      "\n",
      "           0       0.00      0.00      0.00      5293\n",
      "           1       0.37      1.00      0.54      3104\n",
      "\n",
      "    accuracy                           0.37      8397\n",
      "   macro avg       0.18      0.50      0.27      8397\n",
      "weighted avg       0.14      0.37      0.20      8397\n",
      "\n",
      "Confusion Matrix\n",
      "[[   0 5293]\n",
      " [   0 3104]]\n",
      "\n",
      "Accuracy\n",
      "0.36965582946290343\n"
     ]
    },
    {
     "name": "stderr",
     "output_type": "stream",
     "text": [
      "/home/alex/anaconda3/envs/research/lib/python3.7/site-packages/sklearn/metrics/classification.py:1437: UndefinedMetricWarning: Precision and F-score are ill-defined and being set to 0.0 in labels with no predicted samples.\n",
      "  'precision', 'predicted', average, warn_for)\n"
     ]
    }
   ],
   "source": [
    "primary_forecast = pd.DataFrame(labels['bin'])\n",
    "primary_forecast['pred'] = 1\n",
    "primary_forecast.columns = ['actual', 'pred']\n",
    "\n",
    "# Performance Metrics\n",
    "actual = primary_forecast['actual']\n",
    "pred = primary_forecast['pred']\n",
    "print(classification_report(y_true=actual, y_pred=pred))\n",
    "\n",
    "print(\"Confusion Matrix\")\n",
    "print(confusion_matrix(actual, pred))\n",
    "\n",
    "print('')\n",
    "print(\"Accuracy\")\n",
    "print(accuracy_score(actual, pred))"
   ]
  },
  {
   "cell_type": "markdown",
   "metadata": {},
   "source": [
    "**A few takeaways**\n",
    "* There is an imbalance in the classes - more are classified as \"no trade\"\n",
    "* Meta-labeling says that there are many false-positives  \n",
    "* the sklearn's confusion matrix is [[TN, FP][FN, TP]] "
   ]
  },
  {
   "cell_type": "markdown",
   "metadata": {},
   "source": [
    "---\n",
    "## Fit a Meta Model\n",
    "Train a random forest to decide whether to trade or not (i.e 1 or 0 respectively) since the earlier model has decided the side (-1 or 1)\n",
    "\n",
    "Create the following features: \n",
    "* Volatility\n",
    "* Serial Correlation\n",
    "* The returns at the different lags from the serial correlation\n",
    "* The sides from the SMavg Strategy"
   ]
  },
  {
   "cell_type": "code",
   "execution_count": 18,
   "metadata": {},
   "outputs": [
    {
     "data": {
      "text/html": [
       "<div>\n",
       "<style scoped>\n",
       "    .dataframe tbody tr th:only-of-type {\n",
       "        vertical-align: middle;\n",
       "    }\n",
       "\n",
       "    .dataframe tbody tr th {\n",
       "        vertical-align: top;\n",
       "    }\n",
       "\n",
       "    .dataframe thead th {\n",
       "        text-align: right;\n",
       "    }\n",
       "</style>\n",
       "<table border=\"1\" class=\"dataframe\">\n",
       "  <thead>\n",
       "    <tr style=\"text-align: right;\">\n",
       "      <th></th>\n",
       "      <th>open</th>\n",
       "      <th>high</th>\n",
       "      <th>low</th>\n",
       "      <th>close</th>\n",
       "      <th>cum_vol</th>\n",
       "      <th>cum_dollar</th>\n",
       "      <th>cum_ticks</th>\n",
       "      <th>fast_mavg</th>\n",
       "      <th>slow_mavg</th>\n",
       "      <th>side</th>\n",
       "    </tr>\n",
       "    <tr>\n",
       "      <th>date_time</th>\n",
       "      <th></th>\n",
       "      <th></th>\n",
       "      <th></th>\n",
       "      <th></th>\n",
       "      <th></th>\n",
       "      <th></th>\n",
       "      <th></th>\n",
       "      <th></th>\n",
       "      <th></th>\n",
       "      <th></th>\n",
       "    </tr>\n",
       "  </thead>\n",
       "  <tbody>\n",
       "    <tr>\n",
       "      <th>2011-09-02 12:30:35.193</th>\n",
       "      <td>1192.00</td>\n",
       "      <td>1198.50</td>\n",
       "      <td>1182.00</td>\n",
       "      <td>1183.25</td>\n",
       "      <td>58894</td>\n",
       "      <td>70005676.00</td>\n",
       "      <td>18835</td>\n",
       "      <td>NaN</td>\n",
       "      <td>NaN</td>\n",
       "      <td>NaN</td>\n",
       "    </tr>\n",
       "    <tr>\n",
       "      <th>2011-09-02 12:34:43.063</th>\n",
       "      <td>1183.50</td>\n",
       "      <td>1185.50</td>\n",
       "      <td>1179.75</td>\n",
       "      <td>1180.25</td>\n",
       "      <td>59197</td>\n",
       "      <td>70003214.75</td>\n",
       "      <td>17995</td>\n",
       "      <td>NaN</td>\n",
       "      <td>NaN</td>\n",
       "      <td>NaN</td>\n",
       "    </tr>\n",
       "    <tr>\n",
       "      <th>2011-09-02 12:46:13.588</th>\n",
       "      <td>1180.25</td>\n",
       "      <td>1185.25</td>\n",
       "      <td>1179.75</td>\n",
       "      <td>1182.50</td>\n",
       "      <td>59181</td>\n",
       "      <td>70015589.25</td>\n",
       "      <td>20245</td>\n",
       "      <td>NaN</td>\n",
       "      <td>NaN</td>\n",
       "      <td>NaN</td>\n",
       "    </tr>\n",
       "    <tr>\n",
       "      <th>2011-09-02 13:16:37.863</th>\n",
       "      <td>1182.50</td>\n",
       "      <td>1184.00</td>\n",
       "      <td>1180.25</td>\n",
       "      <td>1180.50</td>\n",
       "      <td>59208</td>\n",
       "      <td>70001715.00</td>\n",
       "      <td>21976</td>\n",
       "      <td>NaN</td>\n",
       "      <td>NaN</td>\n",
       "      <td>NaN</td>\n",
       "    </tr>\n",
       "    <tr>\n",
       "      <th>2011-09-02 13:31:19.243</th>\n",
       "      <td>1180.50</td>\n",
       "      <td>1182.00</td>\n",
       "      <td>1178.00</td>\n",
       "      <td>1181.25</td>\n",
       "      <td>59320</td>\n",
       "      <td>70000150.25</td>\n",
       "      <td>20169</td>\n",
       "      <td>NaN</td>\n",
       "      <td>NaN</td>\n",
       "      <td>NaN</td>\n",
       "    </tr>\n",
       "  </tbody>\n",
       "</table>\n",
       "</div>"
      ],
      "text/plain": [
       "                            open     high      low    close  cum_vol  \\\n",
       "date_time                                                              \n",
       "2011-09-02 12:30:35.193  1192.00  1198.50  1182.00  1183.25    58894   \n",
       "2011-09-02 12:34:43.063  1183.50  1185.50  1179.75  1180.25    59197   \n",
       "2011-09-02 12:46:13.588  1180.25  1185.25  1179.75  1182.50    59181   \n",
       "2011-09-02 13:16:37.863  1182.50  1184.00  1180.25  1180.50    59208   \n",
       "2011-09-02 13:31:19.243  1180.50  1182.00  1178.00  1181.25    59320   \n",
       "\n",
       "                          cum_dollar  cum_ticks  fast_mavg  slow_mavg  side  \n",
       "date_time                                                                    \n",
       "2011-09-02 12:30:35.193  70005676.00      18835        NaN        NaN   NaN  \n",
       "2011-09-02 12:34:43.063  70003214.75      17995        NaN        NaN   NaN  \n",
       "2011-09-02 12:46:13.588  70015589.25      20245        NaN        NaN   NaN  \n",
       "2011-09-02 13:16:37.863  70001715.00      21976        NaN        NaN   NaN  \n",
       "2011-09-02 13:31:19.243  70000150.25      20169        NaN        NaN   NaN  "
      ]
     },
     "execution_count": 18,
     "metadata": {},
     "output_type": "execute_result"
    }
   ],
   "source": [
    "raw_data.head()"
   ]
  },
  {
   "cell_type": "markdown",
   "metadata": {},
   "source": [
    "### Features"
   ]
  },
  {
   "cell_type": "code",
   "execution_count": 19,
   "metadata": {},
   "outputs": [],
   "source": [
    "# Log Returns\n",
    "raw_data['log_ret'] = np.log(raw_data['close']).diff()\n",
    "\n",
    "# Momentum\n",
    "raw_data['mom1'] = raw_data['close'].pct_change(periods=1)\n",
    "raw_data['mom2'] = raw_data['close'].pct_change(periods=2)\n",
    "raw_data['mom3'] = raw_data['close'].pct_change(periods=3)\n",
    "raw_data['mom4'] = raw_data['close'].pct_change(periods=4)\n",
    "raw_data['mom5'] = raw_data['close'].pct_change(periods=5)\n",
    "\n",
    "# Volatility\n",
    "raw_data['volatility_50'] = raw_data['log_ret'].rolling(window=50, min_periods=50, center=False).std()\n",
    "raw_data['volatility_31'] = raw_data['log_ret'].rolling(window=31, min_periods=31, center=False).std()\n",
    "raw_data['volatility_15'] = raw_data['log_ret'].rolling(window=15, min_periods=15, center=False).std()\n",
    "\n",
    "# Serial Correlation (Takes about 4 minutes)\n",
    "window_autocorr = 50\n",
    "\n",
    "raw_data['autocorr_1'] = raw_data['log_ret'].rolling(window=window_autocorr, min_periods=window_autocorr, center=False).apply(lambda x: x.autocorr(lag=1), raw=False)\n",
    "raw_data['autocorr_2'] = raw_data['log_ret'].rolling(window=window_autocorr, min_periods=window_autocorr, center=False).apply(lambda x: x.autocorr(lag=2), raw=False)\n",
    "raw_data['autocorr_3'] = raw_data['log_ret'].rolling(window=window_autocorr, min_periods=window_autocorr, center=False).apply(lambda x: x.autocorr(lag=3), raw=False)\n",
    "raw_data['autocorr_4'] = raw_data['log_ret'].rolling(window=window_autocorr, min_periods=window_autocorr, center=False).apply(lambda x: x.autocorr(lag=4), raw=False)\n",
    "raw_data['autocorr_5'] = raw_data['log_ret'].rolling(window=window_autocorr, min_periods=window_autocorr, center=False).apply(lambda x: x.autocorr(lag=5), raw=False)\n",
    "\n",
    "# Get the various log -t returns\n",
    "raw_data['log_t1'] = raw_data['log_ret'].shift(1)\n",
    "raw_data['log_t2'] = raw_data['log_ret'].shift(2)\n",
    "raw_data['log_t3'] = raw_data['log_ret'].shift(3)\n",
    "raw_data['log_t4'] = raw_data['log_ret'].shift(4)\n",
    "raw_data['log_t5'] = raw_data['log_ret'].shift(5)"
   ]
  },
  {
   "cell_type": "code",
   "execution_count": 20,
   "metadata": {},
   "outputs": [],
   "source": [
    "# Re compute sides\n",
    "raw_data['side'] = np.nan\n",
    "\n",
    "long_signals = raw_data['fast_mavg'] >= raw_data['slow_mavg']\n",
    "short_signals = raw_data['fast_mavg'] < raw_data['slow_mavg']\n",
    "\n",
    "raw_data.loc[long_signals, 'side'] = 1\n",
    "raw_data.loc[short_signals, 'side'] = -1"
   ]
  },
  {
   "cell_type": "code",
   "execution_count": 21,
   "metadata": {},
   "outputs": [],
   "source": [
    "# Remove look ahead bias\n",
    "raw_data = raw_data.shift(1)"
   ]
  },
  {
   "cell_type": "markdown",
   "metadata": {},
   "source": [
    "#### Now get the data at the specified events"
   ]
  },
  {
   "cell_type": "code",
   "execution_count": 22,
   "metadata": {},
   "outputs": [],
   "source": [
    "# Get features at event dates\n",
    "X = raw_data.loc[labels.index, :]\n",
    "\n",
    "# Drop unwanted columns\n",
    "X.drop(['open', 'high', 'low', 'close', 'cum_vol', 'cum_dollar', 'cum_ticks','fast_mavg', 'slow_mavg',], axis=1, inplace=True)\n",
    "\n",
    "y = labels['bin']"
   ]
  },
  {
   "cell_type": "code",
   "execution_count": 23,
   "metadata": {},
   "outputs": [
    {
     "data": {
      "text/plain": [
       "0    5293\n",
       "1    3104\n",
       "Name: bin, dtype: int64"
      ]
     },
     "execution_count": 23,
     "metadata": {},
     "output_type": "execute_result"
    }
   ],
   "source": [
    "y.value_counts()"
   ]
  },
  {
   "cell_type": "code",
   "execution_count": 24,
   "metadata": {},
   "outputs": [],
   "source": [
    "# Split data into training, validation and test sets\n",
    "X_training_validation = X['2011-09-01':'2018-01-01']\n",
    "y_training_validation = y['2011-09-01':'2018-01-01']\n",
    "X_train, X_validate, y_train, y_validate = train_test_split(X_training_validation, y_training_validation, test_size=0.15, shuffle=False)"
   ]
  },
  {
   "cell_type": "markdown",
   "metadata": {},
   "source": [
    "# Sample weights"
   ]
  },
  {
   "cell_type": "code",
   "execution_count": 29,
   "metadata": {},
   "outputs": [
    {
     "name": "stderr",
     "output_type": "stream",
     "text": [
      "2019-11-25 14:17:48.599647 100.0% num_concurrent_events done after 0.02 minutes. Remaining 0.0 minutes.\n",
      "2019-11-25 14:17:49.851203 100.0% _apply_weight_by_return done after 0.02 minutes. Remaining 0.0 minutes.\n",
      "2019-11-25 14:17:51.186906 100.0% num_concurrent_events done after 0.02 minutes. Remaining 0.0 minutes.\n",
      "2019-11-25 14:17:52.079602 100.0% _get_average_uniqueness done after 0.01 minutes. Remaining 0.0 minutes.\n"
     ]
    }
   ],
   "source": [
    "return_based_sample_weights = get_weights_by_return(triple_barrier_events.loc[X_train.index], data.loc[X_train.index, 'close'])\n",
    "time_based_sample_weights = get_weights_by_time_decay(triple_barrier_events.loc[X_train.index], data.loc[X_train.index, 'close'], decay=0.5)"
   ]
  },
  {
   "cell_type": "code",
   "execution_count": 40,
   "metadata": {},
   "outputs": [
    {
     "data": {
      "image/png": "[encoded data removed]",
      "text/plain": [
       "<Figure size 1440x720 with 1 Axes>"
      ]
     },
     "metadata": {
      "needs_background": "light"
     },
     "output_type": "display_data"
    }
   ],
   "source": [
    "plt.figure(figsize=(20,10))\n",
    "plt.title('Returns/Concurrency based sample weights')\n",
    "return_based_sample_weights.reset_index()[0].plot()\n",
    "plt.show()"
   ]
  },
  {
   "cell_type": "code",
   "execution_count": 39,
   "metadata": {},
   "outputs": [
    {
     "data": {
      "image/png": "[encoded data removed]",
      "text/plain": [
       "<Figure size 1080x720 with 1 Axes>"
      ]
     },
     "metadata": {
      "needs_background": "light"
     },
     "output_type": "display_data"
    }
   ],
   "source": [
    "plt.figure(figsize=(15, 10))\n",
    "plt.title('Time decaying sample weights')\n",
    "time_based_sample_weights.plot()\n",
    "plt.show()"
   ]
  },
  {
   "cell_type": "markdown",
   "metadata": {},
   "source": [
    "### Cross-Validation"
   ]
  },
  {
   "cell_type": "code",
   "execution_count": 25,
   "metadata": {},
   "outputs": [],
   "source": [
    "parameters = {'max_depth':[2, 3, 4, 5, 7],\n",
    "              'n_estimators':[10, 25, 50, 100, 256, 512]}"
   ]
  },
  {
   "cell_type": "code",
   "execution_count": 26,
   "metadata": {},
   "outputs": [],
   "source": [
    "cv_gen_standard = KFold(4)\n",
    "cv_gen_purged = ml.cross_validation.PurgedKFold(n_splits=4, \n",
    "                                                samples_info_sets=triple_barrier_events.loc[X_train.index].t1)"
   ]
  },
  {
   "cell_type": "code",
   "execution_count": 42,
   "metadata": {},
   "outputs": [],
   "source": [
    "def perform_grid_search(X_data, y_data, cv_gen, scoring, type='standard'):\n",
    "    \"\"\"\n",
    "    Grid search using Purged CV without using sample weights in fit(). Returns top model and top score\n",
    "    \"\"\"\n",
    "    max_cross_val_score = -np.inf\n",
    "    top_model = None\n",
    "    for m_depth in parameters['max_depth']:\n",
    "        for n_est in parameters['n_estimators']:\n",
    "            clf_base = DecisionTreeClassifier(criterion='entropy', random_state=42, \n",
    "                                              max_depth=m_depth, class_weight='balanced')\n",
    "            if type == 'standard':\n",
    "                clf = BaggingClassifier(n_estimators=n_est, \n",
    "                                        base_estimator=clf_base, \n",
    "                                        random_state=42, n_jobs=-1, \n",
    "                                        oob_score=False, max_features=1.)\n",
    "            elif type == 'random_forest':\n",
    "                clf = RandomForestClassifier(n_estimators=n_est, \n",
    "                                             max_depth=m_depth, \n",
    "                                             random_state=42, \n",
    "                                             n_jobs=-1, \n",
    "                                             oob_score=False, \n",
    "                                            criterion='entropy',\n",
    "                                            class_weight='balanced_subsample', \n",
    "                                            max_features=1.)\n",
    "            elif type == 'sequential_bootstrapping':\n",
    "                clf = SequentiallyBootstrappedBaggingClassifier(samples_info_sets=triple_barrier_events.loc[X_train.index].t1,\n",
    "                                                                price_bars = data.loc[X_train.index.min():X_train.index.max(), 'close'],\n",
    "                                                                n_estimators=n_est, base_estimator=clf_base, \n",
    "                                                                random_state=42, n_jobs=-1, oob_score=False,\n",
    "                                                                max_features=1.)\n",
    "            temp_score_base = ml.cross_validation.ml_cross_val_score(clf, X_train, y_train, cv_gen, scoring=scoring)\n",
    "            if temp_score_base.mean() > max_cross_val_score:\n",
    "                max_cross_val_score = temp_score_base.mean()\n",
    "                print(temp_score_base.mean())\n",
    "                top_model = clf\n",
    "    return top_model, max_cross_val_score"
   ]
  },
  {
   "cell_type": "code",
   "execution_count": 45,
   "metadata": {},
   "outputs": [],
   "source": [
    "def perform_grid_search_sample_weights(X_data, y_data, cv_gen, scoring, type='standard'):\n",
    "    \"\"\"\n",
    "    Grid search using Purged CV using sample weights in fit(). Returns top model and top score\n",
    "    \"\"\"\n",
    "    max_cross_val_score = -np.inf\n",
    "    top_model = None\n",
    "    for m_depth in parameters['max_depth']:\n",
    "        for n_est in parameters['n_estimators']:\n",
    "            clf_base = DecisionTreeClassifier(criterion='entropy', random_state=42, \n",
    "                                              max_depth=m_depth, class_weight='balanced')\n",
    "            if type == 'standard':\n",
    "                clf = BaggingClassifier(n_estimators=n_est, \n",
    "                                        base_estimator=clf_base, \n",
    "                                        random_state=42, n_jobs=-1, \n",
    "                                        oob_score=False, max_features=1.)\n",
    "            elif type == 'random_forest':\n",
    "                clf = RandomForestClassifier(n_estimators=n_est, \n",
    "                                             max_depth=m_depth, \n",
    "                                             random_state=42, \n",
    "                                             n_jobs=-1, \n",
    "                                             oob_score=False, \n",
    "                                            criterion='entropy',\n",
    "                                            class_weight='balanced_subsample', \n",
    "                                            max_features=1.)\n",
    "            elif type == 'sequential_bootstrapping':\n",
    "                clf = SequentiallyBootstrappedBaggingClassifier(samples_info_sets=triple_barrier_events.loc[X_train.index].t1,\n",
    "                                                                price_bars = data.loc[X_train.index.min():X_train.index.max(), 'close'],\n",
    "                                                                n_estimators=n_est, base_estimator=clf_base, \n",
    "                                                                random_state=42, n_jobs=-1, oob_score=False,\n",
    "                                                                max_features=1.)\n",
    "            temp_score_base = ml.cross_validation.ml_cross_val_score(clf, X_train, y_train, cv_gen, scoring=scoring,\n",
    "                                                                    sample_weight=return_based_sample_weights.values)\n",
    "            if temp_score_base.mean() > max_cross_val_score:\n",
    "                max_cross_val_score = temp_score_base.mean()\n",
    "                print(temp_score_base.mean())\n",
    "                top_model = clf\n",
    "    return top_model, max_cross_val_score"
   ]
  },
  {
   "cell_type": "code",
   "execution_count": 43,
   "metadata": {},
   "outputs": [
    {
     "name": "stdout",
     "output_type": "stream",
     "text": [
      "0.398540497902952\n",
      "0.44005908790011156\n"
     ]
    }
   ],
   "source": [
    "top_model, cross_val_score = perform_grid_search(X_train, y_train, cv_gen_purged, 'f1', type = 'standard')"
   ]
  },
  {
   "cell_type": "code",
   "execution_count": 46,
   "metadata": {},
   "outputs": [
    {
     "name": "stdout",
     "output_type": "stream",
     "text": [
      "0.4225752089347531\n",
      "0.44954334973412946\n",
      "0.4536392517504336\n",
      "0.46023718653874335\n"
     ]
    }
   ],
   "source": [
    "top_model, cross_val_score = perform_grid_search_sample_weights(X_train, y_train, cv_gen_purged, 'f1', type = 'standard')"
   ]
  },
  {
   "cell_type": "code",
   "execution_count": 47,
   "metadata": {},
   "outputs": [
    {
     "data": {
      "text/plain": [
       "BaggingClassifier(base_estimator=DecisionTreeClassifier(class_weight='balanced',\n",
       "                                                        criterion='entropy',\n",
       "                                                        max_depth=2,\n",
       "                                                        max_features=None,\n",
       "                                                        max_leaf_nodes=None,\n",
       "                                                        min_impurity_decrease=0.0,\n",
       "                                                        min_impurity_split=None,\n",
       "                                                        min_samples_leaf=1,\n",
       "                                                        min_samples_split=2,\n",
       "                                                        min_weight_fraction_leaf=0.0,\n",
       "                                                        presort=False,\n",
       "                                                        random_state=42,\n",
       "                                                        splitter='best'),\n",
       "                  bootstrap=True, bootstrap_features=False, max_features=1.0,\n",
       "                  max_samples=1.0, n_estimators=100, n_jobs=-1, oob_score=False,\n",
       "                  random_state=42, verbose=0, warm_start=False)"
      ]
     },
     "execution_count": 47,
     "metadata": {},
     "output_type": "execute_result"
    }
   ],
   "source": [
    "top_model"
   ]
  },
  {
   "cell_type": "markdown",
   "metadata": {},
   "source": [
    "As you can see adding sample weights increases cross-validation score"
   ]
  },
  {
   "cell_type": "markdown",
   "metadata": {},
   "source": [
    "# Feature importance"
   ]
  },
  {
   "cell_type": "code",
   "execution_count": 48,
   "metadata": {},
   "outputs": [],
   "source": [
    "# MDI, MDA, SFI feature importance\n",
    "mdi_feat_imp = feature_importance_mean_decrease_impurity(top_model, X_train.columns)\n",
    "mda_feat_imp = feature_importance_mean_decrease_accuracy(top_model, X_train, y_train, cv_gen_purged, scoring='f1', \n",
    "                                                         sample_weight=return_based_sample_weights.values)\n",
    "sfi_feat_imp = feature_importance_sfi(top_model, X_train, y_train, cv_gen_purged, scoring='f1',\n",
    "                                     sample_weight=return_based_sample_weights.values)"
   ]
  },
  {
   "cell_type": "code",
   "execution_count": 55,
   "metadata": {},
   "outputs": [
    {
     "data": {
      "image/png": "[encoded data removed]",
      "text/plain": [
       "<Figure size 720x288 with 1 Axes>"
      ]
     },
     "metadata": {
      "needs_background": "light"
     },
     "output_type": "display_data"
    }
   ],
   "source": [
    "plot_feature_importance(mdi_feat_imp, 0, 0)"
   ]
  },
  {
   "cell_type": "code",
   "execution_count": 56,
   "metadata": {},
   "outputs": [
    {
     "data": {
      "image/png": "[encoded data removed]",
      "text/plain": [
       "<Figure size 720x288 with 1 Axes>"
      ]
     },
     "metadata": {
      "needs_background": "light"
     },
     "output_type": "display_data"
    }
   ],
   "source": [
    "plot_feature_importance(mda_feat_imp, 0, 0)"
   ]
  },
  {
   "cell_type": "code",
   "execution_count": 57,
   "metadata": {},
   "outputs": [
    {
     "data": {
      "image/png": "[encoded data removed]",
      "text/plain": [
       "<Figure size 720x288 with 1 Axes>"
      ]
     },
     "metadata": {
      "needs_background": "light"
     },
     "output_type": "display_data"
    }
   ],
   "source": [
    "plot_feature_importance(sfi_feat_imp, 0, 0)"
   ]
  }
 ],
 "metadata": {
  "kernelspec": {
   "display_name": "Python 3",
   "language": "python",
   "name": "python3"
  },
  "language_info": {
   "codemirror_mode": {
    "name": "ipython",
    "version": 3
   },
   "file_extension": ".py",
   "mimetype": "text/x-python",
   "name": "python",
   "nbconvert_exporter": "python",
   "pygments_lexer": "ipython3",
   "version": "3.7.3"
  }
 },
 "nbformat": 4,
 "nbformat_minor": 2
}
