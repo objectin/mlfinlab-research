{
 "cells": [
  {
   "cell_type": "markdown",
   "metadata": {},
   "source": [
    "- By: Proskurin Oleksandr\n",
    "- Email: proskurinolexandr@gmail.com\n",
    "- Reference: Advances in Financial Machine Learning, Marcos Lopez De Prado, pg 59-73"
   ]
  },
  {
   "cell_type": "markdown",
   "metadata": {},
   "source": [
    "# Introduction"
   ]
  },
  {
   "cell_type": "markdown",
   "metadata": {},
   "source": [
    "In Chapter 3 notebooks, we have understood how Triple-Barrier and Meta-Labelling concepts work. The next problem in financial machine learning is non-independent samples as a result of that standard machine learning models like Random Forest and Bagging Classifier need to be modified. In this notebook we will tackle the proble of concurrency and the solution to that - __Sequential Bootstrapping__. "
   ]
  },
  {
   "cell_type": "code",
   "execution_count": 2,
   "metadata": {},
   "outputs": [],
   "source": [
    "import pandas as pd\n",
    "import seaborn as sns\n",
    "import numpy as np\n",
    "import mlfinlab as ml\n",
    "from numba import jit, prange\n",
    "from mlfinlab.sampling.bootstrapping import get_ind_mat_average_uniqueness, get_ind_matrix, seq_bootstrap\n",
    "from mlfinlab.sampling.concurrent import get_av_uniqueness_from_tripple_barrier"
   ]
  },
  {
   "cell_type": "markdown",
   "metadata": {},
   "source": [
    "We take dollar bars and barrier events generated from https://github.com/hudson-and-thames/research/blob/master/Chapter3/2019-03-06_JJ_Trend-Follow-Question.ipynb"
   ]
  },
  {
   "cell_type": "code",
   "execution_count": 3,
   "metadata": {},
   "outputs": [],
   "source": [
    "barrier_events = pd.read_csv('barrier_events.csv', index_col=0, parse_dates=[0,2]) \n",
    "close_prices = pd.read_csv('official_data/dollar_bars.csv', index_col=0, parse_dates=[0,2])"
   ]
  },
  {
   "cell_type": "markdown",
   "metadata": {},
   "source": [
    "In financial machine learning, samples are not independent. The most part of traditional machine learning algorithms assume that samples are i.i.d, in case of financial machine learning samples are neither identically distributed not indepedent.\n",
    "In this section we will tackle the problem of samples dependency. As you remember, we mostly label our datasets using triple-barrier method. Each label in triple-barrier event has label index and label endtime (t1) which corresponds to time when one of barriers was touched. Let's look at example of 3 samples: A, B, C. \n",
    "\n",
    "Imagine that \n",
    "\n",
    "A was generated at $t_1$ and triggered on $t_8$\n",
    "\n",
    "B was generated at $t_3$ and triggered on $t_6$\n",
    "\n",
    "C was generated on $t_7$ and triggered on $t_9$\n",
    "\n",
    "In this case we see that A used information about returns on $[t_1,t_8]$ to generate label-endtime which overlaps with $[t_3, t_6]$ which was used by B, however C didn't use any returns information which was used by to label other samples. Here we would like to introduce the concept of concurrency. \n",
    "\n",
    "We say that labels $y_i$ and $y_j$ are concurrent at $t$ if they are a function of at least one common return at $r_{t-1,t}$\n",
    "\n",
    "In terms of concurrency label C is the most 'pure' as it doesn't use any piece of information from other labels, while A is the 'dirtiest' as it uses information from both B and C. We can measure average label uniqueness using get_av_uniqueness_from_tripple_barrier function from mlfinlab package"
   ]
  },
  {
   "cell_type": "code",
   "execution_count": 4,
   "metadata": {},
   "outputs": [
    {
     "name": "stderr",
     "output_type": "stream",
     "text": [
      "2019-07-11 14:05:35.694291 100.0% num_concurrent_events done after 0.03 minutes. Remaining 0.0 minutes..\n",
      "2019-07-11 14:05:37.332421 100.0% _get_average_uniqueness done after 0.02 minutes. Remaining 0.0 minutes..\n"
     ]
    }
   ],
   "source": [
    "av_unique = get_av_uniqueness_from_tripple_barrier(barrier_events, close_prices.close, num_threads=3)"
   ]
  },
  {
   "cell_type": "markdown",
   "metadata": {},
   "source": [
    "By understanding average label uniqueness you can measure how 'pure' your dataset is based on concurrency of labels"
   ]
  },
  {
   "cell_type": "code",
   "execution_count": 5,
   "metadata": {},
   "outputs": [
    {
     "data": {
      "text/plain": [
       "tW    0.163135\n",
       "dtype: float64"
      ]
     },
     "execution_count": 5,
     "metadata": {},
     "output_type": "execute_result"
    }
   ],
   "source": [
    "av_unique.mean()"
   ]
  },
  {
   "cell_type": "markdown",
   "metadata": {},
   "source": [
    "Let's look at one of the labels which have average uniqueness equal to 1 which means that it doesn't use any information from other labels"
   ]
  },
  {
   "cell_type": "code",
   "execution_count": 6,
   "metadata": {},
   "outputs": [],
   "source": [
    "unique_label_index = av_unique[av_unique.tW == 1].index[0] # take the first sample "
   ]
  },
  {
   "cell_type": "code",
   "execution_count": 7,
   "metadata": {},
   "outputs": [
    {
     "data": {
      "text/plain": [
       "Timestamp('2012-02-27 15:08:12.160000')"
      ]
     },
     "execution_count": 7,
     "metadata": {},
     "output_type": "execute_result"
    }
   ],
   "source": [
    "unique_label_index"
   ]
  },
  {
   "cell_type": "code",
   "execution_count": 8,
   "metadata": {},
   "outputs": [
    {
     "data": {
      "text/html": [
       "<div>\n",
       "<style scoped>\n",
       "    .dataframe tbody tr th:only-of-type {\n",
       "        vertical-align: middle;\n",
       "    }\n",
       "\n",
       "    .dataframe tbody tr th {\n",
       "        vertical-align: top;\n",
       "    }\n",
       "\n",
       "    .dataframe thead th {\n",
       "        text-align: right;\n",
       "    }\n",
       "</style>\n",
       "<table border=\"1\" class=\"dataframe\">\n",
       "  <thead>\n",
       "    <tr style=\"text-align: right;\">\n",
       "      <th></th>\n",
       "      <th>side</th>\n",
       "      <th>t1</th>\n",
       "      <th>trgt</th>\n",
       "    </tr>\n",
       "  </thead>\n",
       "  <tbody>\n",
       "    <tr>\n",
       "      <th>2012-02-27 15:08:12.160</th>\n",
       "      <td>-1.0</td>\n",
       "      <td>2012-02-28 06:13:08.151</td>\n",
       "      <td>0.005140</td>\n",
       "    </tr>\n",
       "    <tr>\n",
       "      <th>2012-03-07 14:52:28.079</th>\n",
       "      <td>-1.0</td>\n",
       "      <td>2012-03-08 09:14:10.272</td>\n",
       "      <td>0.005617</td>\n",
       "    </tr>\n",
       "    <tr>\n",
       "      <th>2012-03-07 16:10:42.766</th>\n",
       "      <td>1.0</td>\n",
       "      <td>2012-03-08 09:14:10.272</td>\n",
       "      <td>0.006731</td>\n",
       "    </tr>\n",
       "    <tr>\n",
       "      <th>2012-03-07 20:48:01.998</th>\n",
       "      <td>1.0</td>\n",
       "      <td>2012-03-08 19:53:12.251</td>\n",
       "      <td>0.008542</td>\n",
       "    </tr>\n",
       "    <tr>\n",
       "      <th>2012-03-08 08:00:15.623</th>\n",
       "      <td>1.0</td>\n",
       "      <td>2012-03-08 20:15:41.320</td>\n",
       "      <td>0.008443</td>\n",
       "    </tr>\n",
       "  </tbody>\n",
       "</table>\n",
       "</div>"
      ],
      "text/plain": [
       "                         side                      t1      trgt\n",
       "2012-02-27 15:08:12.160  -1.0 2012-02-28 06:13:08.151  0.005140\n",
       "2012-03-07 14:52:28.079  -1.0 2012-03-08 09:14:10.272  0.005617\n",
       "2012-03-07 16:10:42.766   1.0 2012-03-08 09:14:10.272  0.006731\n",
       "2012-03-07 20:48:01.998   1.0 2012-03-08 19:53:12.251  0.008542\n",
       "2012-03-08 08:00:15.623   1.0 2012-03-08 20:15:41.320  0.008443"
      ]
     },
     "execution_count": 8,
     "metadata": {},
     "output_type": "execute_result"
    }
   ],
   "source": [
    "barrier_events[barrier_events.index >= unique_label_index].head()"
   ]
  },
  {
   "cell_type": "markdown",
   "metadata": {},
   "source": [
    "As you can see sample 2012-02-27 15:08:12.160 doesn't use any information from 2012-03-07 14:52:28.079 which is the next label.\n",
    "\n",
    "We would like to build our model in such a way that it takes into account labels concurrency. In order to do that we need to look at bootstrapping algorithm of Random Forest.\n"
   ]
  },
  {
   "cell_type": "markdown",
   "metadata": {},
   "source": [
    "# Bagging, Bootstrapping and Random Forest"
   ]
  },
  {
   "cell_type": "markdown",
   "metadata": {},
   "source": [
    "The key power of ensemble learning techniques is bagging (which is bootstrapping with replacement). The key idea behind bagging is to randomly choose samples for each decision tree. In this case trees become diverse and by averaging predictions of diverse tress built on randomly selected samples and random subset of features data scientists make the algorithm much less prone to overfit. \n",
    "\n",
    "However, in our case we would not only like to randomly choose samples but also choose samples which are unique and non-concurrent. But how can we solve this problem? Here comes Sequential Bootstrapping algorithm.\n",
    "\n",
    "The key idea behind Sequential Bootstrapping is to select samples in such a way that on each iteration we maximize average uniqueness of selected subsamples. Let's try to understand how this technique works on toy example from the book."
   ]
  },
  {
   "cell_type": "markdown",
   "metadata": {},
   "source": [
    "Consider a set of labels $\\left\\{y_i\\right\\}_{i=0,1,2}$ where: \n",
    "\n",
    "label $y_0$ is a function of return $r_{0,2}$\n",
    "\n",
    "label $y_1$ is a function of return $r_{2,3}$\n",
    "\n",
    "label $y_2$ is a function of return $r_{4,5}$"
   ]
  },
  {
   "cell_type": "markdown",
   "metadata": {},
   "source": [
    "The first thing we need to do is to build and indicator matrix. Columns of this matrix correspond to samples and rows correspond to price returns timestamps which were used during samples labelling. In our case indicator matrix is"
   ]
  },
  {
   "cell_type": "code",
   "execution_count": 9,
   "metadata": {},
   "outputs": [],
   "source": [
    "ind_mat = pd.DataFrame(index = range(0,6), columns=range(0,3))"
   ]
  },
  {
   "cell_type": "code",
   "execution_count": 10,
   "metadata": {},
   "outputs": [],
   "source": [
    "ind_mat.loc[:, 0] = [1, 1, 1, 0, 0, 0]\n",
    "ind_mat.loc[:, 1] = [0, 0, 1, 1, 0, 0]\n",
    "ind_mat.loc[:, 2] = [0, 0, 0, 0, 1, 1]"
   ]
  },
  {
   "cell_type": "code",
   "execution_count": 11,
   "metadata": {},
   "outputs": [
    {
     "data": {
      "text/html": [
       "<div>\n",
       "<style scoped>\n",
       "    .dataframe tbody tr th:only-of-type {\n",
       "        vertical-align: middle;\n",
       "    }\n",
       "\n",
       "    .dataframe tbody tr th {\n",
       "        vertical-align: top;\n",
       "    }\n",
       "\n",
       "    .dataframe thead th {\n",
       "        text-align: right;\n",
       "    }\n",
       "</style>\n",
       "<table border=\"1\" class=\"dataframe\">\n",
       "  <thead>\n",
       "    <tr style=\"text-align: right;\">\n",
       "      <th></th>\n",
       "      <th>0</th>\n",
       "      <th>1</th>\n",
       "      <th>2</th>\n",
       "    </tr>\n",
       "  </thead>\n",
       "  <tbody>\n",
       "    <tr>\n",
       "      <th>0</th>\n",
       "      <td>1</td>\n",
       "      <td>0</td>\n",
       "      <td>0</td>\n",
       "    </tr>\n",
       "    <tr>\n",
       "      <th>1</th>\n",
       "      <td>1</td>\n",
       "      <td>0</td>\n",
       "      <td>0</td>\n",
       "    </tr>\n",
       "    <tr>\n",
       "      <th>2</th>\n",
       "      <td>1</td>\n",
       "      <td>1</td>\n",
       "      <td>0</td>\n",
       "    </tr>\n",
       "    <tr>\n",
       "      <th>3</th>\n",
       "      <td>0</td>\n",
       "      <td>1</td>\n",
       "      <td>0</td>\n",
       "    </tr>\n",
       "    <tr>\n",
       "      <th>4</th>\n",
       "      <td>0</td>\n",
       "      <td>0</td>\n",
       "      <td>1</td>\n",
       "    </tr>\n",
       "    <tr>\n",
       "      <th>5</th>\n",
       "      <td>0</td>\n",
       "      <td>0</td>\n",
       "      <td>1</td>\n",
       "    </tr>\n",
       "  </tbody>\n",
       "</table>\n",
       "</div>"
      ],
      "text/plain": [
       "   0  1  2\n",
       "0  1  0  0\n",
       "1  1  0  0\n",
       "2  1  1  0\n",
       "3  0  1  0\n",
       "4  0  0  1\n",
       "5  0  0  1"
      ]
     },
     "execution_count": 11,
     "metadata": {},
     "output_type": "execute_result"
    }
   ],
   "source": [
    "ind_mat"
   ]
  },
  {
   "cell_type": "markdown",
   "metadata": {},
   "source": [
    "One can use get_ind_matrix method from mlfinlab to build indicator matrix from triple-barrier events."
   ]
  },
  {
   "cell_type": "code",
   "execution_count": 12,
   "metadata": {},
   "outputs": [],
   "source": [
    "triple_barrier_ind_mat = get_ind_matrix(barrier_events)"
   ]
  },
  {
   "cell_type": "markdown",
   "metadata": {},
   "source": [
    "We can get average label uniqueness on indicator matrix using get_ind_mat_average_uniqueness function from mlfinlab."
   ]
  },
  {
   "cell_type": "code",
   "execution_count": 13,
   "metadata": {},
   "outputs": [],
   "source": [
    "ind_mat_uniqueness = get_ind_mat_average_uniqueness(triple_barrier_ind_mat)"
   ]
  },
  {
   "cell_type": "markdown",
   "metadata": {},
   "source": [
    "Let's get the first sample average uniqueness (we need to filter out zeros to get unbiased result)."
   ]
  },
  {
   "cell_type": "code",
   "execution_count": 14,
   "metadata": {},
   "outputs": [
    {
     "data": {
      "text/plain": [
       "0.26886446886446885"
      ]
     },
     "execution_count": 14,
     "metadata": {},
     "output_type": "execute_result"
    }
   ],
   "source": [
    "first_sample = ind_mat_uniqueness[0]\n",
    "first_sample[first_sample > 0].mean()"
   ]
  },
  {
   "cell_type": "code",
   "execution_count": 15,
   "metadata": {},
   "outputs": [
    {
     "data": {
      "text/plain": [
       "tW    0.238776\n",
       "Name: 2011-09-05 14:12:23.480000, dtype: float64"
      ]
     },
     "execution_count": 15,
     "metadata": {},
     "output_type": "execute_result"
    }
   ],
   "source": [
    "av_unique.iloc[0]"
   ]
  },
  {
   "cell_type": "markdown",
   "metadata": {},
   "source": [
    "As you can see it is quite close to values generated by __get_av_uniqueness_from_tripple_barrier__ function call. \n",
    "\n",
    "Let's move back to our example. In Sequential Bootstrapping algorithm we start with an empty array of samples ($phi$) and loop through all samples to get the probability of chosing the sample based on average uniqueness of reduced indicator matrix constructed from [previously chosen columns] + sample\n",
    "\n",
    "`\n",
    "phi = []\n",
    "while length(phi) < number of samples to bootstrap:\n",
    "    average_uniqueness_array = []\n",
    "    for sample in samples:\n",
    "        previous_columns  = phi\n",
    "        ind_mat_reduced = ind_mat[previous_columns + i]\n",
    "        average_uniqueness_array[sample] = get_ind_mat_average_uniqueness(ind_mat_reduced)   \n",
    "    // normalise so that probabilities sum up to 1\n",
    "    probability_array = average_uniqueness_array / sum(average_uniqueness_array) \n",
    "    chosen_sample = random_choice(samples, probability = probability_array)\n",
    "    phi.append(chosen_sample)`"
   ]
  },
  {
   "cell_type": "markdown",
   "metadata": {},
   "source": [
    "For peformance increase we optimized and parallesied for-loop using numba, which corresponds to bootstrap_loop_run function.\n",
    "\n",
    "Not let's finish the example"
   ]
  },
  {
   "cell_type": "code",
   "execution_count": 16,
   "metadata": {},
   "outputs": [
    {
     "data": {
      "text/html": [
       "<div>\n",
       "<style scoped>\n",
       "    .dataframe tbody tr th:only-of-type {\n",
       "        vertical-align: middle;\n",
       "    }\n",
       "\n",
       "    .dataframe tbody tr th {\n",
       "        vertical-align: top;\n",
       "    }\n",
       "\n",
       "    .dataframe thead th {\n",
       "        text-align: right;\n",
       "    }\n",
       "</style>\n",
       "<table border=\"1\" class=\"dataframe\">\n",
       "  <thead>\n",
       "    <tr style=\"text-align: right;\">\n",
       "      <th></th>\n",
       "      <th>0</th>\n",
       "      <th>1</th>\n",
       "      <th>2</th>\n",
       "    </tr>\n",
       "  </thead>\n",
       "  <tbody>\n",
       "    <tr>\n",
       "      <th>0</th>\n",
       "      <td>1</td>\n",
       "      <td>0</td>\n",
       "      <td>0</td>\n",
       "    </tr>\n",
       "    <tr>\n",
       "      <th>1</th>\n",
       "      <td>1</td>\n",
       "      <td>0</td>\n",
       "      <td>0</td>\n",
       "    </tr>\n",
       "    <tr>\n",
       "      <th>2</th>\n",
       "      <td>1</td>\n",
       "      <td>1</td>\n",
       "      <td>0</td>\n",
       "    </tr>\n",
       "    <tr>\n",
       "      <th>3</th>\n",
       "      <td>0</td>\n",
       "      <td>1</td>\n",
       "      <td>0</td>\n",
       "    </tr>\n",
       "    <tr>\n",
       "      <th>4</th>\n",
       "      <td>0</td>\n",
       "      <td>0</td>\n",
       "      <td>1</td>\n",
       "    </tr>\n",
       "    <tr>\n",
       "      <th>5</th>\n",
       "      <td>0</td>\n",
       "      <td>0</td>\n",
       "      <td>1</td>\n",
       "    </tr>\n",
       "  </tbody>\n",
       "</table>\n",
       "</div>"
      ],
      "text/plain": [
       "   0  1  2\n",
       "0  1  0  0\n",
       "1  1  0  0\n",
       "2  1  1  0\n",
       "3  0  1  0\n",
       "4  0  0  1\n",
       "5  0  0  1"
      ]
     },
     "execution_count": 16,
     "metadata": {},
     "output_type": "execute_result"
    }
   ],
   "source": [
    "ind_mat"
   ]
  },
  {
   "cell_type": "markdown",
   "metadata": {},
   "source": [
    "to be as close to mlfinlab implementation let's convert ind_mat to numpy matrix"
   ]
  },
  {
   "cell_type": "code",
   "execution_count": 17,
   "metadata": {},
   "outputs": [],
   "source": [
    "ind_mat = ind_mat.values"
   ]
  },
  {
   "cell_type": "markdown",
   "metadata": {},
   "source": [
    "1st iteration"
   ]
  },
  {
   "cell_type": "markdown",
   "metadata": {},
   "source": [
    "On the first step all labels will have equal probalities as average uniqueness of matrix with 1 column is 1. Say we have chosen 1 on the first step"
   ]
  },
  {
   "cell_type": "markdown",
   "metadata": {},
   "source": [
    "2nd iteration"
   ]
  },
  {
   "cell_type": "code",
   "execution_count": 18,
   "metadata": {},
   "outputs": [
    {
     "name": "stderr",
     "output_type": "stream",
     "text": [
      "/home/alex/anaconda3/lib/python3.7/site-packages/mlfinlab/sampling/bootstrapping.py:50: RuntimeWarning: invalid value encountered in true_divide\n",
      "  average = ind_mat.T / conc\n",
      "/home/alex/anaconda3/lib/python3.7/site-packages/ipykernel_launcher.py:6: RuntimeWarning: invalid value encountered in greater\n",
      "  \n"
     ]
    }
   ],
   "source": [
    "phi = [1] # Sample chosen from the 2st step\n",
    "uniqueness_array = np.array([None, None, None])\n",
    "for i in range(0, 3):\n",
    "    ind_mat_reduced = ind_mat[:, phi + [i]]\n",
    "    label_uniqueness = get_ind_mat_average_uniqueness(ind_mat_reduced)[-1] # The last value corresponds to appended i\n",
    "    uniqueness_array[i] = (label_uniqueness[label_uniqueness > 0].mean())\n",
    "prob_array = uniqueness_array / sum(uniqueness_array)\n"
   ]
  },
  {
   "cell_type": "code",
   "execution_count": 19,
   "metadata": {},
   "outputs": [
    {
     "data": {
      "text/plain": [
       "array([0.35714285714285715, 0.21428571428571427, 0.42857142857142855],\n",
       "      dtype=object)"
      ]
     },
     "execution_count": 19,
     "metadata": {},
     "output_type": "execute_result"
    }
   ],
   "source": [
    "prob_array"
   ]
  },
  {
   "cell_type": "markdown",
   "metadata": {},
   "source": [
    "Probably the second chosen feature will be 2 (prob_array[2] = 0.42857 which is the largest probability). As you can see up till now the algorithm has chosen two the least concurrent labels (1 and 2)"
   ]
  },
  {
   "cell_type": "markdown",
   "metadata": {},
   "source": [
    "3rd iteration"
   ]
  },
  {
   "cell_type": "code",
   "execution_count": 20,
   "metadata": {},
   "outputs": [
    {
     "name": "stderr",
     "output_type": "stream",
     "text": [
      "/home/alex/anaconda3/lib/python3.7/site-packages/ipykernel_launcher.py:6: RuntimeWarning: invalid value encountered in greater\n",
      "  \n"
     ]
    }
   ],
   "source": [
    "phi = [1,2]\n",
    "uniqueness_array = np.array([None, None, None])\n",
    "for i in range(0, 3):\n",
    "    ind_mat_reduced = ind_mat[:, phi + [i]]\n",
    "    label_uniqueness = get_ind_mat_average_uniqueness(ind_mat_reduced)[-1]\n",
    "    uniqueness_array[i] = (label_uniqueness[label_uniqueness > 0].mean())\n",
    "prob_array = uniqueness_array / sum(uniqueness_array)"
   ]
  },
  {
   "cell_type": "code",
   "execution_count": 21,
   "metadata": {},
   "outputs": [
    {
     "data": {
      "text/plain": [
       "array([0.45454545454545453, 0.2727272727272727, 0.2727272727272727],\n",
       "      dtype=object)"
      ]
     },
     "execution_count": 21,
     "metadata": {},
     "output_type": "execute_result"
    }
   ],
   "source": [
    "prob_array"
   ]
  },
  {
   "cell_type": "markdown",
   "metadata": {},
   "source": [
    "Sequential Bootstrapping tries to minimise the probability of repeated samples so as you can see the most probable sample would be 0 with 1 and 2 already selected."
   ]
  },
  {
   "cell_type": "markdown",
   "metadata": {},
   "source": [
    "4th iteration"
   ]
  },
  {
   "cell_type": "code",
   "execution_count": 22,
   "metadata": {},
   "outputs": [],
   "source": [
    "phi = [1, 2, 0]\n",
    "uniqueness_array = np.array([None, None, None])\n",
    "for i in range(0, 3):\n",
    "    ind_mat_reduced = ind_mat[:, phi + [i]]\n",
    "    label_uniqueness = get_ind_mat_average_uniqueness(ind_mat_reduced)[-1]\n",
    "    uniqueness_array[i] = (label_uniqueness[label_uniqueness > 0].mean())\n",
    "prob_array = uniqueness_array / sum(uniqueness_array)"
   ]
  },
  {
   "cell_type": "code",
   "execution_count": 23,
   "metadata": {},
   "outputs": [
    {
     "data": {
      "text/plain": [
       "array([0.32653061224489793, 0.3061224489795918, 0.36734693877551017],\n",
       "      dtype=object)"
      ]
     },
     "execution_count": 23,
     "metadata": {},
     "output_type": "execute_result"
    }
   ],
   "source": [
    "prob_array"
   ]
  },
  {
   "cell_type": "markdown",
   "metadata": {},
   "source": [
    "The most probable sample would be 2 in this case"
   ]
  },
  {
   "cell_type": "markdown",
   "metadata": {},
   "source": [
    "After 4 steps of sequential bootstrapping our drawn samples are [1,2,0,2]"
   ]
  },
  {
   "cell_type": "markdown",
   "metadata": {},
   "source": [
    "Let's see how this example is solved by mlfinlab implementation. To reproduce that:\n",
    "\n",
    "1) we need to set warmup to [1], which corresponds to phi = [1] on the first step\n",
    "\n",
    "2) verbose = True to print updated probabilities"
   ]
  },
  {
   "cell_type": "code",
   "execution_count": 37,
   "metadata": {},
   "outputs": [
    {
     "name": "stdout",
     "output_type": "stream",
     "text": [
      "[0.33333333 0.33333333 0.33333333]\n",
      "[0.35714286 0.21428571 0.42857143]\n",
      "[0.45454545 0.27272727 0.27272727]\n",
      "[0.32653061 0.30612245 0.36734694]\n"
     ]
    }
   ],
   "source": [
    "samples = seq_bootstrap(ind_mat, sample_length=4, warmup_samples=[1], verbose=True)"
   ]
  },
  {
   "cell_type": "code",
   "execution_count": 38,
   "metadata": {},
   "outputs": [
    {
     "data": {
      "text/plain": [
       "[1, 2, 0, 2]"
      ]
     },
     "execution_count": 38,
     "metadata": {},
     "output_type": "execute_result"
    }
   ],
   "source": [
    "samples"
   ]
  },
  {
   "cell_type": "markdown",
   "metadata": {},
   "source": [
    "As you can see the first 2 iterations of algorithm yield the same probabilities, however sometimes the algorithm randomly chooses not the 2 sample on 2nd iteration that is why further probabilities are different from the example above. However, if you repeat the process several times you'll see that on average drawn sample equal to the one from the example "
   ]
  },
  {
   "cell_type": "markdown",
   "metadata": {},
   "source": [
    "# Monte-Carlo experiment"
   ]
  },
  {
   "cell_type": "markdown",
   "metadata": {},
   "source": [
    "Let's see how sequential bootstrapping increases average label uniqueness on this example by generating 3 samples using sequential bootstrapping and 3 samples using standard random choise, repeat the experiment 10000 times and record corresponding label uniqueness in each experiment"
   ]
  },
  {
   "cell_type": "code",
   "execution_count": 39,
   "metadata": {},
   "outputs": [
    {
     "name": "stderr",
     "output_type": "stream",
     "text": [
      "/home/alex/anaconda3/lib/python3.7/site-packages/mlfinlab/sampling/bootstrapping.py:50: RuntimeWarning: invalid value encountered in true_divide\n",
      "  average = ind_mat.T / conc\n",
      "/home/alex/anaconda3/lib/python3.7/site-packages/ipykernel_launcher.py:11: RuntimeWarning: invalid value encountered in greater\n",
      "  # This is added back by InteractiveShellApp.init_path()\n",
      "/home/alex/anaconda3/lib/python3.7/site-packages/ipykernel_launcher.py:8: RuntimeWarning: invalid value encountered in greater\n",
      "  \n"
     ]
    }
   ],
   "source": [
    "standard_unq_array = np.zeros(10000) * np.nan # Array of random sampling uniqueness\n",
    "seq_unq_array = np.zeros(10000) * np.nan # Array of Sequential Bootstapping uniqueness\n",
    "for i in range(0, 10000):\n",
    "    bootstrapped_samples = seq_bootstrap(ind_mat, sample_length=3)\n",
    "    random_samples = np.random.choice(ind_mat.shape[1], size=3)\n",
    "    \n",
    "    random_unq = get_ind_mat_average_uniqueness(ind_mat[:, random_samples])\n",
    "    random_unq_mean = random_unq[random_unq > 0].mean()\n",
    "\n",
    "    sequential_unq = get_ind_mat_average_uniqueness(ind_mat[:, bootstrapped_samples])\n",
    "    sequential_unq_mean = sequential_unq[sequential_unq > 0].mean()\n",
    "    \n",
    "    standard_unq_array[i] = random_unq_mean\n",
    "    seq_unq_array[i] = sequential_unq_mean"
   ]
  },
  {
   "cell_type": "code",
   "execution_count": 40,
   "metadata": {},
   "outputs": [
    {
     "data": {
      "text/plain": [
       "(0.6666666666666666, 0.6666666666666666)"
      ]
     },
     "execution_count": 40,
     "metadata": {},
     "output_type": "execute_result"
    }
   ],
   "source": [
    "np.median(standard_unq_array), np.median(seq_unq_array)"
   ]
  },
  {
   "cell_type": "code",
   "execution_count": 41,
   "metadata": {},
   "outputs": [
    {
     "data": {
      "text/plain": [
       "(0.6430261904761904, 0.7036232142857142)"
      ]
     },
     "execution_count": 41,
     "metadata": {},
     "output_type": "execute_result"
    }
   ],
   "source": [
    "np.mean(standard_unq_array), np.mean(seq_unq_array)"
   ]
  },
  {
   "cell_type": "markdown",
   "metadata": {},
   "source": [
    "KDE plots of label uniqueness support the fact taht sequential bootstrapping gives higher average label uniqueness"
   ]
  },
  {
   "cell_type": "code",
   "execution_count": 42,
   "metadata": {},
   "outputs": [
    {
     "data": {
      "text/plain": [
       "<matplotlib.axes._subplots.AxesSubplot at 0x7f5579410b38>"
      ]
     },
     "execution_count": 42,
     "metadata": {},
     "output_type": "execute_result"
    },
    {
     "data": {
      "image/png": "[encoded data removed]",
      "text/plain": [
       "<Figure size 432x288 with 1 Axes>"
      ]
     },
     "metadata": {
      "needs_background": "light"
     },
     "output_type": "display_data"
    }
   ],
   "source": [
    "sns.kdeplot(standard_unq_array, shade=True, label='Random Sampling')\n",
    "sns.kdeplot(seq_unq_array, shade=True, label='Sequential Sampling')"
   ]
  },
  {
   "cell_type": "markdown",
   "metadata": {},
   "source": [
    "We can compare average label uniqueness using sequential bootstrap vs label uniqueness using standard random sampling by setting compare parameter to True. We have massively increased the performance of Sequential Bootstrapping which was described in the book. For comparison generating 50 samples from 8000 barrier-events would take 3 days, we have reduced time to 10-12 seconds which decreases by increasing number of CPUs.\n",
    "\n",
    "Let's apply sequential bootstrapping to our full data set and draw 50 samples."
   ]
  },
  {
   "cell_type": "code",
   "execution_count": 44,
   "metadata": {},
   "outputs": [
    {
     "name": "stdout",
     "output_type": "stream",
     "text": [
      "Standard uniqueness: 0.9465875370919882\n",
      "Sequential uniqueness: 0.9913169319826338\n"
     ]
    }
   ],
   "source": [
    "bootstrapped_samples = seq_bootstrap(triple_barrier_ind_mat, compare=True, sample_length=50)"
   ]
  },
  {
   "cell_type": "markdown",
   "metadata": {},
   "source": [
    "Sometimes you would see that standard bootstrapping gives higher uniqueness, however as it was shown in Monte-Carlo example, on average Sequential Bootstrapping algorithm has higher average uniqueness."
   ]
  },
  {
   "cell_type": "markdown",
   "metadata": {},
   "source": [
    "# Conclusion"
   ]
  },
  {
   "cell_type": "markdown",
   "metadata": {},
   "source": [
    "We have understood the concept of concurrency and how it can make your data set 'impure', how Sequential Bootstrapping can help us to tackle concurrency proble. The next step is to combine standard Random Forest with Sequential Bootstrapping and show how SequentiallyBootstrappedRandomForest increase quality of our machine learning models."
   ]
  }
 ],
 "metadata": {
  "kernelspec": {
   "display_name": "Python 3",
   "language": "python",
   "name": "python3"
  },
  "language_info": {
   "codemirror_mode": {
    "name": "ipython",
    "version": 3
   },
   "file_extension": ".py",
   "mimetype": "text/x-python",
   "name": "python",
   "nbconvert_exporter": "python",
   "pygments_lexer": "ipython3",
   "version": "3.7.3"
  }
 },
 "nbformat": 4,
 "nbformat_minor": 2
}
