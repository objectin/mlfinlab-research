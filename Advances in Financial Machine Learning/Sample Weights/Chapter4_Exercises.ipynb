{
 "cells": [
  {
   "cell_type": "markdown",
   "metadata": {},
   "source": [
    "- By: Ashutosh Singh\n",
    "- Email: singh.ashu@gmail.com\n",
    "- Reference: Advances in Financial Machine Learning, Marcos Lopez De Prado, pg 59\n",
    "\n",
    "\n",
    "# Sample Weights\n",
    "\n",
    "This chapter handles the challenge of sampling observations (with replacement) when they are not IID (independent and identically distributed). This is especially hard in financial data sets which are rarely IID. In the framework espoused by MLDP in AFML, observations are labeled using triple-barrier method. Therein, each label has a start time (given by the index) and an end time.  The end time corresponds to the time when one of the barriers is touched. Consider a hypothetical example of four labels - A, B, C and D with their start and end times.\n",
    "\n",
    "A was generated at $t_1$ and triggered on $t_8$\n",
    "\n",
    "B was generated at $t_3$ and triggered on $t_6$\n",
    "\n",
    "C was generated on $t_7$ and triggered on $t_9$\n",
    "\n",
    "D was generated on $t_10$ and triggered on $t_12$\n",
    "\n",
    "\n",
    "In this case we see that A used information about returns on $[t_1,t_8]$ to generate label-endtime which overlaps with $[t_3, t_6]$ which was used by B and C, however D didn't use any returns information which was used by to label other samples. \n",
    "\n",
    "## Concurrency in labels\n",
    "\n",
    "We say that labels $y_i$ and $y_j$ are concurrent at $t$ if they are a function of at least one common return at $r_{t-1,t}$. In the example above, in terms of concurrency label D is the cleanest as it doesn't use any piece of information from other labels, while A has most overlap as it uses information from both B and C. It is desirable to use a data set that has least amount of overlap to train an algorithm.   \n",
    "\n",
    "We can measure average label uniqueness (or non-overlap) using get_av_uniqueness_from_tripple_barrier function from mlfinlab package. \n",
    "\n",
    "## Sampling with replacement  \n",
    "Bagging algorithms resort to sampling with replacement (or bootstrapping) but when observations overlap with one another then bootstrapping is susceptible to creating samples which have redundancy. This makes the algorithms that use bootstrapping such as random forest inefficient because in-bag observations to be very similar to the out-of-bag ones, inflating the accuracy of out-of-bag accuracy.\n",
    "\n",
    "## Sequenctial bootstrap process\n",
    "In the first draw, an observation is drawn from the uniform distribution. For the second draw, the sequential bootstrap (SB) reduces the probability of the observation that was drawn earlier from being drawn again. This process continues until the required number of draws are made. To implement this scheme, we first need to determine all the bars that a label (of an observation) uses. We compute a binary matrix that has bars on one axis and the labels on the other (this is called indicator matrix). This matrix is then used to compute the the average uniqueness of each observation. \n",
    "\n",
    "The sequentially bootstrap process iteratively selects observations while adjusting the draw probabilities of each observation at each step of the loop.\n",
    "\n",
    "## Notebook\n",
    "In this notebook we provide the answers to the questions at the back of the Chapter 4.  "
   ]
  },
  {
   "cell_type": "code",
   "execution_count": 1,
   "metadata": {},
   "outputs": [],
   "source": [
    "import numpy as np\n",
    "import pandas as pd\n",
    "import matplotlib.pyplot as plt"
   ]
  },
  {
   "cell_type": "code",
   "execution_count": 2,
   "metadata": {},
   "outputs": [],
   "source": [
    "from sklearn.utils import resample\n",
    "from sklearn.utils import shuffle\n",
    "from sklearn.ensemble import RandomForestClassifier\n",
    "from sklearn.model_selection import KFold\n",
    "from sklearn.model_selection import train_test_split\n",
    "\n",
    "from sklearn.metrics import roc_curve\n",
    "from sklearn.metrics import classification_report\n",
    "from sklearn.metrics import confusion_matrix\n",
    "from sklearn.metrics import accuracy_score\n",
    "\n",
    "from sklearn.model_selection import cross_val_score\n",
    "from sklearn.model_selection import KFold\n",
    "from sklearn.model_selection import GridSearchCV\n"
   ]
  },
  {
   "cell_type": "code",
   "execution_count": 3,
   "metadata": {},
   "outputs": [],
   "source": [
    "from mlfinlab.filters import filters\n",
    "from mlfinlab.labeling import labeling\n",
    "from mlfinlab.util import utils"
   ]
  },
  {
   "cell_type": "code",
   "execution_count": 4,
   "metadata": {},
   "outputs": [],
   "source": [
    "from mlfinlab.sampling import concurrent\n",
    "from mlfinlab.sampling import bootstrapping\n",
    "from mlfinlab.util import multiprocess"
   ]
  },
  {
   "cell_type": "code",
   "execution_count": 5,
   "metadata": {},
   "outputs": [],
   "source": [
    "%matplotlib inline"
   ]
  },
  {
   "cell_type": "markdown",
   "metadata": {},
   "source": [
    "## 4.1 In Chapter 3. we denoted as t1 a pandas series of timestamps where the first barrier was touched, and the index was the timestamp of the observation. This was the output of the getEvents."
   ]
  },
  {
   "cell_type": "markdown",
   "metadata": {},
   "source": [
    "### 4.1 (a) Compute a t1 series on dollar bars derived from e-mini S&P 500 futures tick data"
   ]
  },
  {
   "cell_type": "code",
   "execution_count": 6,
   "metadata": {},
   "outputs": [],
   "source": [
    "# Read in data\n",
    "# data = pd.read_csv('official_data/dollar_bars.csv', nrows=40000)\n",
    "data = pd.read_csv('../Sample-Data/dollar_bars.csv')\n",
    "\n",
    "data.index = pd.to_datetime(data['date_time'])\n",
    "data = data.drop('date_time', axis=1)\n",
    "close_prices = data['close']"
   ]
  },
  {
   "cell_type": "code",
   "execution_count": 7,
   "metadata": {},
   "outputs": [
    {
     "name": "stdout",
     "output_type": "stream",
     "text": [
      "date_time\n",
      "2015-01-01 23:00:23.723    2056.75\n",
      "2015-01-02 07:07:35.156    2064.00\n",
      "2015-01-02 09:35:57.204    2060.50\n",
      "2015-01-02 12:59:42.176    2061.00\n",
      "2015-01-02 14:19:33.847    2063.75\n",
      "Name: close, dtype: float64\n",
      "count    24079.000000\n",
      "mean      2061.126864\n",
      "std         88.690949\n",
      "min       1805.750000\n",
      "25%       2013.750000\n",
      "50%       2073.250000\n",
      "75%       2114.250000\n",
      "max       2272.000000\n",
      "Name: close, dtype: float64\n",
      "\n",
      "No of NANs: 0\n"
     ]
    }
   ],
   "source": [
    "print(close_prices.head())\n",
    "print(close_prices.describe())\n",
    "print('\\nNo of NANs: {:}'.format(close_prices.isna().sum()))"
   ]
  },
  {
   "cell_type": "code",
   "execution_count": 8,
   "metadata": {},
   "outputs": [],
   "source": [
    "# Compute daily volatility\n",
    "vol = utils.get_daily_vol(close=close_prices, lookback=50)"
   ]
  },
  {
   "cell_type": "code",
   "execution_count": 9,
   "metadata": {},
   "outputs": [],
   "source": [
    "# Apply Symmetric CUSUM Filter and get timestamps for events\n",
    "# Note: Only the CUSUM filter needs a point estimate for volatility\n",
    "cusum_events = filters.cusum_filter(close_prices, threshold=vol.mean())"
   ]
  },
  {
   "cell_type": "code",
   "execution_count": 10,
   "metadata": {},
   "outputs": [
    {
     "data": {
      "text/plain": [
       "2015-01-02 15:39:14.826   2015-01-04 23:20:12.567\n",
       "2015-01-02 20:47:02.488   2015-01-04 23:20:12.567\n",
       "2015-01-04 23:20:12.567   2015-01-06 02:16:54.528\n",
       "2015-01-05 14:49:36.175   2015-01-06 14:52:04.655\n",
       "2015-01-05 16:10:05.172   2015-01-06 16:11:27.929\n",
       "Name: date_time, dtype: datetime64[ns]"
      ]
     },
     "execution_count": 10,
     "metadata": {},
     "output_type": "execute_result"
    }
   ],
   "source": [
    "# Compute vertical barrier\n",
    "vertical_barriers = labeling.add_vertical_barrier(cusum_events, close_prices, num_days=1)\n",
    "vertical_barriers.head()"
   ]
  },
  {
   "cell_type": "code",
   "execution_count": 11,
   "metadata": {},
   "outputs": [
    {
     "name": "stderr",
     "output_type": "stream",
     "text": [
      "/media/ashu/data/Documents/WQU/Post-course/code/mlfinlab/mlfinlab/labeling/labeling.py:122: FutureWarning: \n",
      "Passing list-likes to .loc or [] with any missing label will raise\n",
      "KeyError in the future, you can use .reindex() as an alternative.\n",
      "\n",
      "See the documentation here:\n",
      "https://pandas.pydata.org/pandas-docs/stable/indexing.html#deprecate-loc-reindex-listlike\n",
      "  target = target.loc[t_events]\n"
     ]
    }
   ],
   "source": [
    "triple_barrier_events = labeling.get_events(close=close_prices,\n",
    "                                               t_events=cusum_events,\n",
    "                                               pt_sl=[1, 1],\n",
    "                                               target=vol,\n",
    "                                               min_ret=0.01,\n",
    "                                               num_threads=1,\n",
    "                                               vertical_barrier_times=vertical_barriers,\n",
    "                                               side_prediction=None)"
   ]
  },
  {
   "cell_type": "code",
   "execution_count": 12,
   "metadata": {},
   "outputs": [
    {
     "data": {
      "text/html": [
       "<div>\n",
       "<style scoped>\n",
       "    .dataframe tbody tr th:only-of-type {\n",
       "        vertical-align: middle;\n",
       "    }\n",
       "\n",
       "    .dataframe tbody tr th {\n",
       "        vertical-align: top;\n",
       "    }\n",
       "\n",
       "    .dataframe thead th {\n",
       "        text-align: right;\n",
       "    }\n",
       "</style>\n",
       "<table border=\"1\" class=\"dataframe\">\n",
       "  <thead>\n",
       "    <tr style=\"text-align: right;\">\n",
       "      <th></th>\n",
       "      <th>t1</th>\n",
       "      <th>trgt</th>\n",
       "    </tr>\n",
       "  </thead>\n",
       "  <tbody>\n",
       "    <tr>\n",
       "      <th>2015-01-09 17:13:19.851</th>\n",
       "      <td>2015-01-11 23:31:19.054</td>\n",
       "      <td>0.010065</td>\n",
       "    </tr>\n",
       "    <tr>\n",
       "      <th>2015-01-15 13:45:55.324</th>\n",
       "      <td>2015-01-15 14:57:17.741</td>\n",
       "      <td>0.010148</td>\n",
       "    </tr>\n",
       "    <tr>\n",
       "      <th>2015-01-15 14:39:34.621</th>\n",
       "      <td>2015-01-16 00:15:15.421</td>\n",
       "      <td>0.010703</td>\n",
       "    </tr>\n",
       "    <tr>\n",
       "      <th>2015-01-30 10:09:09.112</th>\n",
       "      <td>2015-02-01 23:26:29.558</td>\n",
       "      <td>0.011492</td>\n",
       "    </tr>\n",
       "    <tr>\n",
       "      <th>2015-01-30 14:48:27.262</th>\n",
       "      <td>2015-01-30 20:54:46.692</td>\n",
       "      <td>0.010769</td>\n",
       "    </tr>\n",
       "  </tbody>\n",
       "</table>\n",
       "</div>"
      ],
      "text/plain": [
       "                                             t1      trgt\n",
       "2015-01-09 17:13:19.851 2015-01-11 23:31:19.054  0.010065\n",
       "2015-01-15 13:45:55.324 2015-01-15 14:57:17.741  0.010148\n",
       "2015-01-15 14:39:34.621 2015-01-16 00:15:15.421  0.010703\n",
       "2015-01-30 10:09:09.112 2015-02-01 23:26:29.558  0.011492\n",
       "2015-01-30 14:48:27.262 2015-01-30 20:54:46.692  0.010769"
      ]
     },
     "execution_count": 12,
     "metadata": {},
     "output_type": "execute_result"
    }
   ],
   "source": [
    "triple_barrier_events.head()"
   ]
  },
  {
   "cell_type": "code",
   "execution_count": 13,
   "metadata": {},
   "outputs": [],
   "source": [
    "# triple_barrier_events"
   ]
  },
  {
   "cell_type": "markdown",
   "metadata": {},
   "source": [
    "### 4.1 (b) Apply the function mpNumCoEvents to compute the number of overlapping outcomes at each point in time"
   ]
  },
  {
   "cell_type": "code",
   "execution_count": 14,
   "metadata": {},
   "outputs": [],
   "source": [
    "from mlfinlab.sampling import concurrent\n",
    "from mlfinlab.util import multiprocess"
   ]
  },
  {
   "cell_type": "code",
   "execution_count": 15,
   "metadata": {},
   "outputs": [],
   "source": [
    "num_threads = 1\n",
    "num_conc_events = multiprocess.mp_pandas_obj(concurrent.num_concurrent_events, ('molecule', triple_barrier_events.index), num_threads, \n",
    "                                            close_series_index=close_prices.index, label_endtime=triple_barrier_events['t1'])"
   ]
  },
  {
   "cell_type": "code",
   "execution_count": 16,
   "metadata": {},
   "outputs": [
    {
     "data": {
      "text/plain": [
       "24079"
      ]
     },
     "execution_count": 16,
     "metadata": {},
     "output_type": "execute_result"
    }
   ],
   "source": [
    "# eliminate the duplicates\n",
    "num_conc_events = num_conc_events.loc[~num_conc_events.index.duplicated(keep='last')]\n",
    "\n",
    "# reindex based on the close prices\n",
    "num_conc_events = num_conc_events.reindex(close_prices.index).fillna(0)\n",
    "len(num_conc_events)"
   ]
  },
  {
   "cell_type": "markdown",
   "metadata": {},
   "source": [
    "### 4.1 (c) Plot the time-series of the number of concurrent labels on the primary axis, and the time series of exponentially weighted moving standard deviation of returns on the secondary axis "
   ]
  },
  {
   "cell_type": "code",
   "execution_count": 17,
   "metadata": {},
   "outputs": [],
   "source": [
    "display_df = (pd.DataFrame()\n",
    "              .assign(vol=vol,\n",
    "                     num_conc_events=num_conc_events)\n",
    "              .drop_duplicates().dropna()\n",
    "             )"
   ]
  },
  {
   "cell_type": "code",
   "execution_count": 18,
   "metadata": {},
   "outputs": [
    {
     "data": {
      "image/png": "[encoded data removed]",
      "text/plain": [
       "<Figure size 720x576 with 2 Axes>"
      ]
     },
     "metadata": {
      "needs_background": "light"
     },
     "output_type": "display_data"
    }
   ],
   "source": [
    "# display_df.plot()\n",
    "display_df[['vol', 'num_conc_events']].plot(secondary_y='vol', figsize=(10,8))\n",
    "plt.show()"
   ]
  },
  {
   "cell_type": "markdown",
   "metadata": {},
   "source": [
    "### 4.1 (d) Produce a scatterplot of the number of concurrent labels (x-axis) and the exponentially weighted moving standard deviation of returns (y-axis). Can you appreciate the relationship?"
   ]
  },
  {
   "cell_type": "code",
   "execution_count": 19,
   "metadata": {},
   "outputs": [
    {
     "data": {
      "image/png": "[encoded data removed]",
      "text/plain": [
       "<Figure size 720x576 with 1 Axes>"
      ]
     },
     "metadata": {
      "needs_background": "light"
     },
     "output_type": "display_data"
    }
   ],
   "source": [
    "display_df.plot.scatter(x='num_conc_events', y='vol', figsize=(10, 8))\n",
    "plt.show()"
   ]
  },
  {
   "cell_type": "code",
   "execution_count": 20,
   "metadata": {},
   "outputs": [],
   "source": [
    "import seaborn as sns"
   ]
  },
  {
   "cell_type": "code",
   "execution_count": 21,
   "metadata": {},
   "outputs": [
    {
     "name": "stderr",
     "output_type": "stream",
     "text": [
      "/home/ashu/anaconda3/envs/p36/lib/python3.6/site-packages/scipy/stats/stats.py:1713: FutureWarning: Using a non-tuple sequence for multidimensional indexing is deprecated; use `arr[tuple(seq)]` instead of `arr[seq]`. In the future this will be interpreted as an array index, `arr[np.array(seq)]`, which will result either in an error or a different result.\n",
      "  return np.add.reduce(sorted[indexer] * weights, axis=axis) / sumval\n"
     ]
    },
    {
     "data": {
      "image/png": "[encoded data removed]",
      "text/plain": [
       "<Figure size 432x288 with 1 Axes>"
      ]
     },
     "metadata": {
      "needs_background": "light"
     },
     "output_type": "display_data"
    }
   ],
   "source": [
    "sns.regplot(x=display_df['num_conc_events'], y=display_df['vol'], color='r')\n",
    "plt.show()"
   ]
  },
  {
   "cell_type": "code",
   "execution_count": 22,
   "metadata": {},
   "outputs": [],
   "source": [
    "# try polyfit\n",
    "x = display_df['num_conc_events']\n",
    "y = display_df['vol']\n",
    "z = np.polyfit(x, y, 2)\n",
    "p = np.poly1d(z)"
   ]
  },
  {
   "cell_type": "code",
   "execution_count": 23,
   "metadata": {},
   "outputs": [
    {
     "data": {
      "image/png": "[encoded data removed]",
      "text/plain": [
       "<Figure size 432x288 with 1 Axes>"
      ]
     },
     "metadata": {
      "needs_background": "light"
     },
     "output_type": "display_data"
    }
   ],
   "source": [
    "xp = np.linspace(0, max(x)+1, 100)\n",
    "_ = plt.plot(x, y, '.', xp, p(xp), '-')"
   ]
  },
  {
   "cell_type": "markdown",
   "metadata": {},
   "source": [
    "## 4.2 Using thefunction mpSampleTW, compute the average uniqueness of each label. What is the first-order serial correlation, AR(1), of this time series? Is it statistically significant? Why? "
   ]
  },
  {
   "cell_type": "code",
   "execution_count": 24,
   "metadata": {},
   "outputs": [],
   "source": [
    "out = multiprocess.mp_pandas_obj(concurrent._get_average_uniqueness, ('molecule', triple_barrier_events.index), num_threads, \n",
    "                                 label_endtime=triple_barrier_events['t1'], num_conc_events=num_conc_events)"
   ]
  },
  {
   "cell_type": "code",
   "execution_count": 25,
   "metadata": {},
   "outputs": [
    {
     "data": {
      "text/plain": [
       "<matplotlib.axes._subplots.AxesSubplot at 0x7efd346307f0>"
      ]
     },
     "execution_count": 25,
     "metadata": {},
     "output_type": "execute_result"
    },
    {
     "data": {
      "image/png": "[encoded data removed]",
      "text/plain": [
       "<Figure size 432x288 with 1 Axes>"
      ]
     },
     "metadata": {
      "needs_background": "light"
     },
     "output_type": "display_data"
    }
   ],
   "source": [
    "#ACF plot\n",
    "pd.plotting.autocorrelation_plot(out)"
   ]
  },
  {
   "cell_type": "code",
   "execution_count": 26,
   "metadata": {},
   "outputs": [
    {
     "data": {
      "image/png": "[encoded data removed]",
      "text/plain": [
       "<Figure size 720x576 with 2 Axes>"
      ]
     },
     "metadata": {
      "needs_background": "light"
     },
     "output_type": "display_data"
    }
   ],
   "source": [
    "from statsmodels.graphics.tsaplots import plot_acf, plot_pacf\n",
    "plt.figure(figsize=(10, 8))\n",
    "plt.subplot(211)\n",
    "plot_acf(out, ax=plt.gca(), lags=5)\n",
    "plt.subplot(212)\n",
    "plot_pacf(out, ax=plt.gca(), lags=5)\n",
    "plt.show()"
   ]
  },
  {
   "cell_type": "markdown",
   "metadata": {},
   "source": [
    "*The ACF chart shows the auocorrelation of average uniqueness of labels. The fact that the series is statistically significant at lags 1 and 2 indicate that uniqueness persists over time.  4.1.(c) shows that number of concurrent events are mostly zero except when volatility spikes. When the number of concurrent events is zero, then uniqueness is high. This means that we can expect autocorrelation at some level. Here it is at lags 1 and 2.*"
   ]
  },
  {
   "cell_type": "code",
   "execution_count": 27,
   "metadata": {},
   "outputs": [],
   "source": [
    "# out"
   ]
  },
  {
   "cell_type": "markdown",
   "metadata": {},
   "source": [
    "## 4.3 Fit a random forest to a financial data set where the average uniqueness is de minimis   "
   ]
  },
  {
   "cell_type": "code",
   "execution_count": 28,
   "metadata": {},
   "outputs": [],
   "source": [
    "# Read in data\n",
    "# data = pd.read_csv('official_data/dollar_bars.csv', nrows=40000)\n",
    "data = pd.read_csv('../Sample-Data/dollar_bars.csv')\n",
    "\n",
    "data.index = pd.to_datetime(data['date_time'])\n",
    "data = data.drop('date_time', axis=1)\n",
    "data = data.loc['2015-02-03':'2015-08-31']\n",
    "close_prices = data['close']"
   ]
  },
  {
   "cell_type": "markdown",
   "metadata": {},
   "source": [
    "### 4.3 (a) What is the mean out-of-bag accuracy?"
   ]
  },
  {
   "cell_type": "markdown",
   "metadata": {},
   "source": [
    "##### Define RSI "
   ]
  },
  {
   "cell_type": "code",
   "execution_count": 29,
   "metadata": {},
   "outputs": [],
   "source": [
    "# Compute RSI\n",
    "def relative_strength_index(df, n):\n",
    "        \"\"\"Calculate Relative Strength Index(RSI) for given data.\n",
    "        https://github.com/Crypto-toolbox/pandas-technical-indicators/blob/master/technical_indicators.py\n",
    "        \n",
    "        :param df: pandas.DataFrame\n",
    "        :param n: \n",
    "        :return: pandas.DataFrame\n",
    "        \"\"\"\n",
    "        i = 0\n",
    "        UpI = [0]\n",
    "        DoI = [0]\n",
    "        while i + 1 <= df.index[-1]:\n",
    "            UpMove = df.loc[i + 1, 'high'] - df.loc[i, 'high']\n",
    "            DoMove = df.loc[i, 'low'] - df.loc[i + 1, 'low']\n",
    "            if UpMove > DoMove and UpMove > 0:\n",
    "                UpD = UpMove\n",
    "            else:\n",
    "                UpD = 0\n",
    "            UpI.append(UpD)\n",
    "            if DoMove > UpMove and DoMove > 0:\n",
    "                DoD = DoMove\n",
    "            else:\n",
    "                DoD = 0\n",
    "            DoI.append(DoD)\n",
    "            i = i + 1\n",
    "        UpI = pd.Series(UpI)\n",
    "        DoI = pd.Series(DoI)\n",
    "        PosDI = pd.Series(UpI.ewm(span=n, min_periods=n).mean())\n",
    "        NegDI = pd.Series(DoI.ewm(span=n, min_periods=n).mean())\n",
    "        RSI = pd.Series(round(PosDI * 100. / (PosDI + NegDI)), name='RSI_' + str(n))\n",
    "        # df = df.join(RSI)\n",
    "        return RSI\n",
    "\n",
    "def get_rsi(data, window=14):\n",
    "    df = data.copy(deep=True).reset_index()\n",
    "    rsi = relative_strength_index(df, window)\n",
    "    rsi_df = pd.Series(data=rsi.values, index=data.index)\n",
    "    return rsi_df"
   ]
  },
  {
   "cell_type": "markdown",
   "metadata": {},
   "source": [
    "##### define Bollinger bands"
   ]
  },
  {
   "cell_type": "code",
   "execution_count": 30,
   "metadata": {},
   "outputs": [],
   "source": [
    "def bbands(close_prices, window, no_of_stdev):\n",
    "    rolling_mean = close_prices.ewm(span=window).mean()\n",
    "    rolling_std = close_prices.ewm(span=window).std()\n",
    "\n",
    "    upper_band = rolling_mean + (rolling_std * no_of_stdev)\n",
    "    lower_band = rolling_mean - (rolling_std * no_of_stdev)\n",
    "\n",
    "    return rolling_mean, upper_band, lower_band"
   ]
  },
  {
   "cell_type": "code",
   "execution_count": 31,
   "metadata": {},
   "outputs": [
    {
     "data": {
      "text/html": [
       "<div>\n",
       "<style scoped>\n",
       "    .dataframe tbody tr th:only-of-type {\n",
       "        vertical-align: middle;\n",
       "    }\n",
       "\n",
       "    .dataframe tbody tr th {\n",
       "        vertical-align: top;\n",
       "    }\n",
       "\n",
       "    .dataframe thead th {\n",
       "        text-align: right;\n",
       "    }\n",
       "</style>\n",
       "<table border=\"1\" class=\"dataframe\">\n",
       "  <thead>\n",
       "    <tr style=\"text-align: right;\">\n",
       "      <th></th>\n",
       "      <th>open</th>\n",
       "      <th>high</th>\n",
       "      <th>low</th>\n",
       "      <th>close</th>\n",
       "      <th>cum_vol</th>\n",
       "      <th>cum_dollar</th>\n",
       "      <th>cum_ticks</th>\n",
       "      <th>avg</th>\n",
       "      <th>upper</th>\n",
       "      <th>lower</th>\n",
       "    </tr>\n",
       "    <tr>\n",
       "      <th>date_time</th>\n",
       "      <th></th>\n",
       "      <th></th>\n",
       "      <th></th>\n",
       "      <th></th>\n",
       "      <th></th>\n",
       "      <th></th>\n",
       "      <th></th>\n",
       "      <th></th>\n",
       "      <th></th>\n",
       "      <th></th>\n",
       "    </tr>\n",
       "  </thead>\n",
       "  <tbody>\n",
       "    <tr>\n",
       "      <th>2015-06-18 16:14:33.833</th>\n",
       "      <td>2113.25</td>\n",
       "      <td>2114.00</td>\n",
       "      <td>2112.50</td>\n",
       "      <td>2113.00</td>\n",
       "      <td>33284</td>\n",
       "      <td>70332937.00</td>\n",
       "      <td>2894</td>\n",
       "      <td>2100.858385</td>\n",
       "      <td>2117.718850</td>\n",
       "      <td>2083.997920</td>\n",
       "    </tr>\n",
       "    <tr>\n",
       "      <th>2015-08-28 17:50:50.135</th>\n",
       "      <td>1974.25</td>\n",
       "      <td>1977.75</td>\n",
       "      <td>1971.50</td>\n",
       "      <td>1976.75</td>\n",
       "      <td>35452</td>\n",
       "      <td>70005105.25</td>\n",
       "      <td>5397</td>\n",
       "      <td>1978.240271</td>\n",
       "      <td>1992.286586</td>\n",
       "      <td>1964.193956</td>\n",
       "    </tr>\n",
       "    <tr>\n",
       "      <th>2015-07-15 14:19:07.157</th>\n",
       "      <td>2103.50</td>\n",
       "      <td>2105.50</td>\n",
       "      <td>2103.25</td>\n",
       "      <td>2104.75</td>\n",
       "      <td>33307</td>\n",
       "      <td>70091777.00</td>\n",
       "      <td>3439</td>\n",
       "      <td>2097.625534</td>\n",
       "      <td>2111.816979</td>\n",
       "      <td>2083.434089</td>\n",
       "    </tr>\n",
       "    <tr>\n",
       "      <th>2015-05-06 17:36:05.070</th>\n",
       "      <td>2074.75</td>\n",
       "      <td>2075.00</td>\n",
       "      <td>2068.75</td>\n",
       "      <td>2070.00</td>\n",
       "      <td>33795</td>\n",
       "      <td>70003482.75</td>\n",
       "      <td>4022</td>\n",
       "      <td>2081.862966</td>\n",
       "      <td>2095.041295</td>\n",
       "      <td>2068.684637</td>\n",
       "    </tr>\n",
       "    <tr>\n",
       "      <th>2015-05-26 15:35:44.107</th>\n",
       "      <td>2103.00</td>\n",
       "      <td>2106.25</td>\n",
       "      <td>2103.00</td>\n",
       "      <td>2106.25</td>\n",
       "      <td>33266</td>\n",
       "      <td>70004057.25</td>\n",
       "      <td>3138</td>\n",
       "      <td>2115.390171</td>\n",
       "      <td>2129.989035</td>\n",
       "      <td>2100.791307</td>\n",
       "    </tr>\n",
       "    <tr>\n",
       "      <th>2015-07-31 12:30:56.027</th>\n",
       "      <td>2101.25</td>\n",
       "      <td>2103.00</td>\n",
       "      <td>2097.75</td>\n",
       "      <td>2102.75</td>\n",
       "      <td>33366</td>\n",
       "      <td>70062501.25</td>\n",
       "      <td>4216</td>\n",
       "      <td>2098.431183</td>\n",
       "      <td>2107.400478</td>\n",
       "      <td>2089.461888</td>\n",
       "    </tr>\n",
       "    <tr>\n",
       "      <th>2015-06-24 15:12:23.613</th>\n",
       "      <td>2114.75</td>\n",
       "      <td>2114.75</td>\n",
       "      <td>2111.50</td>\n",
       "      <td>2112.25</td>\n",
       "      <td>33130</td>\n",
       "      <td>70003717.50</td>\n",
       "      <td>4442</td>\n",
       "      <td>2113.864369</td>\n",
       "      <td>2118.705170</td>\n",
       "      <td>2109.023568</td>\n",
       "    </tr>\n",
       "    <tr>\n",
       "      <th>2015-08-11 12:21:13.262</th>\n",
       "      <td>2087.50</td>\n",
       "      <td>2089.00</td>\n",
       "      <td>2083.25</td>\n",
       "      <td>2083.50</td>\n",
       "      <td>33564</td>\n",
       "      <td>70025631.00</td>\n",
       "      <td>3113</td>\n",
       "      <td>2089.541515</td>\n",
       "      <td>2105.017313</td>\n",
       "      <td>2074.065717</td>\n",
       "    </tr>\n",
       "    <tr>\n",
       "      <th>2015-07-10 15:57:37.609</th>\n",
       "      <td>2071.75</td>\n",
       "      <td>2072.50</td>\n",
       "      <td>2070.25</td>\n",
       "      <td>2070.50</td>\n",
       "      <td>33835</td>\n",
       "      <td>70086385.00</td>\n",
       "      <td>3136</td>\n",
       "      <td>2060.621122</td>\n",
       "      <td>2073.732724</td>\n",
       "      <td>2047.509520</td>\n",
       "    </tr>\n",
       "    <tr>\n",
       "      <th>2015-02-10 16:50:20.010</th>\n",
       "      <td>2052.50</td>\n",
       "      <td>2053.25</td>\n",
       "      <td>2051.25</td>\n",
       "      <td>2052.00</td>\n",
       "      <td>34108</td>\n",
       "      <td>70000600.00</td>\n",
       "      <td>11710</td>\n",
       "      <td>2048.555045</td>\n",
       "      <td>2055.919968</td>\n",
       "      <td>2041.190122</td>\n",
       "    </tr>\n",
       "  </tbody>\n",
       "</table>\n",
       "</div>"
      ],
      "text/plain": [
       "                            open     high      low    close  cum_vol  \\\n",
       "date_time                                                              \n",
       "2015-06-18 16:14:33.833  2113.25  2114.00  2112.50  2113.00    33284   \n",
       "2015-08-28 17:50:50.135  1974.25  1977.75  1971.50  1976.75    35452   \n",
       "2015-07-15 14:19:07.157  2103.50  2105.50  2103.25  2104.75    33307   \n",
       "2015-05-06 17:36:05.070  2074.75  2075.00  2068.75  2070.00    33795   \n",
       "2015-05-26 15:35:44.107  2103.00  2106.25  2103.00  2106.25    33266   \n",
       "2015-07-31 12:30:56.027  2101.25  2103.00  2097.75  2102.75    33366   \n",
       "2015-06-24 15:12:23.613  2114.75  2114.75  2111.50  2112.25    33130   \n",
       "2015-08-11 12:21:13.262  2087.50  2089.00  2083.25  2083.50    33564   \n",
       "2015-07-10 15:57:37.609  2071.75  2072.50  2070.25  2070.50    33835   \n",
       "2015-02-10 16:50:20.010  2052.50  2053.25  2051.25  2052.00    34108   \n",
       "\n",
       "                          cum_dollar  cum_ticks          avg        upper  \\\n",
       "date_time                                                                   \n",
       "2015-06-18 16:14:33.833  70332937.00       2894  2100.858385  2117.718850   \n",
       "2015-08-28 17:50:50.135  70005105.25       5397  1978.240271  1992.286586   \n",
       "2015-07-15 14:19:07.157  70091777.00       3439  2097.625534  2111.816979   \n",
       "2015-05-06 17:36:05.070  70003482.75       4022  2081.862966  2095.041295   \n",
       "2015-05-26 15:35:44.107  70004057.25       3138  2115.390171  2129.989035   \n",
       "2015-07-31 12:30:56.027  70062501.25       4216  2098.431183  2107.400478   \n",
       "2015-06-24 15:12:23.613  70003717.50       4442  2113.864369  2118.705170   \n",
       "2015-08-11 12:21:13.262  70025631.00       3113  2089.541515  2105.017313   \n",
       "2015-07-10 15:57:37.609  70086385.00       3136  2060.621122  2073.732724   \n",
       "2015-02-10 16:50:20.010  70000600.00      11710  2048.555045  2055.919968   \n",
       "\n",
       "                               lower  \n",
       "date_time                             \n",
       "2015-06-18 16:14:33.833  2083.997920  \n",
       "2015-08-28 17:50:50.135  1964.193956  \n",
       "2015-07-15 14:19:07.157  2083.434089  \n",
       "2015-05-06 17:36:05.070  2068.684637  \n",
       "2015-05-26 15:35:44.107  2100.791307  \n",
       "2015-07-31 12:30:56.027  2089.461888  \n",
       "2015-06-24 15:12:23.613  2109.023568  \n",
       "2015-08-11 12:21:13.262  2074.065717  \n",
       "2015-07-10 15:57:37.609  2047.509520  \n",
       "2015-02-10 16:50:20.010  2041.190122  "
      ]
     },
     "execution_count": 31,
     "metadata": {},
     "output_type": "execute_result"
    }
   ],
   "source": [
    "# compute bands\n",
    "window = 50\n",
    "data['avg'], data['upper'], data['lower'] = bbands(data['close'], window, no_of_stdev=1.5)\n",
    "data.sample(10)"
   ]
  },
  {
   "cell_type": "code",
   "execution_count": 32,
   "metadata": {},
   "outputs": [],
   "source": [
    "# Compute RSI\n",
    "rsi_df = get_rsi(data, window=14)\n",
    "data['rsi'] = pd.Series(data=rsi_df.values, index=data.index)\n",
    "\n",
    "# Drop the NaN values from our data set\n",
    "data.dropna(axis=0, how='any', inplace=True)"
   ]
  },
  {
   "cell_type": "code",
   "execution_count": 33,
   "metadata": {},
   "outputs": [
    {
     "name": "stdout",
     "output_type": "stream",
     "text": [
      " 1.0    340\n",
      "-1.0    251\n",
      "Name: side, dtype: int64\n"
     ]
    }
   ],
   "source": [
    "# Compute sides\n",
    "data['side'] = np.nan \n",
    "\n",
    "long_signals = (data['close'] <= data['lower']) \n",
    "short_signals = (data['close'] >= data['upper']) \n",
    "\n",
    "data.loc[long_signals, 'side'] = 1\n",
    "data.loc[short_signals, 'side'] = -1\n",
    "\n",
    "print(data.side.value_counts())\n",
    "\n",
    "# Remove Look ahead bias by lagging the signal\n",
    "data['side'] = data['side'].shift(1)"
   ]
  },
  {
   "cell_type": "code",
   "execution_count": 34,
   "metadata": {},
   "outputs": [
    {
     "name": "stdout",
     "output_type": "stream",
     "text": [
      " 1.0    339\n",
      "-1.0    251\n",
      "Name: side, dtype: int64\n"
     ]
    }
   ],
   "source": [
    "# Save the raw data\n",
    "raw_data = data.copy()\n",
    "\n",
    "# Drop the NaN values from our data set\n",
    "data.dropna(axis=0, how='any', inplace=True)\n",
    "print(data.side.value_counts())"
   ]
  },
  {
   "cell_type": "code",
   "execution_count": 35,
   "metadata": {},
   "outputs": [],
   "source": [
    "# Compute daily volatility\n",
    "daily_vol = utils.get_daily_vol(close=data['close'], lookback=50)\n",
    "\n",
    "# Apply Symmetric CUSUM Filter and get timestamps for events\n",
    "# Note: Only the CUSUM filter needs a point estimate for volatility\n",
    "cusum_events = filters.cusum_filter(data['close'], threshold=daily_vol['2011-09-01':'2018-01-01'].mean() * 0.1)\n",
    "\n",
    "# Compute vertical barrier\n",
    "vertical_barriers = labeling.add_vertical_barrier(t_events=cusum_events, close=data['close'], num_days=1)"
   ]
  },
  {
   "cell_type": "code",
   "execution_count": 36,
   "metadata": {},
   "outputs": [
    {
     "name": "stderr",
     "output_type": "stream",
     "text": [
      "/media/ashu/data/Documents/WQU/Post-course/code/mlfinlab/mlfinlab/labeling/labeling.py:122: FutureWarning: \n",
      "Passing list-likes to .loc or [] with any missing label will raise\n",
      "KeyError in the future, you can use .reindex() as an alternative.\n",
      "\n",
      "See the documentation here:\n",
      "https://pandas.pydata.org/pandas-docs/stable/indexing.html#deprecate-loc-reindex-listlike\n",
      "  target = target.loc[t_events]\n",
      "2019-07-13 14:13:54.902887 100.0% apply_pt_sl_on_t1 done after 0.0 minutes. Remaining 0.0 minutes.\n"
     ]
    }
   ],
   "source": [
    "pt_sl = [0, 2]\n",
    "min_ret = 0.0005\n",
    "triple_barrier_events = labeling.get_events(close=data['close'],\n",
    "                                            t_events=cusum_events,\n",
    "                                            pt_sl=pt_sl,\n",
    "                                            target=daily_vol,\n",
    "                                            min_ret=min_ret,\n",
    "                                            num_threads=2,\n",
    "                                            vertical_barrier_times=vertical_barriers,\n",
    "                                            side_prediction=data['side'])"
   ]
  },
  {
   "cell_type": "code",
   "execution_count": 37,
   "metadata": {},
   "outputs": [
    {
     "name": "stdout",
     "output_type": "stream",
     "text": [
      "tW    0.246979\n",
      "dtype: float64\n"
     ]
    }
   ],
   "source": [
    "# Averge uniqueness\n",
    "avg_uniqueness = concurrent.get_av_uniqueness_from_tripple_barrier(triple_barrier_events, close_prices, num_threads=1)\n",
    "print(avg_uniqueness.mean())"
   ]
  },
  {
   "cell_type": "code",
   "execution_count": 38,
   "metadata": {},
   "outputs": [
    {
     "data": {
      "text/plain": [
       " 1.0    208\n",
       "-1.0    125\n",
       "Name: side, dtype: int64"
      ]
     },
     "execution_count": 38,
     "metadata": {},
     "output_type": "execute_result"
    }
   ],
   "source": [
    "labels = labeling.get_bins(triple_barrier_events, data['close'])\n",
    "labels.side.value_counts()"
   ]
  },
  {
   "cell_type": "markdown",
   "metadata": {},
   "source": [
    "### Features"
   ]
  },
  {
   "cell_type": "code",
   "execution_count": 39,
   "metadata": {},
   "outputs": [],
   "source": [
    "# Log Returns\n",
    "raw_data['log_ret'] = np.log(raw_data['close']).diff()\n",
    "\n",
    "# Momentum\n",
    "raw_data['mom1'] = raw_data['close'].pct_change(periods=1)\n",
    "raw_data['mom2'] = raw_data['close'].pct_change(periods=2)\n",
    "raw_data['mom3'] = raw_data['close'].pct_change(periods=3)\n",
    "raw_data['mom4'] = raw_data['close'].pct_change(periods=4)\n",
    "raw_data['mom5'] = raw_data['close'].pct_change(periods=5)\n",
    "\n",
    "# Volatility\n",
    "window_stdev = 50\n",
    "raw_data['volatility'] = raw_data['log_ret'].rolling(window=window_stdev, min_periods=window_stdev, center=False).std()\n",
    "\n",
    "# Serial Correlation (Takes about 4 minutes)\n",
    "window_autocorr = 50\n",
    "\n",
    "raw_data['autocorr_1'] = raw_data['log_ret'].rolling(window=window_autocorr, min_periods=window_autocorr, center=False).apply(lambda x: x.autocorr(lag=1), raw=False)\n",
    "raw_data['autocorr_2'] = raw_data['log_ret'].rolling(window=window_autocorr, min_periods=window_autocorr, center=False).apply(lambda x: x.autocorr(lag=2), raw=False)\n",
    "raw_data['autocorr_3'] = raw_data['log_ret'].rolling(window=window_autocorr, min_periods=window_autocorr, center=False).apply(lambda x: x.autocorr(lag=3), raw=False)\n",
    "raw_data['autocorr_4'] = raw_data['log_ret'].rolling(window=window_autocorr, min_periods=window_autocorr, center=False).apply(lambda x: x.autocorr(lag=4), raw=False)\n",
    "raw_data['autocorr_5'] = raw_data['log_ret'].rolling(window=window_autocorr, min_periods=window_autocorr, center=False).apply(lambda x: x.autocorr(lag=5), raw=False)\n",
    "\n",
    "# Get the various log -t returns\n",
    "raw_data['log_t1'] = raw_data['log_ret'].shift(1)\n",
    "raw_data['log_t2'] = raw_data['log_ret'].shift(2)\n",
    "raw_data['log_t3'] = raw_data['log_ret'].shift(3)\n",
    "raw_data['log_t4'] = raw_data['log_ret'].shift(4)\n",
    "raw_data['log_t5'] = raw_data['log_ret'].shift(5)\n",
    "\n",
    "# Add fast and slow moving averages\n",
    "fast_window = 7\n",
    "slow_window = 15\n",
    "\n",
    "raw_data['fast_mavg'] = raw_data['close'].rolling(window=fast_window, min_periods=fast_window, center=False).mean()\n",
    "raw_data['slow_mavg'] = raw_data['close'].rolling(window=slow_window, min_periods=slow_window, center=False).mean()\n"
   ]
  },
  {
   "cell_type": "code",
   "execution_count": 40,
   "metadata": {},
   "outputs": [],
   "source": [
    "# Add Trending signals\n",
    "raw_data['sma'] = np.nan\n",
    "\n",
    "long_signals = raw_data['fast_mavg'] >= raw_data['slow_mavg']\n",
    "short_signals = raw_data['fast_mavg'] < raw_data['slow_mavg']\n",
    "raw_data.loc[long_signals, 'sma'] = 1\n",
    "raw_data.loc[short_signals, 'sma'] = -1"
   ]
  },
  {
   "cell_type": "code",
   "execution_count": 41,
   "metadata": {},
   "outputs": [],
   "source": [
    "# Re compute sides\n",
    "raw_data['side'] = np.nan\n",
    "\n",
    "long_signals = raw_data['close'] <= raw_data['lower'] \n",
    "short_signals = raw_data['close'] >= raw_data['upper'] \n",
    "\n",
    "raw_data.loc[long_signals, 'side'] = 1\n",
    "raw_data.loc[short_signals, 'side'] = -1"
   ]
  },
  {
   "cell_type": "code",
   "execution_count": 42,
   "metadata": {},
   "outputs": [
    {
     "data": {
      "text/html": [
       "<div>\n",
       "<style scoped>\n",
       "    .dataframe tbody tr th:only-of-type {\n",
       "        vertical-align: middle;\n",
       "    }\n",
       "\n",
       "    .dataframe tbody tr th {\n",
       "        vertical-align: top;\n",
       "    }\n",
       "\n",
       "    .dataframe thead th {\n",
       "        text-align: right;\n",
       "    }\n",
       "</style>\n",
       "<table border=\"1\" class=\"dataframe\">\n",
       "  <thead>\n",
       "    <tr style=\"text-align: right;\">\n",
       "      <th></th>\n",
       "      <th>open</th>\n",
       "      <th>high</th>\n",
       "      <th>low</th>\n",
       "      <th>close</th>\n",
       "      <th>cum_vol</th>\n",
       "      <th>cum_dollar</th>\n",
       "      <th>cum_ticks</th>\n",
       "      <th>avg</th>\n",
       "      <th>upper</th>\n",
       "      <th>lower</th>\n",
       "      <th>...</th>\n",
       "      <th>autocorr_4</th>\n",
       "      <th>autocorr_5</th>\n",
       "      <th>log_t1</th>\n",
       "      <th>log_t2</th>\n",
       "      <th>log_t3</th>\n",
       "      <th>log_t4</th>\n",
       "      <th>log_t5</th>\n",
       "      <th>fast_mavg</th>\n",
       "      <th>slow_mavg</th>\n",
       "      <th>sma</th>\n",
       "    </tr>\n",
       "    <tr>\n",
       "      <th>date_time</th>\n",
       "      <th></th>\n",
       "      <th></th>\n",
       "      <th></th>\n",
       "      <th></th>\n",
       "      <th></th>\n",
       "      <th></th>\n",
       "      <th></th>\n",
       "      <th></th>\n",
       "      <th></th>\n",
       "      <th></th>\n",
       "      <th></th>\n",
       "      <th></th>\n",
       "      <th></th>\n",
       "      <th></th>\n",
       "      <th></th>\n",
       "      <th></th>\n",
       "      <th></th>\n",
       "      <th></th>\n",
       "      <th></th>\n",
       "      <th></th>\n",
       "      <th></th>\n",
       "    </tr>\n",
       "  </thead>\n",
       "  <tbody>\n",
       "    <tr>\n",
       "      <th>2015-02-03 15:02:12.773</th>\n",
       "      <td>NaN</td>\n",
       "      <td>NaN</td>\n",
       "      <td>NaN</td>\n",
       "      <td>NaN</td>\n",
       "      <td>NaN</td>\n",
       "      <td>NaN</td>\n",
       "      <td>NaN</td>\n",
       "      <td>NaN</td>\n",
       "      <td>NaN</td>\n",
       "      <td>NaN</td>\n",
       "      <td>...</td>\n",
       "      <td>NaN</td>\n",
       "      <td>NaN</td>\n",
       "      <td>NaN</td>\n",
       "      <td>NaN</td>\n",
       "      <td>NaN</td>\n",
       "      <td>NaN</td>\n",
       "      <td>NaN</td>\n",
       "      <td>NaN</td>\n",
       "      <td>NaN</td>\n",
       "      <td>NaN</td>\n",
       "    </tr>\n",
       "    <tr>\n",
       "      <th>2015-02-03 15:07:20.968</th>\n",
       "      <td>2032.25</td>\n",
       "      <td>2034.50</td>\n",
       "      <td>2031.75</td>\n",
       "      <td>2032.25</td>\n",
       "      <td>34432.0</td>\n",
       "      <td>70002102.75</td>\n",
       "      <td>13165.0</td>\n",
       "      <td>2026.365845</td>\n",
       "      <td>2035.969525</td>\n",
       "      <td>2016.762165</td>\n",
       "      <td>...</td>\n",
       "      <td>NaN</td>\n",
       "      <td>NaN</td>\n",
       "      <td>NaN</td>\n",
       "      <td>NaN</td>\n",
       "      <td>NaN</td>\n",
       "      <td>NaN</td>\n",
       "      <td>NaN</td>\n",
       "      <td>NaN</td>\n",
       "      <td>NaN</td>\n",
       "      <td>NaN</td>\n",
       "    </tr>\n",
       "    <tr>\n",
       "      <th>2015-02-03 15:14:10.455</th>\n",
       "      <td>2032.25</td>\n",
       "      <td>2032.50</td>\n",
       "      <td>2030.00</td>\n",
       "      <td>2031.25</td>\n",
       "      <td>34466.0</td>\n",
       "      <td>70003717.00</td>\n",
       "      <td>10916.0</td>\n",
       "      <td>2026.790317</td>\n",
       "      <td>2036.190829</td>\n",
       "      <td>2017.389805</td>\n",
       "      <td>...</td>\n",
       "      <td>NaN</td>\n",
       "      <td>NaN</td>\n",
       "      <td>NaN</td>\n",
       "      <td>NaN</td>\n",
       "      <td>NaN</td>\n",
       "      <td>NaN</td>\n",
       "      <td>NaN</td>\n",
       "      <td>NaN</td>\n",
       "      <td>NaN</td>\n",
       "      <td>NaN</td>\n",
       "    </tr>\n",
       "    <tr>\n",
       "      <th>2015-02-03 15:21:15.748</th>\n",
       "      <td>2031.25</td>\n",
       "      <td>2031.50</td>\n",
       "      <td>2028.00</td>\n",
       "      <td>2029.50</td>\n",
       "      <td>34497.0</td>\n",
       "      <td>70012124.50</td>\n",
       "      <td>11723.0</td>\n",
       "      <td>2027.015090</td>\n",
       "      <td>2036.072304</td>\n",
       "      <td>2017.957877</td>\n",
       "      <td>...</td>\n",
       "      <td>NaN</td>\n",
       "      <td>NaN</td>\n",
       "      <td>-0.000492</td>\n",
       "      <td>NaN</td>\n",
       "      <td>NaN</td>\n",
       "      <td>NaN</td>\n",
       "      <td>NaN</td>\n",
       "      <td>NaN</td>\n",
       "      <td>NaN</td>\n",
       "      <td>NaN</td>\n",
       "    </tr>\n",
       "    <tr>\n",
       "      <th>2015-02-03 15:27:12.943</th>\n",
       "      <td>2029.50</td>\n",
       "      <td>2030.75</td>\n",
       "      <td>2027.50</td>\n",
       "      <td>2030.00</td>\n",
       "      <td>34501.0</td>\n",
       "      <td>70005857.25</td>\n",
       "      <td>11184.0</td>\n",
       "      <td>2027.252318</td>\n",
       "      <td>2036.015327</td>\n",
       "      <td>2018.489310</td>\n",
       "      <td>...</td>\n",
       "      <td>NaN</td>\n",
       "      <td>NaN</td>\n",
       "      <td>-0.000862</td>\n",
       "      <td>-0.000492</td>\n",
       "      <td>NaN</td>\n",
       "      <td>NaN</td>\n",
       "      <td>NaN</td>\n",
       "      <td>NaN</td>\n",
       "      <td>NaN</td>\n",
       "      <td>NaN</td>\n",
       "    </tr>\n",
       "  </tbody>\n",
       "</table>\n",
       "<p>5 rows × 32 columns</p>\n",
       "</div>"
      ],
      "text/plain": [
       "                            open     high      low    close  cum_vol  \\\n",
       "date_time                                                              \n",
       "2015-02-03 15:02:12.773      NaN      NaN      NaN      NaN      NaN   \n",
       "2015-02-03 15:07:20.968  2032.25  2034.50  2031.75  2032.25  34432.0   \n",
       "2015-02-03 15:14:10.455  2032.25  2032.50  2030.00  2031.25  34466.0   \n",
       "2015-02-03 15:21:15.748  2031.25  2031.50  2028.00  2029.50  34497.0   \n",
       "2015-02-03 15:27:12.943  2029.50  2030.75  2027.50  2030.00  34501.0   \n",
       "\n",
       "                          cum_dollar  cum_ticks          avg        upper  \\\n",
       "date_time                                                                   \n",
       "2015-02-03 15:02:12.773          NaN        NaN          NaN          NaN   \n",
       "2015-02-03 15:07:20.968  70002102.75    13165.0  2026.365845  2035.969525   \n",
       "2015-02-03 15:14:10.455  70003717.00    10916.0  2026.790317  2036.190829   \n",
       "2015-02-03 15:21:15.748  70012124.50    11723.0  2027.015090  2036.072304   \n",
       "2015-02-03 15:27:12.943  70005857.25    11184.0  2027.252318  2036.015327   \n",
       "\n",
       "                               lower ...   autocorr_4  autocorr_5    log_t1  \\\n",
       "date_time                            ...                                      \n",
       "2015-02-03 15:02:12.773          NaN ...          NaN         NaN       NaN   \n",
       "2015-02-03 15:07:20.968  2016.762165 ...          NaN         NaN       NaN   \n",
       "2015-02-03 15:14:10.455  2017.389805 ...          NaN         NaN       NaN   \n",
       "2015-02-03 15:21:15.748  2017.957877 ...          NaN         NaN -0.000492   \n",
       "2015-02-03 15:27:12.943  2018.489310 ...          NaN         NaN -0.000862   \n",
       "\n",
       "                           log_t2  log_t3  log_t4  log_t5  fast_mavg  \\\n",
       "date_time                                                              \n",
       "2015-02-03 15:02:12.773       NaN     NaN     NaN     NaN        NaN   \n",
       "2015-02-03 15:07:20.968       NaN     NaN     NaN     NaN        NaN   \n",
       "2015-02-03 15:14:10.455       NaN     NaN     NaN     NaN        NaN   \n",
       "2015-02-03 15:21:15.748       NaN     NaN     NaN     NaN        NaN   \n",
       "2015-02-03 15:27:12.943 -0.000492     NaN     NaN     NaN        NaN   \n",
       "\n",
       "                         slow_mavg  sma  \n",
       "date_time                                \n",
       "2015-02-03 15:02:12.773        NaN  NaN  \n",
       "2015-02-03 15:07:20.968        NaN  NaN  \n",
       "2015-02-03 15:14:10.455        NaN  NaN  \n",
       "2015-02-03 15:21:15.748        NaN  NaN  \n",
       "2015-02-03 15:27:12.943        NaN  NaN  \n",
       "\n",
       "[5 rows x 32 columns]"
      ]
     },
     "execution_count": 42,
     "metadata": {},
     "output_type": "execute_result"
    }
   ],
   "source": [
    "# Remove look ahead bias\n",
    "raw_data = raw_data.shift(1)\n",
    "raw_data.head()"
   ]
  },
  {
   "cell_type": "markdown",
   "metadata": {},
   "source": [
    "#### Now get the data at the specified events"
   ]
  },
  {
   "cell_type": "code",
   "execution_count": 43,
   "metadata": {},
   "outputs": [],
   "source": [
    "# Get features at event dates\n",
    "X = raw_data.loc[labels.index, :]\n",
    "\n",
    "# Drop unwanted columns\n",
    "X.drop(['avg', 'upper', 'lower', 'open', 'high', 'low', 'close', 'cum_vol', 'cum_dollar', 'cum_ticks','fast_mavg', 'slow_mavg',], axis=1, inplace=True)\n",
    "\n",
    "y = labels['bin']"
   ]
  },
  {
   "cell_type": "markdown",
   "metadata": {},
   "source": [
    "### Fit a model"
   ]
  },
  {
   "cell_type": "code",
   "execution_count": 44,
   "metadata": {},
   "outputs": [],
   "source": [
    "# Split data into training, validation and test sets\n",
    "X_training_test = X\n",
    "y_training_test = y\n",
    "X_train, X_test, y_train, y_test = train_test_split(X_training_test, y_training_test, test_size=0.2, shuffle=False)"
   ]
  },
  {
   "cell_type": "code",
   "execution_count": 45,
   "metadata": {},
   "outputs": [
    {
     "data": {
      "text/plain": [
       "0    218\n",
       "1     48\n",
       "Name: bin, dtype: int64"
      ]
     },
     "execution_count": 45,
     "metadata": {},
     "output_type": "execute_result"
    }
   ],
   "source": [
    "train_df = pd.concat([y_train, X_train], axis=1, join='inner')\n",
    "train_df['bin'].value_counts()"
   ]
  },
  {
   "cell_type": "markdown",
   "metadata": {},
   "source": [
    "##### Note that true positives (1) are a less than 25% of the false positives (0).  We would want to rebalance the class weights to pay more attention to true positives (and less to false positives)"
   ]
  },
  {
   "cell_type": "code",
   "execution_count": 46,
   "metadata": {},
   "outputs": [],
   "source": [
    "# Create training data\n",
    "y_train = train_df['bin']\n",
    "X_train= train_df.loc[:, train_df.columns != 'bin']"
   ]
  },
  {
   "cell_type": "code",
   "execution_count": 47,
   "metadata": {},
   "outputs": [
    {
     "name": "stdout",
     "output_type": "stream",
     "text": [
      "100 5 42\n"
     ]
    }
   ],
   "source": [
    "# extract parameters\n",
    "n_estimator = 100\n",
    "depth = 5\n",
    "c_random_state = 42\n",
    "print(n_estimator, depth, c_random_state)"
   ]
  },
  {
   "cell_type": "code",
   "execution_count": 48,
   "metadata": {},
   "outputs": [
    {
     "name": "stdout",
     "output_type": "stream",
     "text": [
      "Out-of-bag Accuracy (OOB Score): 0.812030\n"
     ]
    }
   ],
   "source": [
    "# Random Forest Model\n",
    "rf = RandomForestClassifier(max_depth=depth, n_estimators=n_estimator, oob_score=True,\n",
    "                            criterion='entropy', random_state=c_random_state)\n",
    "rf.fit(X_train, y_train.values.ravel())\n",
    "print(\"Out-of-bag Accuracy (OOB Score): {:.6f}\".format(rf.oob_score_))"
   ]
  },
  {
   "cell_type": "markdown",
   "metadata": {},
   "source": [
    "##### *The out of bag accuracy in a data-set that has low uniqueness is very high (81%) ... commenting on observations with low uniquness, section 4.5 of AFML, page 63 states, \"random sampling will make out-of-bag examples very similar to in-the-bag ones, the OOB accuracy would be grossly inflated\"*  "
   ]
  },
  {
   "cell_type": "markdown",
   "metadata": {},
   "source": [
    "### 4.3 (b) what is the mean accuracy of k-fold cross-validation (without shuffling) on the same dataset?"
   ]
  },
  {
   "cell_type": "code",
   "execution_count": 49,
   "metadata": {},
   "outputs": [
    {
     "name": "stdout",
     "output_type": "stream",
     "text": [
      "KFold(n_splits=5, random_state=1, shuffle=False)\n"
     ]
    }
   ],
   "source": [
    "\n",
    "# k-fold\n",
    "no_of_folds = 5\n",
    "kfold = KFold(shuffle=False, random_state=1, n_splits=no_of_folds)\n",
    "print(kfold)"
   ]
  },
  {
   "cell_type": "code",
   "execution_count": 50,
   "metadata": {},
   "outputs": [],
   "source": [
    "accuracy_array = np.zeros(no_of_folds)\n",
    "i = 0\n",
    "for train_index, test_index in kfold.split(X_training_test):\n",
    "    # print(\"TRAIN:\", train_index, \"TEST:\", test_index)\n",
    "    X_train, X_test = X.iloc[train_index], X.iloc[test_index]\n",
    "    y_train, y_test = y.iloc[train_index], y.iloc[test_index]\n",
    "    rf.fit(X_train, y_train.values.ravel())\n",
    "\n",
    "    y_pred_rf = rf.predict_proba(X_test)[:, 1]\n",
    "    y_pred = rf.predict(X_test)\n",
    "    accuracy_array[i] = accuracy_score(y_test, y_pred)\n",
    "    i += 1\n",
    "    # print(accuracy_score(y_test, y_pred))"
   ]
  },
  {
   "cell_type": "code",
   "execution_count": 51,
   "metadata": {},
   "outputs": [
    {
     "name": "stdout",
     "output_type": "stream",
     "text": [
      "[0.8358209  0.74626866 0.88059701 0.81818182 0.66666667]\n",
      "Mean KFold accuracy: 0.789507\n"
     ]
    }
   ],
   "source": [
    "print(accuracy_array)\n",
    "print(\"Mean KFold accuracy: {:.6f}\".format(np.mean(accuracy_array)))"
   ]
  },
  {
   "cell_type": "markdown",
   "metadata": {},
   "source": [
    "##### *The mean accuracy from KFold is 79% - 2 percentatge point lower than OOB accuracy score. The OOB score is more biased because in case of sampling with replacement, there is higher redundancy within the in-the-bag observations. This in turn causes overestimation of accuracy.*"
   ]
  },
  {
   "cell_type": "markdown",
   "metadata": {},
   "source": [
    "## 4.4 Modify the code in Section 4.7 to apply an exponential time-decay factor   "
   ]
  },
  {
   "cell_type": "code",
   "execution_count": 52,
   "metadata": {},
   "outputs": [],
   "source": [
    "# Snippet 4.11 Implementation of time-decay factors\n",
    "def get_time_decay(tw, clf_last_w=1.):\n",
    "    # apply piecewise-linear decay to observed uniqueness (tw)\n",
    "    # newest observation gets weight=1, oldest observation gets weight=clf_last_w\n",
    "    clf_w = tw.sort_index().cumsum()\n",
    "    if clf_last_w >= 0:\n",
    "        slope = (1. - clf_last_w) / clf_w.iloc[-1]\n",
    "    else:\n",
    "        slope = 1. /((clf_last_w + 1) * clf_w.iloc[-1])\n",
    "    \n",
    "    const = 1. - slope * clf_w.iloc[-1]\n",
    "    clf_w = const + slope * clf_w\n",
    "    clf_w[clf_w < 0] = 0\n",
    "    print(\"Constant: {:.6f}, Slope: {:.6f}\".format(const, slope))\n",
    "    return clf_w\n"
   ]
  },
  {
   "cell_type": "code",
   "execution_count": 53,
   "metadata": {},
   "outputs": [],
   "source": [
    "# implementation of exponential time-decay factors\n",
    "def get_time_decay_exp_old(tw, decay_rate=1.0, percent_of_zero_wts=0.):\n",
    "    clf_w = tw.sort_index().cumsum()\n",
    "    last_value = clf_w.iloc[-1]\n",
    "\n",
    "    # create the output weights array\n",
    "    out_wts = np.zeros(len(clf_w))\n",
    "    for i in np.arange(len(clf_w)):\n",
    "        if i < int(round(len(clf_w) * percent_of_zero_wts)):\n",
    "            out_wts[i] = 0\n",
    "        else:\n",
    "            out_wts[i] = np.exp((decay_rate - 1.) * (last_value - clf_w[i]))        \n",
    "    return out_wts\n",
    "\n",
    "def get_time_decay_exp(tw, decay_rate=1.0, percent_of_zero_wts=0.):\n",
    "    clf_w = tw.sort_index().cumsum()\n",
    "    last_value = clf_w.iloc[-1]\n",
    "\n",
    "    # create the output weights array\n",
    "    out_wts = [0. if i < int(round(len(clf_w) * percent_of_zero_wts)) else np.exp((decay_rate - 1.) * (last_value - clf_w[i])) for i in np.arange(len(clf_w))]\n",
    "    return np.asarray(out_wts)"
   ]
  },
  {
   "cell_type": "code",
   "execution_count": 54,
   "metadata": {},
   "outputs": [
    {
     "name": "stdout",
     "output_type": "stream",
     "text": [
      "Constant: 1.000000, Slope: 0.000000\n",
      "Constant: 0.750000, Slope: 0.002870\n",
      "Constant: 0.500000, Slope: 0.005739\n",
      "Constant: -0.333333, Slope: 0.015304\n",
      "Constant: -1.000000, Slope: 0.022957\n"
     ]
    }
   ],
   "source": [
    "decay_p1 = get_time_decay(out, 1.)\n",
    "decay_p75 = get_time_decay(out, .75)\n",
    "decay_p5 = get_time_decay(out, .5)\n",
    "decay_pm25 = get_time_decay(out, -.25)\n",
    "decay_pm5 = get_time_decay(out, -0.5)"
   ]
  },
  {
   "cell_type": "code",
   "execution_count": 55,
   "metadata": {},
   "outputs": [
    {
     "data": {
      "text/plain": [
       "261"
      ]
     },
     "execution_count": 55,
     "metadata": {},
     "output_type": "execute_result"
    }
   ],
   "source": [
    "len(out)"
   ]
  },
  {
   "cell_type": "code",
   "execution_count": 56,
   "metadata": {},
   "outputs": [],
   "source": [
    "decay_factor_linear_df = (pd.DataFrame(index=out.index)\n",
    "                          .assign(\n",
    "                              decay_p1=decay_p1,\n",
    "                              decay_p75=decay_p75,\n",
    "                              decay_p5=decay_p5,\n",
    "                              decay_pm25=decay_pm25,\n",
    "                              decay_pm5=decay_pm5\n",
    "                              )\n",
    "                      )"
   ]
  },
  {
   "cell_type": "code",
   "execution_count": 57,
   "metadata": {},
   "outputs": [
    {
     "data": {
      "text/plain": [
       "<matplotlib.axes._subplots.AxesSubplot at 0x7efd20535630>"
      ]
     },
     "execution_count": 57,
     "metadata": {},
     "output_type": "execute_result"
    },
    {
     "data": {
      "image/png": "[encoded data removed]",
      "text/plain": [
       "<Figure size 864x720 with 1 Axes>"
      ]
     },
     "metadata": {
      "needs_background": "light"
     },
     "output_type": "display_data"
    }
   ],
   "source": [
    "decay_factor_linear_df.plot(figsize=(12,10))"
   ]
  },
  {
   "cell_type": "code",
   "execution_count": 58,
   "metadata": {},
   "outputs": [],
   "source": [
    "percent_of_zero_wts = 0.0\n",
    "decay_rate = 0.94 \n",
    "decay_exp_p99 = get_time_decay_exp(out, decay_rate=0.99, percent_of_zero_wts=percent_of_zero_wts)\n",
    "decay_exp_p94 = get_time_decay_exp(out, decay_rate=0.94, percent_of_zero_wts=percent_of_zero_wts)\n",
    "decay_exp_p100 = get_time_decay_exp(out, decay_rate=1.0, percent_of_zero_wts=percent_of_zero_wts)\n",
    "decay_exp_p99_20 = get_time_decay_exp(out, decay_rate=0.99, percent_of_zero_wts=.2)\n",
    "decay_exp_p94_20 = get_time_decay_exp(out, decay_rate=0.94, percent_of_zero_wts=0.2)"
   ]
  },
  {
   "cell_type": "code",
   "execution_count": 59,
   "metadata": {},
   "outputs": [],
   "source": [
    "decay_factor_exp_df = (pd.DataFrame(index=out.index)\n",
    "                       .assign(\n",
    "                              decay_p99=decay_exp_p99,\n",
    "                              decay_p94=decay_exp_p94,\n",
    "                              decay_p100=decay_exp_p100,\n",
    "                              decay_pm25=decay_exp_p99_20,\n",
    "                              decay_pm5=decay_exp_p94_20\n",
    "                              )\n",
    "                      )"
   ]
  },
  {
   "cell_type": "code",
   "execution_count": 60,
   "metadata": {},
   "outputs": [
    {
     "data": {
      "text/plain": [
       "<matplotlib.axes._subplots.AxesSubplot at 0x7efd1f73ba20>"
      ]
     },
     "execution_count": 60,
     "metadata": {},
     "output_type": "execute_result"
    },
    {
     "data": {
      "image/png": "[encoded data removed]",
      "text/plain": [
       "<Figure size 864x720 with 1 Axes>"
      ]
     },
     "metadata": {
      "needs_background": "light"
     },
     "output_type": "display_data"
    }
   ],
   "source": [
    "decay_factor_exp_df.plot(figsize=(12,10))"
   ]
  },
  {
   "cell_type": "markdown",
   "metadata": {},
   "source": [
    "## 4.5 Consider you have applied meta-labels to events determined by a trend-following model. Suppose that two-thirds of the labels are 0 and one third of the labels are 1.\n"
   ]
  },
  {
   "cell_type": "code",
   "execution_count": 61,
   "metadata": {},
   "outputs": [
    {
     "data": {
      "text/plain": [
       "0    218\n",
       "1     48\n",
       "Name: bin, dtype: int64"
      ]
     },
     "execution_count": 61,
     "metadata": {},
     "output_type": "execute_result"
    }
   ],
   "source": [
    "train_df['bin'].value_counts()"
   ]
  },
  {
   "cell_type": "code",
   "execution_count": 62,
   "metadata": {},
   "outputs": [],
   "source": [
    "# Create training data\n",
    "y_train = train_df['bin']\n",
    "X_train= train_df.loc[:, train_df.columns != 'bin']"
   ]
  },
  {
   "cell_type": "code",
   "execution_count": 63,
   "metadata": {},
   "outputs": [
    {
     "name": "stdout",
     "output_type": "stream",
     "text": [
      "100 5 42\n"
     ]
    }
   ],
   "source": [
    "# extract parameters\n",
    "n_estimator = 100\n",
    "depth = 5\n",
    "c_random_state = 42\n",
    "print(n_estimator, depth, c_random_state)"
   ]
  },
  {
   "cell_type": "markdown",
   "metadata": {},
   "source": [
    "### 4.5.a What happens if you fit a classfier without balancing class weights"
   ]
  },
  {
   "cell_type": "markdown",
   "metadata": {},
   "source": [
    "##### *Fit the random forest classifier and compute the performance metrics* "
   ]
  },
  {
   "cell_type": "code",
   "execution_count": 64,
   "metadata": {},
   "outputs": [
    {
     "name": "stdout",
     "output_type": "stream",
     "text": [
      "RandomForestClassifier(bootstrap=True, class_weight=None, criterion='entropy',\n",
      "                       max_depth=5, max_features='auto', max_leaf_nodes=None,\n",
      "                       min_impurity_decrease=0.0, min_impurity_split=None,\n",
      "                       min_samples_leaf=1, min_samples_split=2,\n",
      "                       min_weight_fraction_leaf=0.0, n_estimators=100,\n",
      "                       n_jobs=None, oob_score=True, random_state=42, verbose=0,\n",
      "                       warm_start=False)\n",
      "Out-of-bag Accuracy (OOB Score): 0.812030\n"
     ]
    }
   ],
   "source": [
    "# Random Forest Model\n",
    "rf = RandomForestClassifier(max_depth=depth, n_estimators=n_estimator, oob_score=True,\n",
    "                            criterion='entropy', random_state=c_random_state)\n",
    "print(rf)\n",
    "rf.fit(X_train, y_train.values.ravel())\n",
    "print(\"Out-of-bag Accuracy (OOB Score): {:.6f}\".format(rf.oob_score_))"
   ]
  },
  {
   "cell_type": "code",
   "execution_count": 65,
   "metadata": {},
   "outputs": [
    {
     "name": "stdout",
     "output_type": "stream",
     "text": [
      "              precision    recall  f1-score   support\n",
      "\n",
      "           0       0.84      1.00      0.92       218\n",
      "           1       1.00      0.17      0.29        48\n",
      "\n",
      "    accuracy                           0.85       266\n",
      "   macro avg       0.92      0.58      0.60       266\n",
      "weighted avg       0.87      0.85      0.80       266\n",
      "\n",
      "Confusion Matrix\n",
      "[[218   0]\n",
      " [ 40   8]]\n",
      "\n",
      "Accuracy\n",
      "0.849624060150376\n"
     ]
    }
   ],
   "source": [
    "# Performance Metrics\n",
    "y_pred_rf = rf.predict_proba(X_train)[:, 1]\n",
    "y_pred = rf.predict(X_train)\n",
    "fpr_rf, tpr_rf, _ = roc_curve(y_train, y_pred_rf)\n",
    "print(classification_report(y_train, y_pred))\n",
    "\n",
    "print(\"Confusion Matrix\")\n",
    "print(confusion_matrix(y_train, y_pred))\n",
    "\n",
    "print('')\n",
    "print(\"Accuracy\")\n",
    "print(accuracy_score(y_train, y_pred))"
   ]
  },
  {
   "cell_type": "markdown",
   "metadata": {},
   "source": [
    "##### *Although the accuracy is very high (84%), the recall of 1 (or true positive) is 17%. Recall is the fraction of the true positives that have been correctly picked. The confusion matrix says that TN or C(0,0) is 218 - 218 were true 0, with no mistakes in labeling FN or C(1,0) was zero. TP is C(1,1). Only 8 of the 48 were correctly labeled as 1.* "
   ]
  },
  {
   "cell_type": "code",
   "execution_count": 66,
   "metadata": {},
   "outputs": [
    {
     "name": "stdout",
     "output_type": "stream",
     "text": [
      "              precision    recall  f1-score   support\n",
      "\n",
      "           0       0.71      0.89      0.79        47\n",
      "           1       0.29      0.11      0.15        19\n",
      "\n",
      "    accuracy                           0.67        66\n",
      "   macro avg       0.50      0.50      0.47        66\n",
      "weighted avg       0.59      0.67      0.61        66\n",
      "\n",
      "Confusion Matrix\n",
      "[[42  5]\n",
      " [17  2]]\n",
      "\n",
      "Accuracy\n",
      "0.6666666666666666\n"
     ]
    }
   ],
   "source": [
    "# Meta-label\n",
    "# Performance Metrics\n",
    "y_pred_rf = rf.predict_proba(X_test)[:, 1]\n",
    "y_pred = rf.predict(X_test)\n",
    "print(classification_report(y_test, y_pred))\n",
    "\n",
    "print(\"Confusion Matrix\")\n",
    "print(confusion_matrix(y_test, y_pred))\n",
    "\n",
    "print('')\n",
    "print(\"Accuracy\")\n",
    "print(accuracy_score(y_test, y_pred))"
   ]
  },
  {
   "cell_type": "markdown",
   "metadata": {},
   "source": [
    "##### *When evaluating the out-of-sample data, the accuracy falls to 67%, the recall of 1 (or true positive) falls to 11%. Only 2 of the 19 labels were correctly identified.* "
   ]
  },
  {
   "cell_type": "markdown",
   "metadata": {},
   "source": [
    "### 4.5.b A label 1 means true positive, and a label 0 means false positive. By applying balanced class weights, we are forcing the classifer to pay more attention to the true positives, and less attention to the false positives. Why does that make sense?"
   ]
  },
  {
   "cell_type": "markdown",
   "metadata": {},
   "source": [
    "*We would like the classifier to learn how to pick true positives and it can do that better when there are more observations to learn from.*"
   ]
  },
  {
   "cell_type": "markdown",
   "metadata": {},
   "source": [
    "### 4.5.c What is the distribution of the predicted labels. before and after applying balanced class weights?"
   ]
  },
  {
   "cell_type": "code",
   "execution_count": 67,
   "metadata": {},
   "outputs": [
    {
     "name": "stdout",
     "output_type": "stream",
     "text": [
      "RandomForestClassifier(bootstrap=True, class_weight='balanced_subsample',\n",
      "                       criterion='entropy', max_depth=5, max_features='auto',\n",
      "                       max_leaf_nodes=None, min_impurity_decrease=0.0,\n",
      "                       min_impurity_split=None, min_samples_leaf=1,\n",
      "                       min_samples_split=2, min_weight_fraction_leaf=0.0,\n",
      "                       n_estimators=100, n_jobs=None, oob_score=True,\n",
      "                       random_state=42, verbose=0, warm_start=False)\n",
      "Out-of-bag Accuracy (OOB Score): 0.804511\n"
     ]
    }
   ],
   "source": [
    "# Random Forest Model\n",
    "rf = RandomForestClassifier(max_depth=depth, n_estimators=n_estimator, oob_score=True,\n",
    "                            class_weight='balanced_subsample', criterion='entropy', \n",
    "                            random_state=c_random_state)\n",
    "print(rf)\n",
    "rf.fit(X_train, y_train.values.ravel())\n",
    "print(\"Out-of-bag Accuracy (OOB Score): {:.6f}\".format(rf.oob_score_))"
   ]
  },
  {
   "cell_type": "code",
   "execution_count": 68,
   "metadata": {},
   "outputs": [],
   "source": [
    "# Create training data\n",
    "y_train = train_df['bin']\n",
    "X_train= train_df.loc[:, train_df.columns != 'bin']"
   ]
  },
  {
   "cell_type": "code",
   "execution_count": 69,
   "metadata": {},
   "outputs": [
    {
     "name": "stdout",
     "output_type": "stream",
     "text": [
      "Out-of-bag Accuracy (OOB Score): 0.804511\n"
     ]
    }
   ],
   "source": [
    "rf.fit(X_train, y_train.values.ravel())\n",
    "print(\"Out-of-bag Accuracy (OOB Score): {:.6f}\".format(rf.oob_score_))"
   ]
  },
  {
   "cell_type": "code",
   "execution_count": 70,
   "metadata": {},
   "outputs": [
    {
     "name": "stdout",
     "output_type": "stream",
     "text": [
      "              precision    recall  f1-score   support\n",
      "\n",
      "           0       0.99      1.00      0.99       218\n",
      "           1       0.98      0.96      0.97        48\n",
      "\n",
      "    accuracy                           0.99       266\n",
      "   macro avg       0.98      0.98      0.98       266\n",
      "weighted avg       0.99      0.99      0.99       266\n",
      "\n",
      "Confusion Matrix\n",
      "[[217   1]\n",
      " [  2  46]]\n",
      "\n",
      "Accuracy\n",
      "0.9887218045112782\n"
     ]
    }
   ],
   "source": [
    "# Performance Metrics\n",
    "y_pred_rf = rf.predict_proba(X_train)[:, 1]\n",
    "y_pred = rf.predict(X_train)\n",
    "fpr_rf, tpr_rf, _ = roc_curve(y_train, y_pred_rf)\n",
    "print(classification_report(y_train, y_pred))\n",
    "\n",
    "print(\"Confusion Matrix\")\n",
    "print(confusion_matrix(y_train, y_pred))\n",
    "\n",
    "print('')\n",
    "print(\"Accuracy\")\n",
    "print(accuracy_score(y_train, y_pred))"
   ]
  },
  {
   "cell_type": "code",
   "execution_count": 71,
   "metadata": {},
   "outputs": [
    {
     "name": "stdout",
     "output_type": "stream",
     "text": [
      "              precision    recall  f1-score   support\n",
      "\n",
      "           0       0.73      0.81      0.77        47\n",
      "           1       0.36      0.26      0.30        19\n",
      "\n",
      "    accuracy                           0.65        66\n",
      "   macro avg       0.54      0.54      0.54        66\n",
      "weighted avg       0.62      0.65      0.63        66\n",
      "\n",
      "Confusion Matrix\n",
      "[[38  9]\n",
      " [14  5]]\n",
      "\n",
      "Accuracy\n",
      "0.6515151515151515\n"
     ]
    }
   ],
   "source": [
    "# Meta-label\n",
    "# Performance Metrics\n",
    "y_pred_rf = rf.predict_proba(X_test)[:, 1]\n",
    "y_pred = rf.predict(X_test)\n",
    "print(classification_report(y_test, y_pred))\n",
    "\n",
    "print(\"Confusion Matrix\")\n",
    "print(confusion_matrix(y_test, y_pred))\n",
    "\n",
    "print('')\n",
    "print(\"Accuracy\")\n",
    "print(accuracy_score(y_test, y_pred))"
   ]
  },
  {
   "cell_type": "markdown",
   "metadata": {},
   "source": [
    "##### *In a balanced out-of-sample test, the recall of true positives increases to 26% from 11% - a 136% increase.* "
   ]
  },
  {
   "cell_type": "markdown",
   "metadata": {},
   "source": [
    "## 4.6 Update the draw probabilities for the final draw in Section 4.5.3\n"
   ]
  },
  {
   "cell_type": "code",
   "execution_count": 72,
   "metadata": {},
   "outputs": [],
   "source": [
    "# Snippet 4.3\n",
    "def get_ind_matrix(bar_ix, t1):\n",
    "    # get indicator matrix\n",
    "    ind_m = pd.DataFrame(0, index=bar_ix, columns=range(t1.shape[0]))\n",
    "    for i, (t0, t1) in enumerate(t1.iteritems()):\n",
    "        ind_m.loc[t0:t1, i] = 1\n",
    "    return ind_m\n",
    "\n",
    "\n",
    "def get_ind_mat_average_uniqueness(ind_mat):\n",
    "    \"\"\"\n",
    "    Snippet 4.4. page 65, Compute Average Uniqueness\n",
    "    Average uniqueness from indicator matrix\n",
    "\n",
    "    :param ind_mat: (pd.Dataframe) indicator binary matrix\n",
    "    :return: (float) average uniqueness\n",
    "    \"\"\"\n",
    "    conc = ind_mat.sum(axis=1)  # concurrency\n",
    "    unique = ind_mat.div(conc, axis=0)\n",
    "    avg_unique = unique[unique > 0].mean()  # average uniqueness\n",
    "    return avg_unique"
   ]
  },
  {
   "cell_type": "code",
   "execution_count": 73,
   "metadata": {},
   "outputs": [],
   "source": [
    "# Set-up\n",
    "tl = pd.Series([2, 3, 5], index=[0, 2, 4])  # t0, t1 for each feature obs\n",
    "bar_ix = range(tl.max() + 1)\n",
    "# ind_m = bootstrapping.get_ind_matrix(bar_ix, tl)\n",
    "ind_m = get_ind_matrix(bar_ix, tl)\n"
   ]
  },
  {
   "cell_type": "code",
   "execution_count": 74,
   "metadata": {},
   "outputs": [
    {
     "name": "stdout",
     "output_type": "stream",
     "text": [
      "Prob: 0    0.454545\n",
      "1    0.272727\n",
      "2    0.272727\n",
      "dtype: float64\n",
      "\n",
      "Phi: [1, 2, 2]\n",
      "-----------------\n"
     ]
    }
   ],
   "source": [
    "avg_u = pd.Series()\n",
    "phi = [1, 2]\n",
    "\n",
    "for i in ind_m:\n",
    "    ind_m_ = ind_m[phi + [i]]\n",
    "    # avg_u.loc[i] = bootstrapping.get_ind_mat_average_uniqueness(ind_m_).iloc[-1]\n",
    "    avg_u.loc[i] = get_ind_mat_average_uniqueness(ind_m_).iloc[-1]\n",
    "\n",
    "prob = avg_u / avg_u.sum()\n",
    "print('Prob: {}\\n'.format(prob))\n",
    "phi += [np.random.choice(ind_m.columns, p=prob)]\n",
    "print('Phi: {}'.format(phi))\n",
    "print('-----------------')"
   ]
  },
  {
   "cell_type": "markdown",
   "metadata": {},
   "source": [
    "## 4.7 Section 4.5.3, suppose that number 2 is picked again in the second draw. What would the updated probabilities for the third draw?\n"
   ]
  },
  {
   "cell_type": "code",
   "execution_count": 75,
   "metadata": {},
   "outputs": [],
   "source": [
    "# Set-up\n",
    "tl = pd.Series([2, 3, 5], index=[0, 2, 4])  # t0, t1 for each feature obs\n",
    "bar_ix = range(tl.max() + 1)\n",
    "ind_m = get_ind_matrix(bar_ix, tl)"
   ]
  },
  {
   "cell_type": "code",
   "execution_count": 76,
   "metadata": {},
   "outputs": [
    {
     "name": "stdout",
     "output_type": "stream",
     "text": [
      "Prob: 0    0.368421\n",
      "1    0.157895\n",
      "2    0.473684\n",
      "dtype: float64\n",
      "\n",
      "Phi: [1, 1, 1]\n",
      "-----------------\n"
     ]
    }
   ],
   "source": [
    "# 4.7\n",
    "phi = [1, 1]\n",
    "for i in ind_m:\n",
    "    ind_m_ = ind_m[phi + [i]]\n",
    "    avg_u.loc[i] = get_ind_mat_average_uniqueness(ind_m_).iloc[-1]\n",
    "\n",
    "prob = avg_u / avg_u.sum()\n",
    "print('Prob: {}\\n'.format(prob))\n",
    "phi += [np.random.choice(ind_m.columns, p=prob)]\n",
    "print('Phi: {}'.format(phi))\n",
    "print('-----------------')"
   ]
  },
  {
   "cell_type": "code",
   "execution_count": null,
   "metadata": {},
   "outputs": [],
   "source": [
    "# Completed"
   ]
  }
 ],
 "metadata": {
  "kernelspec": {
   "display_name": "Python 3",
   "language": "python",
   "name": "python3"
  },
  "language_info": {
   "codemirror_mode": {
    "name": "ipython",
    "version": 3
   },
   "file_extension": ".py",
   "mimetype": "text/x-python",
   "name": "python",
   "nbconvert_exporter": "python",
   "pygments_lexer": "ipython3",
   "version": "3.6.8"
  }
 },
 "nbformat": 4,
 "nbformat_minor": 2
}
