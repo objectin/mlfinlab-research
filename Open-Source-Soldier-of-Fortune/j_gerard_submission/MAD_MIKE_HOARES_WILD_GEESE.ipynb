{
 "cells": [
  {
   "cell_type": "code",
   "execution_count": 1,
   "metadata": {},
   "outputs": [],
   "source": [
    "import pandas as pd\n",
    "import numpy as np\n",
    "import matplotlib.pyplot as plt\n",
    "import scipy\n",
    "import xarray\n",
    "import dask\n",
    "from kruskal import daily_log_returns, compute_distance, KruskalMST"
   ]
  },
  {
   "cell_type": "markdown",
   "metadata": {},
   "source": [
    "### Introduction\n",
    "\n",
    "The KruskalMST class provides a method for computing the minimum spanning tree of a network according to Kruskal's algorithm. The class takes as input, a pandas dataframe as a constructor. Upon initialization, the graph is constructed by iterating through the i,j indexes of the dataframe and adding new edges with distances. Edges are only added if they do not exist. All nodes are connected to edges since we have a symmetrical matrix. \n",
    "\n",
    "KruskalMST draws heavily on networkX's implementation of min spanning tree. Upon deeper analysis, the networkx implementation itself is built on a Unionfind data structure found in other python implementations. \n",
    "\n",
    "IO and distance computation are not functions built into the class but are methods available upon import of the module. \n",
    "\n"
   ]
  },
  {
   "cell_type": "markdown",
   "metadata": {},
   "source": [
    "Create a list of tickers that you want to consider\n",
    "* The 'daily_log_returns' function takes a list\n",
    "* This function will perform the API call to yfinance and compute log returns on daily close for each ticker\n",
    "* Individual tickers are concatenated into larger df"
   ]
  },
  {
   "cell_type": "code",
   "execution_count": 2,
   "metadata": {},
   "outputs": [],
   "source": [
    "\n",
    "shares = ['USCI', 'GLD', 'TLT', 'VXX', 'SPY']"
   ]
  },
  {
   "cell_type": "markdown",
   "metadata": {},
   "source": [
    "#### Compute the daily log returns on close for the shares in our universe"
   ]
  },
  {
   "cell_type": "code",
   "execution_count": 3,
   "metadata": {},
   "outputs": [],
   "source": [
    "returns_df = daily_log_returns(shares)"
   ]
  },
  {
   "cell_type": "code",
   "execution_count": 4,
   "metadata": {},
   "outputs": [
    {
     "data": {
      "text/html": [
       "<div>\n",
       "<style scoped>\n",
       "    .dataframe tbody tr th:only-of-type {\n",
       "        vertical-align: middle;\n",
       "    }\n",
       "\n",
       "    .dataframe tbody tr th {\n",
       "        vertical-align: top;\n",
       "    }\n",
       "\n",
       "    .dataframe thead th {\n",
       "        text-align: right;\n",
       "    }\n",
       "</style>\n",
       "<table border=\"1\" class=\"dataframe\">\n",
       "  <thead>\n",
       "    <tr style=\"text-align: right;\">\n",
       "      <th></th>\n",
       "      <th>log_return_USCI</th>\n",
       "      <th>log_return_GLD</th>\n",
       "      <th>log_return_TLT</th>\n",
       "      <th>log_return_VXX</th>\n",
       "      <th>log_return_SPY</th>\n",
       "    </tr>\n",
       "    <tr>\n",
       "      <th>Date</th>\n",
       "      <th></th>\n",
       "      <th></th>\n",
       "      <th></th>\n",
       "      <th></th>\n",
       "      <th></th>\n",
       "    </tr>\n",
       "  </thead>\n",
       "  <tbody>\n",
       "    <tr>\n",
       "      <td>2020-03-02</td>\n",
       "      <td>0.019689</td>\n",
       "      <td>0.005511</td>\n",
       "      <td>-0.007378</td>\n",
       "      <td>-0.034794</td>\n",
       "      <td>0.042395</td>\n",
       "    </tr>\n",
       "    <tr>\n",
       "      <td>2020-03-03</td>\n",
       "      <td>0.006582</td>\n",
       "      <td>0.030950</td>\n",
       "      <td>0.015406</td>\n",
       "      <td>0.104225</td>\n",
       "      <td>-0.029050</td>\n",
       "    </tr>\n",
       "    <tr>\n",
       "      <td>2020-03-04</td>\n",
       "      <td>-0.004383</td>\n",
       "      <td>0.001753</td>\n",
       "      <td>-0.010675</td>\n",
       "      <td>-0.061136</td>\n",
       "      <td>0.041174</td>\n",
       "    </tr>\n",
       "    <tr>\n",
       "      <td>2020-03-05</td>\n",
       "      <td>-0.012630</td>\n",
       "      <td>0.021371</td>\n",
       "      <td>0.024587</td>\n",
       "      <td>0.148420</td>\n",
       "      <td>-0.033807</td>\n",
       "    </tr>\n",
       "    <tr>\n",
       "      <td>2020-03-06</td>\n",
       "      <td>-0.024121</td>\n",
       "      <td>0.000381</td>\n",
       "      <td>0.050735</td>\n",
       "      <td>0.111265</td>\n",
       "      <td>-0.016669</td>\n",
       "    </tr>\n",
       "  </tbody>\n",
       "</table>\n",
       "</div>"
      ],
      "text/plain": [
       "            log_return_USCI  log_return_GLD  log_return_TLT  log_return_VXX  \\\n",
       "Date                                                                          \n",
       "2020-03-02         0.019689        0.005511       -0.007378       -0.034794   \n",
       "2020-03-03         0.006582        0.030950        0.015406        0.104225   \n",
       "2020-03-04        -0.004383        0.001753       -0.010675       -0.061136   \n",
       "2020-03-05        -0.012630        0.021371        0.024587        0.148420   \n",
       "2020-03-06        -0.024121        0.000381        0.050735        0.111265   \n",
       "\n",
       "            log_return_SPY  \n",
       "Date                        \n",
       "2020-03-02        0.042395  \n",
       "2020-03-03       -0.029050  \n",
       "2020-03-04        0.041174  \n",
       "2020-03-05       -0.033807  \n",
       "2020-03-06       -0.016669  "
      ]
     },
     "execution_count": 4,
     "metadata": {},
     "output_type": "execute_result"
    }
   ],
   "source": [
    "returns_df.tail()"
   ]
  },
  {
   "cell_type": "markdown",
   "metadata": {},
   "source": [
    "#### Compute distance matrix for the returns in our universe\n",
    "* The correlation method used here is Pearson, the default method from pandas."
   ]
  },
  {
   "cell_type": "code",
   "execution_count": 5,
   "metadata": {},
   "outputs": [],
   "source": [
    "distance_matrix = compute_distance(returns_df)"
   ]
  },
  {
   "cell_type": "code",
   "execution_count": 6,
   "metadata": {},
   "outputs": [
    {
     "data": {
      "text/html": [
       "<div>\n",
       "<style scoped>\n",
       "    .dataframe tbody tr th:only-of-type {\n",
       "        vertical-align: middle;\n",
       "    }\n",
       "\n",
       "    .dataframe tbody tr th {\n",
       "        vertical-align: top;\n",
       "    }\n",
       "\n",
       "    .dataframe thead th {\n",
       "        text-align: right;\n",
       "    }\n",
       "</style>\n",
       "<table border=\"1\" class=\"dataframe\">\n",
       "  <thead>\n",
       "    <tr style=\"text-align: right;\">\n",
       "      <th></th>\n",
       "      <th>log_return_USCI</th>\n",
       "      <th>log_return_GLD</th>\n",
       "      <th>log_return_TLT</th>\n",
       "      <th>log_return_VXX</th>\n",
       "      <th>log_return_SPY</th>\n",
       "    </tr>\n",
       "  </thead>\n",
       "  <tbody>\n",
       "    <tr>\n",
       "      <td>log_return_USCI</td>\n",
       "      <td>0.000000</td>\n",
       "      <td>1.147153</td>\n",
       "      <td>1.576177</td>\n",
       "      <td>1.644134</td>\n",
       "      <td>1.081592</td>\n",
       "    </tr>\n",
       "    <tr>\n",
       "      <td>log_return_GLD</td>\n",
       "      <td>1.147153</td>\n",
       "      <td>0.000000</td>\n",
       "      <td>1.316910</td>\n",
       "      <td>1.395006</td>\n",
       "      <td>1.399472</td>\n",
       "    </tr>\n",
       "    <tr>\n",
       "      <td>log_return_TLT</td>\n",
       "      <td>1.576177</td>\n",
       "      <td>1.316910</td>\n",
       "      <td>0.000000</td>\n",
       "      <td>1.106574</td>\n",
       "      <td>1.678964</td>\n",
       "    </tr>\n",
       "    <tr>\n",
       "      <td>log_return_VXX</td>\n",
       "      <td>1.644134</td>\n",
       "      <td>1.395006</td>\n",
       "      <td>1.106574</td>\n",
       "      <td>0.000000</td>\n",
       "      <td>1.901607</td>\n",
       "    </tr>\n",
       "    <tr>\n",
       "      <td>log_return_SPY</td>\n",
       "      <td>1.081592</td>\n",
       "      <td>1.399472</td>\n",
       "      <td>1.678964</td>\n",
       "      <td>1.901607</td>\n",
       "      <td>0.000000</td>\n",
       "    </tr>\n",
       "  </tbody>\n",
       "</table>\n",
       "</div>"
      ],
      "text/plain": [
       "                 log_return_USCI  log_return_GLD  log_return_TLT  \\\n",
       "log_return_USCI         0.000000        1.147153        1.576177   \n",
       "log_return_GLD          1.147153        0.000000        1.316910   \n",
       "log_return_TLT          1.576177        1.316910        0.000000   \n",
       "log_return_VXX          1.644134        1.395006        1.106574   \n",
       "log_return_SPY          1.081592        1.399472        1.678964   \n",
       "\n",
       "                 log_return_VXX  log_return_SPY  \n",
       "log_return_USCI        1.644134        1.081592  \n",
       "log_return_GLD         1.395006        1.399472  \n",
       "log_return_TLT         1.106574        1.678964  \n",
       "log_return_VXX         0.000000        1.901607  \n",
       "log_return_SPY         1.901607        0.000000  "
      ]
     },
     "execution_count": 6,
     "metadata": {},
     "output_type": "execute_result"
    }
   ],
   "source": [
    "distance_matrix"
   ]
  },
  {
   "cell_type": "markdown",
   "metadata": {},
   "source": [
    "#### We construct a Graph object\n",
    "*  `KruskalMST` class is simply a` networkx` `Graph` object with Vertices and Edges\n",
    "* When a matrix is given to the constructor, edges and vertices are added  for every edge `(i,j)` in the matrix \n"
   ]
  },
  {
   "cell_type": "code",
   "execution_count": 7,
   "metadata": {},
   "outputs": [],
   "source": [
    "g = KruskalMST(distance_matrix)"
   ]
  },
  {
   "cell_type": "markdown",
   "metadata": {},
   "source": [
    "#### We call `min_span_tree` method on the graph object\n",
    "* This method finds the minimum spanning tree of the graph object\n",
    "* `min_span_tree` calls a private method `min_span_edges` that finds the minimum spanning edges of graph"
   ]
  },
  {
   "cell_type": "code",
   "execution_count": 8,
   "metadata": {},
   "outputs": [],
   "source": [
    "T = g.min_span_tree()"
   ]
  },
  {
   "cell_type": "markdown",
   "metadata": {},
   "source": [
    "#### Let's have a look at our graph edges \n",
    "*` Networkx` is a great library for doing graph analysis. Lots of useful attrs on the `Graph` object"
   ]
  },
  {
   "cell_type": "code",
   "execution_count": 9,
   "metadata": {},
   "outputs": [
    {
     "data": {
      "text/plain": [
       "EdgeView([('log_return_USCI', 'log_return_GLD'), ('log_return_GLD', 'log_return_SPY'), ('log_return_GLD', 'log_return_TLT'), ('log_return_GLD', 'log_return_VXX')])"
      ]
     },
     "execution_count": 9,
     "metadata": {},
     "output_type": "execute_result"
    }
   ],
   "source": [
    "T.edges()"
   ]
  },
  {
   "cell_type": "markdown",
   "metadata": {},
   "source": [
    "#### We can use networkx to visualize the network structure"
   ]
  },
  {
   "cell_type": "code",
   "execution_count": 10,
   "metadata": {},
   "outputs": [
    {
     "data": {
      "image/png": "[encoded data removed]",
      "text/plain": [
       "<Figure size 432x288 with 1 Axes>"
      ]
     },
     "metadata": {},
     "output_type": "display_data"
    }
   ],
   "source": [
    "import networkx \n",
    "networkx.draw_networkx(T)"
   ]
  },
  {
   "cell_type": "code",
   "execution_count": 11,
   "metadata": {},
   "outputs": [
    {
     "data": {
      "image/png": "[encoded data removed]",
      "text/plain": [
       "<Figure size 432x288 with 1 Axes>"
      ]
     },
     "metadata": {},
     "output_type": "display_data"
    }
   ],
   "source": [
    "networkx.draw(g.graph)\n"
   ]
  }
 ],
 "metadata": {
  "kernelspec": {
   "display_name": "Python 3",
   "language": "python",
   "name": "python3"
  },
  "language_info": {
   "codemirror_mode": {
    "name": "ipython",
    "version": 3
   },
   "file_extension": ".py",
   "mimetype": "text/x-python",
   "name": "python",
   "nbconvert_exporter": "python",
   "pygments_lexer": "ipython3",
   "version": "3.6.9"
  }
 },
 "nbformat": 4,
 "nbformat_minor": 4
}
